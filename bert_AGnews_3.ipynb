{
  "nbformat": 4,
  "nbformat_minor": 0,
  "metadata": {
    "colab": {
      "name": "bert_AGnews_3.ipynb",
      "provenance": [],
      "collapsed_sections": [],
      "include_colab_link": true
    },
    "kernelspec": {
      "name": "python3",
      "display_name": "Python 3"
    },
    "accelerator": "GPU",
    "widgets": {
      "application/vnd.jupyter.widget-state+json": {
        "1885f27ad63f46ee94ba8ae2fc83e0e9": {
          "model_module": "@jupyter-widgets/controls",
          "model_name": "HBoxModel",
          "state": {
            "_view_name": "HBoxView",
            "_dom_classes": [],
            "_model_name": "HBoxModel",
            "_view_module": "@jupyter-widgets/controls",
            "_model_module_version": "1.5.0",
            "_view_count": null,
            "_view_module_version": "1.5.0",
            "box_style": "",
            "layout": "IPY_MODEL_d40f281106a94848a54d2f9257ae734e",
            "_model_module": "@jupyter-widgets/controls",
            "children": [
              "IPY_MODEL_4c1ec8a5b51444aca945381e79407bfe",
              "IPY_MODEL_3db7b6dd27084c39849434dd3fb96830"
            ]
          }
        },
        "d40f281106a94848a54d2f9257ae734e": {
          "model_module": "@jupyter-widgets/base",
          "model_name": "LayoutModel",
          "state": {
            "_view_name": "LayoutView",
            "grid_template_rows": null,
            "right": null,
            "justify_content": null,
            "_view_module": "@jupyter-widgets/base",
            "overflow": null,
            "_model_module_version": "1.2.0",
            "_view_count": null,
            "flex_flow": null,
            "width": null,
            "min_width": null,
            "border": null,
            "align_items": null,
            "bottom": null,
            "_model_module": "@jupyter-widgets/base",
            "top": null,
            "grid_column": null,
            "overflow_y": null,
            "overflow_x": null,
            "grid_auto_flow": null,
            "grid_area": null,
            "grid_template_columns": null,
            "flex": null,
            "_model_name": "LayoutModel",
            "justify_items": null,
            "grid_row": null,
            "max_height": null,
            "align_content": null,
            "visibility": null,
            "align_self": null,
            "height": null,
            "min_height": null,
            "padding": null,
            "grid_auto_rows": null,
            "grid_gap": null,
            "max_width": null,
            "order": null,
            "_view_module_version": "1.2.0",
            "grid_template_areas": null,
            "object_position": null,
            "object_fit": null,
            "grid_auto_columns": null,
            "margin": null,
            "display": null,
            "left": null
          }
        },
        "4c1ec8a5b51444aca945381e79407bfe": {
          "model_module": "@jupyter-widgets/controls",
          "model_name": "FloatProgressModel",
          "state": {
            "_view_name": "ProgressView",
            "style": "IPY_MODEL_a248a3a26f5a4e85af28ff9d03c9834b",
            "_dom_classes": [],
            "description": "100%",
            "_model_name": "FloatProgressModel",
            "bar_style": "success",
            "max": 1000,
            "_view_module": "@jupyter-widgets/controls",
            "_model_module_version": "1.5.0",
            "value": 1000,
            "_view_count": null,
            "_view_module_version": "1.5.0",
            "orientation": "horizontal",
            "min": 0,
            "description_tooltip": null,
            "_model_module": "@jupyter-widgets/controls",
            "layout": "IPY_MODEL_74d798bbc4bc4c27b4767553cfb2ebbc"
          }
        },
        "3db7b6dd27084c39849434dd3fb96830": {
          "model_module": "@jupyter-widgets/controls",
          "model_name": "HTMLModel",
          "state": {
            "_view_name": "HTMLView",
            "style": "IPY_MODEL_ccdedb95027a435094779d7359cad3c6",
            "_dom_classes": [],
            "description": "",
            "_model_name": "HTMLModel",
            "placeholder": "​",
            "_view_module": "@jupyter-widgets/controls",
            "_model_module_version": "1.5.0",
            "value": " 1000/1000 [00:14&lt;00:00, 69.45it/s]",
            "_view_count": null,
            "_view_module_version": "1.5.0",
            "description_tooltip": null,
            "_model_module": "@jupyter-widgets/controls",
            "layout": "IPY_MODEL_f642804137794224b109f94c095bca92"
          }
        },
        "a248a3a26f5a4e85af28ff9d03c9834b": {
          "model_module": "@jupyter-widgets/controls",
          "model_name": "ProgressStyleModel",
          "state": {
            "_view_name": "StyleView",
            "_model_name": "ProgressStyleModel",
            "description_width": "initial",
            "_view_module": "@jupyter-widgets/base",
            "_model_module_version": "1.5.0",
            "_view_count": null,
            "_view_module_version": "1.2.0",
            "bar_color": null,
            "_model_module": "@jupyter-widgets/controls"
          }
        },
        "74d798bbc4bc4c27b4767553cfb2ebbc": {
          "model_module": "@jupyter-widgets/base",
          "model_name": "LayoutModel",
          "state": {
            "_view_name": "LayoutView",
            "grid_template_rows": null,
            "right": null,
            "justify_content": null,
            "_view_module": "@jupyter-widgets/base",
            "overflow": null,
            "_model_module_version": "1.2.0",
            "_view_count": null,
            "flex_flow": null,
            "width": null,
            "min_width": null,
            "border": null,
            "align_items": null,
            "bottom": null,
            "_model_module": "@jupyter-widgets/base",
            "top": null,
            "grid_column": null,
            "overflow_y": null,
            "overflow_x": null,
            "grid_auto_flow": null,
            "grid_area": null,
            "grid_template_columns": null,
            "flex": null,
            "_model_name": "LayoutModel",
            "justify_items": null,
            "grid_row": null,
            "max_height": null,
            "align_content": null,
            "visibility": null,
            "align_self": null,
            "height": null,
            "min_height": null,
            "padding": null,
            "grid_auto_rows": null,
            "grid_gap": null,
            "max_width": null,
            "order": null,
            "_view_module_version": "1.2.0",
            "grid_template_areas": null,
            "object_position": null,
            "object_fit": null,
            "grid_auto_columns": null,
            "margin": null,
            "display": null,
            "left": null
          }
        },
        "ccdedb95027a435094779d7359cad3c6": {
          "model_module": "@jupyter-widgets/controls",
          "model_name": "DescriptionStyleModel",
          "state": {
            "_view_name": "StyleView",
            "_model_name": "DescriptionStyleModel",
            "description_width": "",
            "_view_module": "@jupyter-widgets/base",
            "_model_module_version": "1.5.0",
            "_view_count": null,
            "_view_module_version": "1.2.0",
            "_model_module": "@jupyter-widgets/controls"
          }
        },
        "f642804137794224b109f94c095bca92": {
          "model_module": "@jupyter-widgets/base",
          "model_name": "LayoutModel",
          "state": {
            "_view_name": "LayoutView",
            "grid_template_rows": null,
            "right": null,
            "justify_content": null,
            "_view_module": "@jupyter-widgets/base",
            "overflow": null,
            "_model_module_version": "1.2.0",
            "_view_count": null,
            "flex_flow": null,
            "width": null,
            "min_width": null,
            "border": null,
            "align_items": null,
            "bottom": null,
            "_model_module": "@jupyter-widgets/base",
            "top": null,
            "grid_column": null,
            "overflow_y": null,
            "overflow_x": null,
            "grid_auto_flow": null,
            "grid_area": null,
            "grid_template_columns": null,
            "flex": null,
            "_model_name": "LayoutModel",
            "justify_items": null,
            "grid_row": null,
            "max_height": null,
            "align_content": null,
            "visibility": null,
            "align_self": null,
            "height": null,
            "min_height": null,
            "padding": null,
            "grid_auto_rows": null,
            "grid_gap": null,
            "max_width": null,
            "order": null,
            "_view_module_version": "1.2.0",
            "grid_template_areas": null,
            "object_position": null,
            "object_fit": null,
            "grid_auto_columns": null,
            "margin": null,
            "display": null,
            "left": null
          }
        },
        "4caa6a3dae8641b7a98bd624ec465b72": {
          "model_module": "@jupyter-widgets/controls",
          "model_name": "HBoxModel",
          "state": {
            "_view_name": "HBoxView",
            "_dom_classes": [],
            "_model_name": "HBoxModel",
            "_view_module": "@jupyter-widgets/controls",
            "_model_module_version": "1.5.0",
            "_view_count": null,
            "_view_module_version": "1.5.0",
            "box_style": "",
            "layout": "IPY_MODEL_d5bdb19c41164148b9f0dda60f5bca64",
            "_model_module": "@jupyter-widgets/controls",
            "children": [
              "IPY_MODEL_79f8065052bf4b9abc5b939d6d3bd7e1",
              "IPY_MODEL_e6e7af8632cc45a594a340515eb1b996"
            ]
          }
        },
        "d5bdb19c41164148b9f0dda60f5bca64": {
          "model_module": "@jupyter-widgets/base",
          "model_name": "LayoutModel",
          "state": {
            "_view_name": "LayoutView",
            "grid_template_rows": null,
            "right": null,
            "justify_content": null,
            "_view_module": "@jupyter-widgets/base",
            "overflow": null,
            "_model_module_version": "1.2.0",
            "_view_count": null,
            "flex_flow": null,
            "width": null,
            "min_width": null,
            "border": null,
            "align_items": null,
            "bottom": null,
            "_model_module": "@jupyter-widgets/base",
            "top": null,
            "grid_column": null,
            "overflow_y": null,
            "overflow_x": null,
            "grid_auto_flow": null,
            "grid_area": null,
            "grid_template_columns": null,
            "flex": null,
            "_model_name": "LayoutModel",
            "justify_items": null,
            "grid_row": null,
            "max_height": null,
            "align_content": null,
            "visibility": null,
            "align_self": null,
            "height": null,
            "min_height": null,
            "padding": null,
            "grid_auto_rows": null,
            "grid_gap": null,
            "max_width": null,
            "order": null,
            "_view_module_version": "1.2.0",
            "grid_template_areas": null,
            "object_position": null,
            "object_fit": null,
            "grid_auto_columns": null,
            "margin": null,
            "display": null,
            "left": null
          }
        },
        "79f8065052bf4b9abc5b939d6d3bd7e1": {
          "model_module": "@jupyter-widgets/controls",
          "model_name": "FloatProgressModel",
          "state": {
            "_view_name": "ProgressView",
            "style": "IPY_MODEL_cfed9bf0f0734694bf53bb1d1de77928",
            "_dom_classes": [],
            "description": "100%",
            "_model_name": "FloatProgressModel",
            "bar_style": "success",
            "max": 1000,
            "_view_module": "@jupyter-widgets/controls",
            "_model_module_version": "1.5.0",
            "value": 1000,
            "_view_count": null,
            "_view_module_version": "1.5.0",
            "orientation": "horizontal",
            "min": 0,
            "description_tooltip": null,
            "_model_module": "@jupyter-widgets/controls",
            "layout": "IPY_MODEL_0fbbe0d87b314c729abee2707b8ab75f"
          }
        },
        "e6e7af8632cc45a594a340515eb1b996": {
          "model_module": "@jupyter-widgets/controls",
          "model_name": "HTMLModel",
          "state": {
            "_view_name": "HTMLView",
            "style": "IPY_MODEL_107336ad292e4995a58c6fa60982ba1f",
            "_dom_classes": [],
            "description": "",
            "_model_name": "HTMLModel",
            "placeholder": "​",
            "_view_module": "@jupyter-widgets/controls",
            "_model_module_version": "1.5.0",
            "value": " 1000/1000 [00:08&lt;00:00, 120.75it/s]",
            "_view_count": null,
            "_view_module_version": "1.5.0",
            "description_tooltip": null,
            "_model_module": "@jupyter-widgets/controls",
            "layout": "IPY_MODEL_05a4a04c8488443aa0dc32c4ed571f50"
          }
        },
        "cfed9bf0f0734694bf53bb1d1de77928": {
          "model_module": "@jupyter-widgets/controls",
          "model_name": "ProgressStyleModel",
          "state": {
            "_view_name": "StyleView",
            "_model_name": "ProgressStyleModel",
            "description_width": "initial",
            "_view_module": "@jupyter-widgets/base",
            "_model_module_version": "1.5.0",
            "_view_count": null,
            "_view_module_version": "1.2.0",
            "bar_color": null,
            "_model_module": "@jupyter-widgets/controls"
          }
        },
        "0fbbe0d87b314c729abee2707b8ab75f": {
          "model_module": "@jupyter-widgets/base",
          "model_name": "LayoutModel",
          "state": {
            "_view_name": "LayoutView",
            "grid_template_rows": null,
            "right": null,
            "justify_content": null,
            "_view_module": "@jupyter-widgets/base",
            "overflow": null,
            "_model_module_version": "1.2.0",
            "_view_count": null,
            "flex_flow": null,
            "width": null,
            "min_width": null,
            "border": null,
            "align_items": null,
            "bottom": null,
            "_model_module": "@jupyter-widgets/base",
            "top": null,
            "grid_column": null,
            "overflow_y": null,
            "overflow_x": null,
            "grid_auto_flow": null,
            "grid_area": null,
            "grid_template_columns": null,
            "flex": null,
            "_model_name": "LayoutModel",
            "justify_items": null,
            "grid_row": null,
            "max_height": null,
            "align_content": null,
            "visibility": null,
            "align_self": null,
            "height": null,
            "min_height": null,
            "padding": null,
            "grid_auto_rows": null,
            "grid_gap": null,
            "max_width": null,
            "order": null,
            "_view_module_version": "1.2.0",
            "grid_template_areas": null,
            "object_position": null,
            "object_fit": null,
            "grid_auto_columns": null,
            "margin": null,
            "display": null,
            "left": null
          }
        },
        "107336ad292e4995a58c6fa60982ba1f": {
          "model_module": "@jupyter-widgets/controls",
          "model_name": "DescriptionStyleModel",
          "state": {
            "_view_name": "StyleView",
            "_model_name": "DescriptionStyleModel",
            "description_width": "",
            "_view_module": "@jupyter-widgets/base",
            "_model_module_version": "1.5.0",
            "_view_count": null,
            "_view_module_version": "1.2.0",
            "_model_module": "@jupyter-widgets/controls"
          }
        },
        "05a4a04c8488443aa0dc32c4ed571f50": {
          "model_module": "@jupyter-widgets/base",
          "model_name": "LayoutModel",
          "state": {
            "_view_name": "LayoutView",
            "grid_template_rows": null,
            "right": null,
            "justify_content": null,
            "_view_module": "@jupyter-widgets/base",
            "overflow": null,
            "_model_module_version": "1.2.0",
            "_view_count": null,
            "flex_flow": null,
            "width": null,
            "min_width": null,
            "border": null,
            "align_items": null,
            "bottom": null,
            "_model_module": "@jupyter-widgets/base",
            "top": null,
            "grid_column": null,
            "overflow_y": null,
            "overflow_x": null,
            "grid_auto_flow": null,
            "grid_area": null,
            "grid_template_columns": null,
            "flex": null,
            "_model_name": "LayoutModel",
            "justify_items": null,
            "grid_row": null,
            "max_height": null,
            "align_content": null,
            "visibility": null,
            "align_self": null,
            "height": null,
            "min_height": null,
            "padding": null,
            "grid_auto_rows": null,
            "grid_gap": null,
            "max_width": null,
            "order": null,
            "_view_module_version": "1.2.0",
            "grid_template_areas": null,
            "object_position": null,
            "object_fit": null,
            "grid_auto_columns": null,
            "margin": null,
            "display": null,
            "left": null
          }
        }
      }
    }
  },
  "cells": [
    {
      "cell_type": "markdown",
      "metadata": {
        "id": "view-in-github",
        "colab_type": "text"
      },
      "source": [
        "<a href=\"https://colab.research.google.com/github/buzhangjiuzhou/DLfinal/blob/master/bert_AGnews_3.ipynb\" target=\"_parent\"><img src=\"https://colab.research.google.com/assets/colab-badge.svg\" alt=\"Open In Colab\"/></a>"
      ]
    },
    {
      "cell_type": "code",
      "metadata": {
        "id": "Xx1UegbARdfH",
        "colab_type": "code",
        "colab": {
          "base_uri": "https://localhost:8080/",
          "height": 377
        },
        "outputId": "fda5f72b-768d-4fbc-e26b-56d0e7ddf812"
      },
      "source": [
        "# 导入包\n",
        "# transformer提供了一些训练好的模型，可以很方便的使用。\n",
        "!pip install transformers\n",
        "import tensorflow as tf\n",
        "import pandas as pd\n",
        "import os\n",
        "import tqdm\n",
        "# 使用分类的模型，增加了一个head用于分类。\n",
        "from transformers import BertTokenizer, TFBertForSequenceClassification\n",
        "from sklearn.model_selection import train_test_split\n",
        "import matplotlib.pyplot as plt\n",
        "import math\n",
        "% matplotlib inline\n",
        "\n",
        "tf.__version__"
      ],
      "execution_count": 23,
      "outputs": [
        {
          "output_type": "stream",
          "text": [
            "Requirement already satisfied: transformers in /usr/local/lib/python3.6/dist-packages (3.0.2)\n",
            "Requirement already satisfied: dataclasses; python_version < \"3.7\" in /usr/local/lib/python3.6/dist-packages (from transformers) (0.7)\n",
            "Requirement already satisfied: packaging in /usr/local/lib/python3.6/dist-packages (from transformers) (20.4)\n",
            "Requirement already satisfied: numpy in /usr/local/lib/python3.6/dist-packages (from transformers) (1.18.5)\n",
            "Requirement already satisfied: sacremoses in /usr/local/lib/python3.6/dist-packages (from transformers) (0.0.43)\n",
            "Requirement already satisfied: requests in /usr/local/lib/python3.6/dist-packages (from transformers) (2.23.0)\n",
            "Requirement already satisfied: tqdm>=4.27 in /usr/local/lib/python3.6/dist-packages (from transformers) (4.41.1)\n",
            "Requirement already satisfied: regex!=2019.12.17 in /usr/local/lib/python3.6/dist-packages (from transformers) (2019.12.20)\n",
            "Requirement already satisfied: sentencepiece!=0.1.92 in /usr/local/lib/python3.6/dist-packages (from transformers) (0.1.91)\n",
            "Requirement already satisfied: tokenizers==0.8.1.rc1 in /usr/local/lib/python3.6/dist-packages (from transformers) (0.8.1rc1)\n",
            "Requirement already satisfied: filelock in /usr/local/lib/python3.6/dist-packages (from transformers) (3.0.12)\n",
            "Requirement already satisfied: six in /usr/local/lib/python3.6/dist-packages (from packaging->transformers) (1.15.0)\n",
            "Requirement already satisfied: pyparsing>=2.0.2 in /usr/local/lib/python3.6/dist-packages (from packaging->transformers) (2.4.7)\n",
            "Requirement already satisfied: joblib in /usr/local/lib/python3.6/dist-packages (from sacremoses->transformers) (0.16.0)\n",
            "Requirement already satisfied: click in /usr/local/lib/python3.6/dist-packages (from sacremoses->transformers) (7.1.2)\n",
            "Requirement already satisfied: urllib3!=1.25.0,!=1.25.1,<1.26,>=1.21.1 in /usr/local/lib/python3.6/dist-packages (from requests->transformers) (1.24.3)\n",
            "Requirement already satisfied: chardet<4,>=3.0.2 in /usr/local/lib/python3.6/dist-packages (from requests->transformers) (3.0.4)\n",
            "Requirement already satisfied: certifi>=2017.4.17 in /usr/local/lib/python3.6/dist-packages (from requests->transformers) (2020.6.20)\n",
            "Requirement already satisfied: idna<3,>=2.5 in /usr/local/lib/python3.6/dist-packages (from requests->transformers) (2.10)\n"
          ],
          "name": "stdout"
        },
        {
          "output_type": "execute_result",
          "data": {
            "application/vnd.google.colaboratory.intrinsic+json": {
              "type": "string"
            },
            "text/plain": [
              "'2.2.0'"
            ]
          },
          "metadata": {
            "tags": []
          },
          "execution_count": 23
        }
      ]
    },
    {
      "cell_type": "code",
      "metadata": {
        "id": "a0giWORbAR2O",
        "colab_type": "code",
        "colab": {
          "base_uri": "https://localhost:8080/",
          "height": 955
        },
        "outputId": "bd0badf5-6f16-4b86-b194-00ecb419133f"
      },
      "source": [
        "# 导入现成的模型和分词器\n",
        "tokenizer = BertTokenizer.from_pretrained('bert-base-uncased')\n",
        "model = TFBertForSequenceClassification.from_pretrained(\"bert-base-uncased\", num_labels=4) # 分类类别数\n",
        "model.summary()\n",
        "model.config"
      ],
      "execution_count": 24,
      "outputs": [
        {
          "output_type": "stream",
          "text": [
            "Some weights of the model checkpoint at bert-base-uncased were not used when initializing TFBertForSequenceClassification: ['nsp___cls', 'mlm___cls']\n",
            "- This IS expected if you are initializing TFBertForSequenceClassification from the checkpoint of a model trained on another task or with another architecture (e.g. initializing a BertForSequenceClassification model from a BertForPretraining model).\n",
            "- This IS NOT expected if you are initializing TFBertForSequenceClassification from the checkpoint of a model that you expect to be exactly identical (initializing a BertForSequenceClassification model from a BertForSequenceClassification model).\n",
            "Some weights of TFBertForSequenceClassification were not initialized from the model checkpoint at bert-base-uncased and are newly initialized: ['classifier', 'dropout_75']\n",
            "You should probably TRAIN this model on a down-stream task to be able to use it for predictions and inference.\n"
          ],
          "name": "stderr"
        },
        {
          "output_type": "stream",
          "text": [
            "Model: \"tf_bert_for_sequence_classification_1\"\n",
            "_________________________________________________________________\n",
            "Layer (type)                 Output Shape              Param #   \n",
            "=================================================================\n",
            "bert (TFBertMainLayer)       multiple                  109482240 \n",
            "_________________________________________________________________\n",
            "dropout_75 (Dropout)         multiple                  0         \n",
            "_________________________________________________________________\n",
            "classifier (Dense)           multiple                  3076      \n",
            "=================================================================\n",
            "Total params: 109,485,316\n",
            "Trainable params: 109,485,316\n",
            "Non-trainable params: 0\n",
            "_________________________________________________________________\n"
          ],
          "name": "stdout"
        },
        {
          "output_type": "execute_result",
          "data": {
            "text/plain": [
              "BertConfig {\n",
              "  \"architectures\": [\n",
              "    \"BertForMaskedLM\"\n",
              "  ],\n",
              "  \"attention_probs_dropout_prob\": 0.1,\n",
              "  \"gradient_checkpointing\": false,\n",
              "  \"hidden_act\": \"gelu\",\n",
              "  \"hidden_dropout_prob\": 0.1,\n",
              "  \"hidden_size\": 768,\n",
              "  \"id2label\": {\n",
              "    \"0\": \"LABEL_0\",\n",
              "    \"1\": \"LABEL_1\",\n",
              "    \"2\": \"LABEL_2\",\n",
              "    \"3\": \"LABEL_3\"\n",
              "  },\n",
              "  \"initializer_range\": 0.02,\n",
              "  \"intermediate_size\": 3072,\n",
              "  \"label2id\": {\n",
              "    \"LABEL_0\": 0,\n",
              "    \"LABEL_1\": 1,\n",
              "    \"LABEL_2\": 2,\n",
              "    \"LABEL_3\": 3\n",
              "  },\n",
              "  \"layer_norm_eps\": 1e-12,\n",
              "  \"max_position_embeddings\": 512,\n",
              "  \"model_type\": \"bert\",\n",
              "  \"num_attention_heads\": 12,\n",
              "  \"num_hidden_layers\": 12,\n",
              "  \"pad_token_id\": 0,\n",
              "  \"type_vocab_size\": 2,\n",
              "  \"vocab_size\": 30522\n",
              "}"
            ]
          },
          "metadata": {
            "tags": []
          },
          "execution_count": 24
        }
      ]
    },
    {
      "cell_type": "code",
      "metadata": {
        "id": "4lAvVC1IlUZT",
        "colab_type": "code",
        "colab": {
          "base_uri": "https://localhost:8080/",
          "height": 305
        },
        "outputId": "b94a76d5-0294-4970-a673-3680cdbc344c"
      },
      "source": [
        "# 简单分类算法\n",
        "model_compare = tf.keras.Sequential([\n",
        "    tf.keras.layers.Embedding(30522, 64),\n",
        "    tf.keras.layers.Bidirectional(tf.keras.layers.LSTM(64)),\n",
        "    tf.keras.layers.Dense(64, activation='relu'),\n",
        "    tf.keras.layers.Dense(4)\n",
        "])\n",
        "model_compare.summary()"
      ],
      "execution_count": 25,
      "outputs": [
        {
          "output_type": "stream",
          "text": [
            "Model: \"sequential_2\"\n",
            "_________________________________________________________________\n",
            "Layer (type)                 Output Shape              Param #   \n",
            "=================================================================\n",
            "embedding_2 (Embedding)      (None, None, 64)          1953408   \n",
            "_________________________________________________________________\n",
            "bidirectional_2 (Bidirection (None, 128)               66048     \n",
            "_________________________________________________________________\n",
            "dense_4 (Dense)              (None, 64)                8256      \n",
            "_________________________________________________________________\n",
            "dense_5 (Dense)              (None, 4)                 260       \n",
            "=================================================================\n",
            "Total params: 2,027,972\n",
            "Trainable params: 2,027,972\n",
            "Non-trainable params: 0\n",
            "_________________________________________________________________\n"
          ],
          "name": "stdout"
        }
      ]
    },
    {
      "cell_type": "code",
      "metadata": {
        "id": "JasImGjMRqFj",
        "colab_type": "code",
        "colab": {}
      },
      "source": [
        "# 数据链接，可以在 https://course.fast.ai/datasets 找到。\n",
        "# agnews数据集，类别，标题，描述。\n",
        "ag_url = 'https://s3.amazonaws.com/fast-ai-nlp/ag_news_csv.tgz'"
      ],
      "execution_count": 26,
      "outputs": []
    },
    {
      "cell_type": "code",
      "metadata": {
        "id": "CSHGPWGtSA7E",
        "colab_type": "code",
        "colab": {
          "base_uri": "https://localhost:8080/",
          "height": 35
        },
        "outputId": "8ea4b6fd-fb4c-4807-f6af-d97d52a3ac9e"
      },
      "source": [
        "# 下载数据，并指定此时数据集的目录\n",
        "ag_zip_file = tf.keras.utils.get_file(origin=ag_url,fname='ag_news_csv.tgz', extract=True)\n",
        "base_dir = os.path.join(os.path.dirname(ag_zip_file), 'ag_news_csv')\n",
        "os.listdir(base_dir)"
      ],
      "execution_count": 27,
      "outputs": [
        {
          "output_type": "execute_result",
          "data": {
            "text/plain": [
              "['readme.txt', 'classes.txt', 'test.csv', 'train.csv']"
            ]
          },
          "metadata": {
            "tags": []
          },
          "execution_count": 27
        }
      ]
    },
    {
      "cell_type": "code",
      "metadata": {
        "id": "0BYSiEligwzF",
        "colab_type": "code",
        "colab": {
          "base_uri": "https://localhost:8080/",
          "height": 359
        },
        "outputId": "0083feae-0fe5-46c3-fcee-79b7fa398d71"
      },
      "source": [
        "# 读取数据\n",
        "# 为了方便测试代码的时候少用几个数据,1000个数据可以让准确率上升到0.68\n",
        "num = 1000\n",
        "train = pd.read_csv(os.path.join(base_dir, 'train.csv'), header=None)\n",
        "train = train.sample(n=num)\n",
        "print(len(train))\n",
        "print(train.head())\n",
        "test = pd.read_csv(os.path.join(base_dir, 'test.csv'), header=None)\n",
        "test = test.sample(n=num)\n",
        "print(len(test))\n",
        "print(test.head())\n",
        "f = open(os.path.join(base_dir, 'classes.txt'))\n",
        "classes = f.readlines()\n",
        "classes = [s.strip() for s in classes]\n",
        "print(classes)"
      ],
      "execution_count": 28,
      "outputs": [
        {
          "output_type": "stream",
          "text": [
            "1000\n",
            "       0  ...                                                  2\n",
            "7443   3  ...   DETROIT (Reuters) - General Motors Corp. is r...\n",
            "88272  4  ...  In the night of 15-16 November, ESA #39;s Smar...\n",
            "48697  1  ...  As U.S. and Iraqi troops patrolled the battere...\n",
            "95840  3  ...  What a mess. Weeks after Merck  amp; Co. (MRK ...\n",
            "28791  1  ...  Reuters - Director George Butler says he hasn'...\n",
            "\n",
            "[5 rows x 3 columns]\n",
            "1000\n",
            "      0  ...                                                  2\n",
            "3012  4  ...  Did you know that the Earth is constantly humm...\n",
            "951   4  ...  We spotlight people and products that pester u...\n",
            "1854  4  ...  Iomega Corp. is soon expected to ship its firs...\n",
            "945   2  ...  Who would have thought that the Dallas Cowboys...\n",
            "7440  4  ...  As the holidays approach, Christmas spirit is ...\n",
            "\n",
            "[5 rows x 3 columns]\n",
            "['World', 'Sports', 'Business', 'Sci/Tech']\n"
          ],
          "name": "stdout"
        }
      ]
    },
    {
      "cell_type": "code",
      "metadata": {
        "id": "Eh_bZhMsuZB-",
        "colab_type": "code",
        "colab": {}
      },
      "source": [
        "# transformers自带的tokenizer中的encoder会把一段文本进行编码，然后增加上CLS和SEP，其中CLS的id是101，SEP的编码是102,PAD是0。\n",
        "# 所以  a   dog   is  not   a   table\n",
        "# [cls]  a   dog   is  not   a   table  [sep]\n",
        "# 101   1037  3899  2003 2025  1037  2795   102   0  0  0  ...  0 \n",
        "# %pprint #让列表横过来，好看一些。\n",
        "# tokenizer.encode(text='a dog is not a table', padding='max_length',max_length=512)[:20]"
      ],
      "execution_count": 29,
      "outputs": []
    },
    {
      "cell_type": "code",
      "metadata": {
        "id": "cBGAtYI3SR8G",
        "colab_type": "code",
        "colab": {
          "base_uri": "https://localhost:8080/",
          "height": 117,
          "referenced_widgets": [
            "1885f27ad63f46ee94ba8ae2fc83e0e9",
            "d40f281106a94848a54d2f9257ae734e",
            "4c1ec8a5b51444aca945381e79407bfe",
            "3db7b6dd27084c39849434dd3fb96830",
            "a248a3a26f5a4e85af28ff9d03c9834b",
            "74d798bbc4bc4c27b4767553cfb2ebbc",
            "ccdedb95027a435094779d7359cad3c6",
            "f642804137794224b109f94c095bca92",
            "4caa6a3dae8641b7a98bd624ec465b72",
            "d5bdb19c41164148b9f0dda60f5bca64",
            "79f8065052bf4b9abc5b939d6d3bd7e1",
            "e6e7af8632cc45a594a340515eb1b996",
            "cfed9bf0f0734694bf53bb1d1de77928",
            "0fbbe0d87b314c729abee2707b8ab75f",
            "107336ad292e4995a58c6fa60982ba1f",
            "05a4a04c8488443aa0dc32c4ed571f50"
          ]
        },
        "outputId": "6cad2359-b70d-4576-df4e-49a9e2d47126"
      },
      "source": [
        "# 预处理数据\n",
        "# 按照上面的例子把数据集中的文本进行分词处理，并且得到对应的labels。\n",
        "max_length = 256\n",
        "max_length_temp = max_length - 2\n",
        "train_ids = []\n",
        "test_ids = []\n",
        "for i in tqdm.notebook.trange(train.shape[0]):\n",
        "  if len(train[2][train[2].index[i]]) > max_length_temp:\n",
        "    train_ids.append(tokenizer.encode(text=train[2][train[2].index[i]][0 : max_length_temp], padding='max_length', max_length=max_length, return_tensors=\"tf\"))\n",
        "  else:\n",
        "    train_ids.append(tokenizer.encode(text=train[2][train[2].index[i]], padding='max_length', max_length=max_length, return_tensors=\"tf\"))\n",
        "for i in tqdm.notebook.trange(test.shape[0]):\n",
        "  if len(test[2][test[2].index[i]]) > max_length_temp:\n",
        "    test_ids.append(tokenizer.encode(text=test[2][test[2].index[i]][0 : max_length_temp], padding='max_length', max_length=max_length, return_tensors=\"tf\"))\n",
        "  else:\n",
        "    test_ids.append(tokenizer.encode(text=test[2][test[2].index[i]], padding='max_length', max_length=max_length, return_tensors=\"tf\"))\n",
        "train_labels = train[0].values - 1\n",
        "test_labels = test[0].values - 1"
      ],
      "execution_count": 32,
      "outputs": [
        {
          "output_type": "display_data",
          "data": {
            "application/vnd.jupyter.widget-view+json": {
              "model_id": "1885f27ad63f46ee94ba8ae2fc83e0e9",
              "version_minor": 0,
              "version_major": 2
            },
            "text/plain": [
              "HBox(children=(FloatProgress(value=0.0, max=1000.0), HTML(value='')))"
            ]
          },
          "metadata": {
            "tags": []
          }
        },
        {
          "output_type": "stream",
          "text": [
            "\n"
          ],
          "name": "stdout"
        },
        {
          "output_type": "display_data",
          "data": {
            "application/vnd.jupyter.widget-view+json": {
              "model_id": "4caa6a3dae8641b7a98bd624ec465b72",
              "version_minor": 0,
              "version_major": 2
            },
            "text/plain": [
              "HBox(children=(FloatProgress(value=0.0, max=1000.0), HTML(value='')))"
            ]
          },
          "metadata": {
            "tags": []
          }
        },
        {
          "output_type": "stream",
          "text": [
            "\n"
          ],
          "name": "stdout"
        }
      ]
    },
    {
      "cell_type": "code",
      "metadata": {
        "id": "SucNjO6sQT9K",
        "colab_type": "code",
        "colab": {}
      },
      "source": [
        "# 把数据转成tensorflow张量\n",
        "# train_ids是tf.Tensor组成得列表，所以用concat组合一下就行\n",
        "train_ids = tf.concat(train_ids, 0)\n",
        "# 把train_mask初始化为1，然后把train_ids等于0（PAD的部分）对应的值赋为0\n",
        "train_mask = tf.ones(train_ids.shape)\n",
        "train_mask = tf.where(tf.math.greater(train_ids, 0), train_mask, 0)\n",
        "# labels本身是numpy数组，转为tf.Tensor\n",
        "train_labels = tf.convert_to_tensor(train_labels)\n",
        "\n",
        "# 测试集的处理同理test\n",
        "test_ids = tf.concat(test_ids, 0)\n",
        "test_mask = tf.ones(test_ids.shape)\n",
        "test_mask = tf.where(tf.math.greater(test_ids, 0), test_mask, 0)\n",
        "test_labels = tf.convert_to_tensor(test_labels)"
      ],
      "execution_count": 33,
      "outputs": []
    },
    {
      "cell_type": "code",
      "metadata": {
        "id": "I0aaG0cYFj2R",
        "colab_type": "code",
        "colab": {
          "base_uri": "https://localhost:8080/",
          "height": 665
        },
        "outputId": "22d8a2fb-cf1a-4771-cf27-d0b7bd22f047"
      },
      "source": [
        "print(train_ids[0])\n",
        "print(train_mask[0])\n",
        "print(train_labels[0])"
      ],
      "execution_count": 34,
      "outputs": [
        {
          "output_type": "stream",
          "text": [
            "tf.Tensor(\n",
            "[  101  5626  1006 26665  1007  1011  2236  9693 13058  1012  2003 21195\n",
            "  2062  2084  3590  1010  2199  1997  2049 14724 13642  2080  4942  9006\n",
            " 19498  2102  3765  2138  1997  1037  4022  3291  2007  2037  4373  2835\n",
            "  3808 18000  1012   102     0     0     0     0     0     0     0     0\n",
            "     0     0     0     0     0     0     0     0     0     0     0     0\n",
            "     0     0     0     0     0     0     0     0     0     0     0     0\n",
            "     0     0     0     0     0     0     0     0     0     0     0     0\n",
            "     0     0     0     0     0     0     0     0     0     0     0     0\n",
            "     0     0     0     0     0     0     0     0     0     0     0     0\n",
            "     0     0     0     0     0     0     0     0     0     0     0     0\n",
            "     0     0     0     0     0     0     0     0     0     0     0     0\n",
            "     0     0     0     0     0     0     0     0     0     0     0     0\n",
            "     0     0     0     0     0     0     0     0     0     0     0     0\n",
            "     0     0     0     0     0     0     0     0     0     0     0     0\n",
            "     0     0     0     0     0     0     0     0     0     0     0     0\n",
            "     0     0     0     0     0     0     0     0     0     0     0     0\n",
            "     0     0     0     0     0     0     0     0     0     0     0     0\n",
            "     0     0     0     0     0     0     0     0     0     0     0     0\n",
            "     0     0     0     0     0     0     0     0     0     0     0     0\n",
            "     0     0     0     0     0     0     0     0     0     0     0     0\n",
            "     0     0     0     0     0     0     0     0     0     0     0     0\n",
            "     0     0     0     0], shape=(256,), dtype=int32)\n",
            "tf.Tensor(\n",
            "[1. 1. 1. 1. 1. 1. 1. 1. 1. 1. 1. 1. 1. 1. 1. 1. 1. 1. 1. 1. 1. 1. 1. 1.\n",
            " 1. 1. 1. 1. 1. 1. 1. 1. 1. 1. 1. 1. 1. 1. 1. 1. 0. 0. 0. 0. 0. 0. 0. 0.\n",
            " 0. 0. 0. 0. 0. 0. 0. 0. 0. 0. 0. 0. 0. 0. 0. 0. 0. 0. 0. 0. 0. 0. 0. 0.\n",
            " 0. 0. 0. 0. 0. 0. 0. 0. 0. 0. 0. 0. 0. 0. 0. 0. 0. 0. 0. 0. 0. 0. 0. 0.\n",
            " 0. 0. 0. 0. 0. 0. 0. 0. 0. 0. 0. 0. 0. 0. 0. 0. 0. 0. 0. 0. 0. 0. 0. 0.\n",
            " 0. 0. 0. 0. 0. 0. 0. 0. 0. 0. 0. 0. 0. 0. 0. 0. 0. 0. 0. 0. 0. 0. 0. 0.\n",
            " 0. 0. 0. 0. 0. 0. 0. 0. 0. 0. 0. 0. 0. 0. 0. 0. 0. 0. 0. 0. 0. 0. 0. 0.\n",
            " 0. 0. 0. 0. 0. 0. 0. 0. 0. 0. 0. 0. 0. 0. 0. 0. 0. 0. 0. 0. 0. 0. 0. 0.\n",
            " 0. 0. 0. 0. 0. 0. 0. 0. 0. 0. 0. 0. 0. 0. 0. 0. 0. 0. 0. 0. 0. 0. 0. 0.\n",
            " 0. 0. 0. 0. 0. 0. 0. 0. 0. 0. 0. 0. 0. 0. 0. 0. 0. 0. 0. 0. 0. 0. 0. 0.\n",
            " 0. 0. 0. 0. 0. 0. 0. 0. 0. 0. 0. 0. 0. 0. 0. 0.], shape=(256,), dtype=float32)\n",
            "tf.Tensor(2, shape=(), dtype=int64)\n"
          ],
          "name": "stdout"
        }
      ]
    },
    {
      "cell_type": "code",
      "metadata": {
        "id": "9XUKs5A_19zE",
        "colab_type": "code",
        "colab": {}
      },
      "source": [
        "# 训练参数\n",
        "epochs = 10\n",
        "batch_size = 16\n",
        "validation_rate = 0.1"
      ],
      "execution_count": 50,
      "outputs": []
    },
    {
      "cell_type": "code",
      "metadata": {
        "id": "4F2dKeUi3nGV",
        "colab_type": "code",
        "colab": {}
      },
      "source": [
        "# 模型编译\n",
        "optimizer = tf.keras.optimizers.Adam(learning_rate=3e-5, epsilon=1e-08, clipnorm=1.0)\n",
        "loss = tf.keras.losses.SparseCategoricalCrossentropy(from_logits=True)\n",
        "metric = tf.keras.metrics.SparseCategoricalAccuracy('accuracy')\n",
        "model.compile(optimizer=optimizer, loss=loss, metrics=[metric])\n",
        "model_compare.compile(optimizer=optimizer, loss=loss, metrics=[metric])"
      ],
      "execution_count": 51,
      "outputs": []
    },
    {
      "cell_type": "code",
      "metadata": {
        "id": "lC9Y5UGV8VT6",
        "colab_type": "code",
        "colab": {
          "base_uri": "https://localhost:8080/",
          "height": 377
        },
        "outputId": "874552d4-374e-4d7f-e8b4-fc8e54f482d4"
      },
      "source": [
        "# 模型训练\n",
        "history = model.fit(x=[train_ids, train_mask], \n",
        "     y=train_labels, \n",
        "     batch_size=batch_size, \n",
        "     epochs=epochs, \n",
        "     verbose=1, \n",
        "     callbacks=None,\n",
        "    #  validation_split=validation_rate, \n",
        "    #  validation_data=None, \n",
        "     shuffle=True)"
      ],
      "execution_count": 52,
      "outputs": [
        {
          "output_type": "stream",
          "text": [
            "Epoch 1/10\n",
            "63/63 [==============================] - 54s 859ms/step - loss: 0.1932 - accuracy: 0.9390\n",
            "Epoch 2/10\n",
            "63/63 [==============================] - 53s 848ms/step - loss: 0.0891 - accuracy: 0.9770\n",
            "Epoch 3/10\n",
            "63/63 [==============================] - 54s 850ms/step - loss: 0.0473 - accuracy: 0.9880\n",
            "Epoch 4/10\n",
            "63/63 [==============================] - 54s 850ms/step - loss: 0.0257 - accuracy: 0.9950\n",
            "Epoch 5/10\n",
            "63/63 [==============================] - 54s 850ms/step - loss: 0.0158 - accuracy: 0.9950\n",
            "Epoch 6/10\n",
            "63/63 [==============================] - 53s 848ms/step - loss: 0.0086 - accuracy: 0.9980\n",
            "Epoch 7/10\n",
            "63/63 [==============================] - 53s 848ms/step - loss: 0.0106 - accuracy: 0.9990\n",
            "Epoch 8/10\n",
            "63/63 [==============================] - 53s 847ms/step - loss: 0.0063 - accuracy: 0.9990\n",
            "Epoch 9/10\n",
            "63/63 [==============================] - 53s 848ms/step - loss: 0.0018 - accuracy: 1.0000\n",
            "Epoch 10/10\n",
            "63/63 [==============================] - 53s 848ms/step - loss: 0.0013 - accuracy: 1.0000\n"
          ],
          "name": "stdout"
        }
      ]
    },
    {
      "cell_type": "code",
      "metadata": {
        "id": "ILJtTOV3UkM3",
        "colab_type": "code",
        "colab": {
          "base_uri": "https://localhost:8080/",
          "height": 377
        },
        "outputId": "fc9f2f45-d065-40fd-8e6d-0f4bc9a325b6"
      },
      "source": [
        "history_compare = model_compare.fit(\n",
        "    x=[train_ids, train_mask],\n",
        "    y=train_labels,\n",
        "    batch_size=batch_size, \n",
        "    epochs=epochs,\n",
        "    verbose=1,\n",
        "    callbacks=None,\n",
        "    shuffle=True\n",
        ")"
      ],
      "execution_count": 54,
      "outputs": [
        {
          "output_type": "stream",
          "text": [
            "Epoch 1/10\n",
            "63/63 [==============================] - 2s 35ms/step - loss: 1.3856 - accuracy: 0.6006\n",
            "Epoch 2/10\n",
            "63/63 [==============================] - 2s 34ms/step - loss: 1.3824 - accuracy: 0.2770\n",
            "Epoch 3/10\n",
            "63/63 [==============================] - 2s 33ms/step - loss: 1.3796 - accuracy: 0.2860\n",
            "Epoch 4/10\n",
            "63/63 [==============================] - 2s 33ms/step - loss: 1.3752 - accuracy: 0.2770\n",
            "Epoch 5/10\n",
            "63/63 [==============================] - 2s 33ms/step - loss: 1.3664 - accuracy: 0.2770\n",
            "Epoch 6/10\n",
            "63/63 [==============================] - 2s 33ms/step - loss: 1.3457 - accuracy: 0.4200\n",
            "Epoch 7/10\n",
            "63/63 [==============================] - 2s 33ms/step - loss: 1.3100 - accuracy: 0.4270\n",
            "Epoch 8/10\n",
            "63/63 [==============================] - 2s 33ms/step - loss: 1.2438 - accuracy: 0.5340\n",
            "Epoch 9/10\n",
            "63/63 [==============================] - 2s 33ms/step - loss: 1.1004 - accuracy: 0.5270\n",
            "Epoch 10/10\n",
            "63/63 [==============================] - 2s 33ms/step - loss: 1.0540 - accuracy: 0.5480\n"
          ],
          "name": "stdout"
        }
      ]
    },
    {
      "cell_type": "code",
      "metadata": {
        "id": "Ly4iDgmklcy5",
        "colab_type": "code",
        "colab": {
          "base_uri": "https://localhost:8080/",
          "height": 53
        },
        "outputId": "c69937b2-a796-48c6-f705-aac022718d4c"
      },
      "source": [
        "# 模型测试\n",
        "model.evaluate(x=[test_ids, test_mask],\n",
        "        y=test_labels, \n",
        "        batch_size=4, \n",
        "        verbose=1)"
      ],
      "execution_count": 55,
      "outputs": [
        {
          "output_type": "stream",
          "text": [
            "250/250 [==============================] - 19s 74ms/step - loss: 0.5857 - accuracy: 0.8920\n"
          ],
          "name": "stdout"
        },
        {
          "output_type": "execute_result",
          "data": {
            "text/plain": [
              "[0.5856884121894836, 0.8920000195503235]"
            ]
          },
          "metadata": {
            "tags": []
          },
          "execution_count": 55
        }
      ]
    },
    {
      "cell_type": "code",
      "metadata": {
        "id": "F8ME3Dv0U-UL",
        "colab_type": "code",
        "colab": {
          "base_uri": "https://localhost:8080/",
          "height": 53
        },
        "outputId": "61ead07f-d33c-4401-a75e-a8e3177b25cd"
      },
      "source": [
        "model_compare.evaluate(x=[test_ids, test_mask],\n",
        "        y=test_labels, \n",
        "        batch_size=4, \n",
        "        verbose=1)"
      ],
      "execution_count": 56,
      "outputs": [
        {
          "output_type": "stream",
          "text": [
            "250/250 [==============================] - 2s 8ms/step - loss: 1.1645 - accuracy: 0.4650\n"
          ],
          "name": "stdout"
        },
        {
          "output_type": "execute_result",
          "data": {
            "text/plain": [
              "[1.1644525527954102, 0.4650000035762787]"
            ]
          },
          "metadata": {
            "tags": []
          },
          "execution_count": 56
        }
      ]
    },
    {
      "cell_type": "code",
      "metadata": {
        "id": "hqvrDdKplstd",
        "colab_type": "code",
        "colab": {}
      },
      "source": [
        "# 画图\n",
        "def plot_graphs(history, metric):\n",
        "  plt.plot(history.history[metric])\n",
        "  plt.xlabel(\"Epochs\")\n",
        "  plt.ylabel(metric)\n",
        "  plt.show()"
      ],
      "execution_count": 61,
      "outputs": []
    },
    {
      "cell_type": "code",
      "metadata": {
        "id": "fQxWNfp2Zls1",
        "colab_type": "code",
        "colab": {
          "base_uri": "https://localhost:8080/",
          "height": 279
        },
        "outputId": "32760646-1bdd-468f-f5df-4460c20549cd"
      },
      "source": [
        "plot_graphs(history, 'accuracy')"
      ],
      "execution_count": 62,
      "outputs": [
        {
          "output_type": "display_data",
          "data": {
            "image/png": "[encoded data removed]",
            "text/plain": [
              "<Figure size 432x288 with 1 Axes>"
            ]
          },
          "metadata": {
            "tags": [],
            "needs_background": "light"
          }
        }
      ]
    },
    {
      "cell_type": "code",
      "metadata": {
        "id": "4FEqmdV6ZzuR",
        "colab_type": "code",
        "colab": {
          "base_uri": "https://localhost:8080/",
          "height": 279
        },
        "outputId": "d021ed86-f4c3-4ff9-acee-cc4c8707f05f"
      },
      "source": [
        "plot_graphs(history_compare, 'accuracy')"
      ],
      "execution_count": 63,
      "outputs": [
        {
          "output_type": "display_data",
          "data": {
            "image/png": "[encoded data removed]",
            "text/plain": [
              "<Figure size 432x288 with 1 Axes>"
            ]
          },
          "metadata": {
            "tags": [],
            "needs_background": "light"
          }
        }
      ]
    },
    {
      "cell_type": "code",
      "metadata": {
        "id": "N51ba878lwcL",
        "colab_type": "code",
        "colab": {}
      },
      "source": [
        "# 准确率"
      ],
      "execution_count": null,
      "outputs": []
    },
    {
      "cell_type": "code",
      "metadata": {
        "id": "MjYQfvFPl5jg",
        "colab_type": "code",
        "colab": {}
      },
      "source": [
        "# 参数的影响"
      ],
      "execution_count": null,
      "outputs": []
    },
    {
      "cell_type": "code",
      "metadata": {
        "id": "XEA7rf91mEbA",
        "colab_type": "code",
        "colab": {}
      },
      "source": [
        "# 类表征的余弦相似性"
      ],
      "execution_count": null,
      "outputs": []
    },
    {
      "cell_type": "code",
      "metadata": {
        "id": "jvufPWPnmT8I",
        "colab_type": "code",
        "colab": {}
      },
      "source": [
        "# t-SNE分析"
      ],
      "execution_count": null,
      "outputs": []
    }
  ]
}