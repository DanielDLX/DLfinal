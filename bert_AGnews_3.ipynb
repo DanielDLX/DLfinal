{
  "nbformat": 4,
  "nbformat_minor": 0,
  "metadata": {
    "colab": {
      "name": "bert_AGnews_3.ipynb",
      "provenance": [],
      "collapsed_sections": [],
      "include_colab_link": true
    },
    "kernelspec": {
      "name": "python3",
      "display_name": "Python 3"
    },
    "accelerator": "GPU",
    "widgets": {
      "application/vnd.jupyter.widget-state+json": {
        "053dfb1e0fc64da8bc4d5a211d76fe62": {
          "model_module": "@jupyter-widgets/controls",
          "model_name": "HBoxModel",
          "state": {
            "_view_name": "HBoxView",
            "_dom_classes": [],
            "_model_name": "HBoxModel",
            "_view_module": "@jupyter-widgets/controls",
            "_model_module_version": "1.5.0",
            "_view_count": null,
            "_view_module_version": "1.5.0",
            "box_style": "",
            "layout": "IPY_MODEL_5afcfddc283b49a8a5d72c12c151f77f",
            "_model_module": "@jupyter-widgets/controls",
            "children": [
              "IPY_MODEL_31eecab98b904dbf9d6e6bed9aef35f2",
              "IPY_MODEL_14a07b22ebed488799ddeb13dce7ffdc"
            ]
          }
        },
        "5afcfddc283b49a8a5d72c12c151f77f": {
          "model_module": "@jupyter-widgets/base",
          "model_name": "LayoutModel",
          "state": {
            "_view_name": "LayoutView",
            "grid_template_rows": null,
            "right": null,
            "justify_content": null,
            "_view_module": "@jupyter-widgets/base",
            "overflow": null,
            "_model_module_version": "1.2.0",
            "_view_count": null,
            "flex_flow": null,
            "width": null,
            "min_width": null,
            "border": null,
            "align_items": null,
            "bottom": null,
            "_model_module": "@jupyter-widgets/base",
            "top": null,
            "grid_column": null,
            "overflow_y": null,
            "overflow_x": null,
            "grid_auto_flow": null,
            "grid_area": null,
            "grid_template_columns": null,
            "flex": null,
            "_model_name": "LayoutModel",
            "justify_items": null,
            "grid_row": null,
            "max_height": null,
            "align_content": null,
            "visibility": null,
            "align_self": null,
            "height": null,
            "min_height": null,
            "padding": null,
            "grid_auto_rows": null,
            "grid_gap": null,
            "max_width": null,
            "order": null,
            "_view_module_version": "1.2.0",
            "grid_template_areas": null,
            "object_position": null,
            "object_fit": null,
            "grid_auto_columns": null,
            "margin": null,
            "display": null,
            "left": null
          }
        },
        "31eecab98b904dbf9d6e6bed9aef35f2": {
          "model_module": "@jupyter-widgets/controls",
          "model_name": "FloatProgressModel",
          "state": {
            "_view_name": "ProgressView",
            "style": "IPY_MODEL_ffe773fd04bb488cb0396954feb5fdf8",
            "_dom_classes": [],
            "description": "100%",
            "_model_name": "FloatProgressModel",
            "bar_style": "success",
            "max": 120000,
            "_view_module": "@jupyter-widgets/controls",
            "_model_module_version": "1.5.0",
            "value": 120000,
            "_view_count": null,
            "_view_module_version": "1.5.0",
            "orientation": "horizontal",
            "min": 0,
            "description_tooltip": null,
            "_model_module": "@jupyter-widgets/controls",
            "layout": "IPY_MODEL_b9a250a8310940d69ebe0099cab00c61"
          }
        },
        "14a07b22ebed488799ddeb13dce7ffdc": {
          "model_module": "@jupyter-widgets/controls",
          "model_name": "HTMLModel",
          "state": {
            "_view_name": "HTMLView",
            "style": "IPY_MODEL_9292a2a1d9e54006ae6701197e4c9bb7",
            "_dom_classes": [],
            "description": "",
            "_model_name": "HTMLModel",
            "placeholder": "​",
            "_view_module": "@jupyter-widgets/controls",
            "_model_module_version": "1.5.0",
            "value": " 120000/120000 [01:39&lt;00:00, 1203.25it/s]",
            "_view_count": null,
            "_view_module_version": "1.5.0",
            "description_tooltip": null,
            "_model_module": "@jupyter-widgets/controls",
            "layout": "IPY_MODEL_9026a808d8c640688b8ec5e16fd5084f"
          }
        },
        "ffe773fd04bb488cb0396954feb5fdf8": {
          "model_module": "@jupyter-widgets/controls",
          "model_name": "ProgressStyleModel",
          "state": {
            "_view_name": "StyleView",
            "_model_name": "ProgressStyleModel",
            "description_width": "initial",
            "_view_module": "@jupyter-widgets/base",
            "_model_module_version": "1.5.0",
            "_view_count": null,
            "_view_module_version": "1.2.0",
            "bar_color": null,
            "_model_module": "@jupyter-widgets/controls"
          }
        },
        "b9a250a8310940d69ebe0099cab00c61": {
          "model_module": "@jupyter-widgets/base",
          "model_name": "LayoutModel",
          "state": {
            "_view_name": "LayoutView",
            "grid_template_rows": null,
            "right": null,
            "justify_content": null,
            "_view_module": "@jupyter-widgets/base",
            "overflow": null,
            "_model_module_version": "1.2.0",
            "_view_count": null,
            "flex_flow": null,
            "width": null,
            "min_width": null,
            "border": null,
            "align_items": null,
            "bottom": null,
            "_model_module": "@jupyter-widgets/base",
            "top": null,
            "grid_column": null,
            "overflow_y": null,
            "overflow_x": null,
            "grid_auto_flow": null,
            "grid_area": null,
            "grid_template_columns": null,
            "flex": null,
            "_model_name": "LayoutModel",
            "justify_items": null,
            "grid_row": null,
            "max_height": null,
            "align_content": null,
            "visibility": null,
            "align_self": null,
            "height": null,
            "min_height": null,
            "padding": null,
            "grid_auto_rows": null,
            "grid_gap": null,
            "max_width": null,
            "order": null,
            "_view_module_version": "1.2.0",
            "grid_template_areas": null,
            "object_position": null,
            "object_fit": null,
            "grid_auto_columns": null,
            "margin": null,
            "display": null,
            "left": null
          }
        },
        "9292a2a1d9e54006ae6701197e4c9bb7": {
          "model_module": "@jupyter-widgets/controls",
          "model_name": "DescriptionStyleModel",
          "state": {
            "_view_name": "StyleView",
            "_model_name": "DescriptionStyleModel",
            "description_width": "",
            "_view_module": "@jupyter-widgets/base",
            "_model_module_version": "1.5.0",
            "_view_count": null,
            "_view_module_version": "1.2.0",
            "_model_module": "@jupyter-widgets/controls"
          }
        },
        "9026a808d8c640688b8ec5e16fd5084f": {
          "model_module": "@jupyter-widgets/base",
          "model_name": "LayoutModel",
          "state": {
            "_view_name": "LayoutView",
            "grid_template_rows": null,
            "right": null,
            "justify_content": null,
            "_view_module": "@jupyter-widgets/base",
            "overflow": null,
            "_model_module_version": "1.2.0",
            "_view_count": null,
            "flex_flow": null,
            "width": null,
            "min_width": null,
            "border": null,
            "align_items": null,
            "bottom": null,
            "_model_module": "@jupyter-widgets/base",
            "top": null,
            "grid_column": null,
            "overflow_y": null,
            "overflow_x": null,
            "grid_auto_flow": null,
            "grid_area": null,
            "grid_template_columns": null,
            "flex": null,
            "_model_name": "LayoutModel",
            "justify_items": null,
            "grid_row": null,
            "max_height": null,
            "align_content": null,
            "visibility": null,
            "align_self": null,
            "height": null,
            "min_height": null,
            "padding": null,
            "grid_auto_rows": null,
            "grid_gap": null,
            "max_width": null,
            "order": null,
            "_view_module_version": "1.2.0",
            "grid_template_areas": null,
            "object_position": null,
            "object_fit": null,
            "grid_auto_columns": null,
            "margin": null,
            "display": null,
            "left": null
          }
        },
        "a38b98bb6c4b4051930e051adbb42b64": {
          "model_module": "@jupyter-widgets/controls",
          "model_name": "HBoxModel",
          "state": {
            "_view_name": "HBoxView",
            "_dom_classes": [],
            "_model_name": "HBoxModel",
            "_view_module": "@jupyter-widgets/controls",
            "_model_module_version": "1.5.0",
            "_view_count": null,
            "_view_module_version": "1.5.0",
            "box_style": "",
            "layout": "IPY_MODEL_58f5b88c5e8f42f1b127dfa5ca5d6873",
            "_model_module": "@jupyter-widgets/controls",
            "children": [
              "IPY_MODEL_c9ef8fd16c0d4580b7b9daad19e3609f",
              "IPY_MODEL_6baeca50033e4ac3951c1e8537be94a1"
            ]
          }
        },
        "58f5b88c5e8f42f1b127dfa5ca5d6873": {
          "model_module": "@jupyter-widgets/base",
          "model_name": "LayoutModel",
          "state": {
            "_view_name": "LayoutView",
            "grid_template_rows": null,
            "right": null,
            "justify_content": null,
            "_view_module": "@jupyter-widgets/base",
            "overflow": null,
            "_model_module_version": "1.2.0",
            "_view_count": null,
            "flex_flow": null,
            "width": null,
            "min_width": null,
            "border": null,
            "align_items": null,
            "bottom": null,
            "_model_module": "@jupyter-widgets/base",
            "top": null,
            "grid_column": null,
            "overflow_y": null,
            "overflow_x": null,
            "grid_auto_flow": null,
            "grid_area": null,
            "grid_template_columns": null,
            "flex": null,
            "_model_name": "LayoutModel",
            "justify_items": null,
            "grid_row": null,
            "max_height": null,
            "align_content": null,
            "visibility": null,
            "align_self": null,
            "height": null,
            "min_height": null,
            "padding": null,
            "grid_auto_rows": null,
            "grid_gap": null,
            "max_width": null,
            "order": null,
            "_view_module_version": "1.2.0",
            "grid_template_areas": null,
            "object_position": null,
            "object_fit": null,
            "grid_auto_columns": null,
            "margin": null,
            "display": null,
            "left": null
          }
        },
        "c9ef8fd16c0d4580b7b9daad19e3609f": {
          "model_module": "@jupyter-widgets/controls",
          "model_name": "FloatProgressModel",
          "state": {
            "_view_name": "ProgressView",
            "style": "IPY_MODEL_6800b570d9e8412da0f4a3c7af32d785",
            "_dom_classes": [],
            "description": "100%",
            "_model_name": "FloatProgressModel",
            "bar_style": "success",
            "max": 7600,
            "_view_module": "@jupyter-widgets/controls",
            "_model_module_version": "1.5.0",
            "value": 7600,
            "_view_count": null,
            "_view_module_version": "1.5.0",
            "orientation": "horizontal",
            "min": 0,
            "description_tooltip": null,
            "_model_module": "@jupyter-widgets/controls",
            "layout": "IPY_MODEL_f4b3a2296dbe466c9fd6385daa067a93"
          }
        },
        "6baeca50033e4ac3951c1e8537be94a1": {
          "model_module": "@jupyter-widgets/controls",
          "model_name": "HTMLModel",
          "state": {
            "_view_name": "HTMLView",
            "style": "IPY_MODEL_24f9f0f63597462b8d6429f43f128a3c",
            "_dom_classes": [],
            "description": "",
            "_model_name": "HTMLModel",
            "placeholder": "​",
            "_view_module": "@jupyter-widgets/controls",
            "_model_module_version": "1.5.0",
            "value": " 7600/7600 [00:09&lt;00:00, 804.39it/s]",
            "_view_count": null,
            "_view_module_version": "1.5.0",
            "description_tooltip": null,
            "_model_module": "@jupyter-widgets/controls",
            "layout": "IPY_MODEL_005007e329b240ebbb1cdd17fed5bdb1"
          }
        },
        "6800b570d9e8412da0f4a3c7af32d785": {
          "model_module": "@jupyter-widgets/controls",
          "model_name": "ProgressStyleModel",
          "state": {
            "_view_name": "StyleView",
            "_model_name": "ProgressStyleModel",
            "description_width": "initial",
            "_view_module": "@jupyter-widgets/base",
            "_model_module_version": "1.5.0",
            "_view_count": null,
            "_view_module_version": "1.2.0",
            "bar_color": null,
            "_model_module": "@jupyter-widgets/controls"
          }
        },
        "f4b3a2296dbe466c9fd6385daa067a93": {
          "model_module": "@jupyter-widgets/base",
          "model_name": "LayoutModel",
          "state": {
            "_view_name": "LayoutView",
            "grid_template_rows": null,
            "right": null,
            "justify_content": null,
            "_view_module": "@jupyter-widgets/base",
            "overflow": null,
            "_model_module_version": "1.2.0",
            "_view_count": null,
            "flex_flow": null,
            "width": null,
            "min_width": null,
            "border": null,
            "align_items": null,
            "bottom": null,
            "_model_module": "@jupyter-widgets/base",
            "top": null,
            "grid_column": null,
            "overflow_y": null,
            "overflow_x": null,
            "grid_auto_flow": null,
            "grid_area": null,
            "grid_template_columns": null,
            "flex": null,
            "_model_name": "LayoutModel",
            "justify_items": null,
            "grid_row": null,
            "max_height": null,
            "align_content": null,
            "visibility": null,
            "align_self": null,
            "height": null,
            "min_height": null,
            "padding": null,
            "grid_auto_rows": null,
            "grid_gap": null,
            "max_width": null,
            "order": null,
            "_view_module_version": "1.2.0",
            "grid_template_areas": null,
            "object_position": null,
            "object_fit": null,
            "grid_auto_columns": null,
            "margin": null,
            "display": null,
            "left": null
          }
        },
        "24f9f0f63597462b8d6429f43f128a3c": {
          "model_module": "@jupyter-widgets/controls",
          "model_name": "DescriptionStyleModel",
          "state": {
            "_view_name": "StyleView",
            "_model_name": "DescriptionStyleModel",
            "description_width": "",
            "_view_module": "@jupyter-widgets/base",
            "_model_module_version": "1.5.0",
            "_view_count": null,
            "_view_module_version": "1.2.0",
            "_model_module": "@jupyter-widgets/controls"
          }
        },
        "005007e329b240ebbb1cdd17fed5bdb1": {
          "model_module": "@jupyter-widgets/base",
          "model_name": "LayoutModel",
          "state": {
            "_view_name": "LayoutView",
            "grid_template_rows": null,
            "right": null,
            "justify_content": null,
            "_view_module": "@jupyter-widgets/base",
            "overflow": null,
            "_model_module_version": "1.2.0",
            "_view_count": null,
            "flex_flow": null,
            "width": null,
            "min_width": null,
            "border": null,
            "align_items": null,
            "bottom": null,
            "_model_module": "@jupyter-widgets/base",
            "top": null,
            "grid_column": null,
            "overflow_y": null,
            "overflow_x": null,
            "grid_auto_flow": null,
            "grid_area": null,
            "grid_template_columns": null,
            "flex": null,
            "_model_name": "LayoutModel",
            "justify_items": null,
            "grid_row": null,
            "max_height": null,
            "align_content": null,
            "visibility": null,
            "align_self": null,
            "height": null,
            "min_height": null,
            "padding": null,
            "grid_auto_rows": null,
            "grid_gap": null,
            "max_width": null,
            "order": null,
            "_view_module_version": "1.2.0",
            "grid_template_areas": null,
            "object_position": null,
            "object_fit": null,
            "grid_auto_columns": null,
            "margin": null,
            "display": null,
            "left": null
          }
        }
      }
    }
  },
  "cells": [
    {
      "cell_type": "markdown",
      "metadata": {
        "id": "view-in-github",
        "colab_type": "text"
      },
      "source": [
        "<a href=\"https://colab.research.google.com/github/DanielDLX/DLfinal/blob/master/bert_AGnews_3.ipynb\" target=\"_parent\"><img src=\"https://colab.research.google.com/assets/colab-badge.svg\" alt=\"Open In Colab\"/></a>"
      ]
    },
    {
      "cell_type": "code",
      "metadata": {
        "id": "Xx1UegbARdfH",
        "colab_type": "code",
        "colab": {
          "base_uri": "https://localhost:8080/",
          "height": 351
        },
        "outputId": "ce96686d-a325-49a4-da41-2a4586b66393"
      },
      "source": [
        "# 导入包\n",
        "# transformer提供了一些训练好的模型，可以很方便的使用。\n",
        "!pip install transformers\n",
        "import tensorflow as tf\n",
        "import pandas as pd\n",
        "import os\n",
        "import numpy as np\n",
        "import sklearn\n",
        "from sklearn.manifold import TSNE\n",
        "import tqdm\n",
        "# 使用分类的模型，增加了一个head用于分类。\n",
        "from transformers import BertTokenizer, TFBertForSequenceClassification, BertConfig\n",
        "from sklearn.model_selection import train_test_split\n",
        "import matplotlib.pyplot as plt\n",
        "import math\n",
        "% matplotlib inline\n",
        "\n",
        "tf.__version__"
      ],
      "execution_count": 1,
      "outputs": [
        {
          "output_type": "stream",
          "text": [
            "Requirement already satisfied: transformers in /usr/local/lib/python3.6/dist-packages (3.0.2)\n",
            "Requirement already satisfied: numpy in /usr/local/lib/python3.6/dist-packages (from transformers) (1.18.5)\n",
            "Requirement already satisfied: tokenizers==0.8.1.rc1 in /usr/local/lib/python3.6/dist-packages (from transformers) (0.8.1rc1)\n",
            "Requirement already satisfied: tqdm>=4.27 in /usr/local/lib/python3.6/dist-packages (from transformers) (4.41.1)\n",
            "Requirement already satisfied: requests in /usr/local/lib/python3.6/dist-packages (from transformers) (2.23.0)\n",
            "Requirement already satisfied: regex!=2019.12.17 in /usr/local/lib/python3.6/dist-packages (from transformers) (2019.12.20)\n",
            "Requirement already satisfied: sentencepiece!=0.1.92 in /usr/local/lib/python3.6/dist-packages (from transformers) (0.1.91)\n",
            "Requirement already satisfied: filelock in /usr/local/lib/python3.6/dist-packages (from transformers) (3.0.12)\n",
            "Requirement already satisfied: dataclasses; python_version < \"3.7\" in /usr/local/lib/python3.6/dist-packages (from transformers) (0.7)\n",
            "Requirement already satisfied: packaging in /usr/local/lib/python3.6/dist-packages (from transformers) (20.4)\n",
            "Requirement already satisfied: sacremoses in /usr/local/lib/python3.6/dist-packages (from transformers) (0.0.43)\n",
            "Requirement already satisfied: urllib3!=1.25.0,!=1.25.1,<1.26,>=1.21.1 in /usr/local/lib/python3.6/dist-packages (from requests->transformers) (1.24.3)\n",
            "Requirement already satisfied: certifi>=2017.4.17 in /usr/local/lib/python3.6/dist-packages (from requests->transformers) (2020.6.20)\n",
            "Requirement already satisfied: idna<3,>=2.5 in /usr/local/lib/python3.6/dist-packages (from requests->transformers) (2.10)\n",
            "Requirement already satisfied: chardet<4,>=3.0.2 in /usr/local/lib/python3.6/dist-packages (from requests->transformers) (3.0.4)\n",
            "Requirement already satisfied: pyparsing>=2.0.2 in /usr/local/lib/python3.6/dist-packages (from packaging->transformers) (2.4.7)\n",
            "Requirement already satisfied: six in /usr/local/lib/python3.6/dist-packages (from packaging->transformers) (1.15.0)\n",
            "Requirement already satisfied: click in /usr/local/lib/python3.6/dist-packages (from sacremoses->transformers) (7.1.2)\n",
            "Requirement already satisfied: joblib in /usr/local/lib/python3.6/dist-packages (from sacremoses->transformers) (0.16.0)\n"
          ],
          "name": "stdout"
        },
        {
          "output_type": "execute_result",
          "data": {
            "application/vnd.google.colaboratory.intrinsic+json": {
              "type": "string"
            },
            "text/plain": [
              "'2.2.0'"
            ]
          },
          "metadata": {
            "tags": []
          },
          "execution_count": 1
        }
      ]
    },
    {
      "cell_type": "code",
      "metadata": {
        "id": "a0giWORbAR2O",
        "colab_type": "code",
        "colab": {}
      },
      "source": [
        "# 导入现成的分词器\n",
        "tokenizer = BertTokenizer.from_pretrained('bert-base-uncased')"
      ],
      "execution_count": 2,
      "outputs": []
    },
    {
      "cell_type": "code",
      "metadata": {
        "id": "JasImGjMRqFj",
        "colab_type": "code",
        "colab": {}
      },
      "source": [
        "# 数据链接，可以在 https://course.fast.ai/datasets 找到。\n",
        "# agnews数据集，类别，标题，描述。\n",
        "ag_url = 'https://s3.amazonaws.com/fast-ai-nlp/ag_news_csv.tgz'"
      ],
      "execution_count": 3,
      "outputs": []
    },
    {
      "cell_type": "code",
      "metadata": {
        "id": "CSHGPWGtSA7E",
        "colab_type": "code",
        "colab": {
          "base_uri": "https://localhost:8080/",
          "height": 33
        },
        "outputId": "dfe9addf-a36b-4517-effb-ad776aaadb6d"
      },
      "source": [
        "# 下载数据，并指定此时数据集的目录\n",
        "ag_zip_file = tf.keras.utils.get_file(origin=ag_url,fname='ag_news_csv.tgz', extract=True)\n",
        "base_dir = os.path.join(os.path.dirname(ag_zip_file), 'ag_news_csv')\n",
        "os.listdir(base_dir)"
      ],
      "execution_count": 4,
      "outputs": [
        {
          "output_type": "execute_result",
          "data": {
            "text/plain": [
              "['test.csv', 'classes.txt', 'train.csv', 'readme.txt']"
            ]
          },
          "metadata": {
            "tags": []
          },
          "execution_count": 4
        }
      ]
    },
    {
      "cell_type": "code",
      "metadata": {
        "id": "0BYSiEligwzF",
        "colab_type": "code",
        "colab": {
          "base_uri": "https://localhost:8080/",
          "height": 333
        },
        "outputId": "b2bd116b-54a5-4e08-9bcf-cecf588de0b8"
      },
      "source": [
        "# 读取数据\n",
        "# 为了方便测试代码的时候少用几个数据,1000个数据可以让准确率上升到0.68\n",
        "# num = 10000\n",
        "train = pd.read_csv(os.path.join(base_dir, 'train.csv'), header=None)\n",
        "# train = train.sample(n=num)\n",
        "print(len(train))\n",
        "print(train.head())\n",
        "test = pd.read_csv(os.path.join(base_dir, 'test.csv'), header=None)\n",
        "# test = test.sample(n=1000)\n",
        "print(len(test))\n",
        "print(test.head())\n",
        "f = open(os.path.join(base_dir, 'classes.txt'))\n",
        "classes = f.readlines()\n",
        "classes = [s.strip() for s in classes]\n",
        "print(classes)"
      ],
      "execution_count": 5,
      "outputs": [
        {
          "output_type": "stream",
          "text": [
            "120000\n",
            "   0  ...                                                  2\n",
            "0  3  ...  Reuters - Short-sellers, Wall Street's dwindli...\n",
            "1  3  ...  Reuters - Private investment firm Carlyle Grou...\n",
            "2  3  ...  Reuters - Soaring crude prices plus worries\\ab...\n",
            "3  3  ...  Reuters - Authorities have halted oil export\\f...\n",
            "4  3  ...  AFP - Tearaway world oil prices, toppling reco...\n",
            "\n",
            "[5 rows x 3 columns]\n",
            "7600\n",
            "   0  ...                                                  2\n",
            "0  3  ...  Unions representing workers at Turner   Newall...\n",
            "1  4  ...  SPACE.com - TORONTO, Canada -- A second\\team o...\n",
            "2  4  ...  AP - A company founded by a chemistry research...\n",
            "3  4  ...  AP - It's barely dawn when Mike Fitzpatrick st...\n",
            "4  4  ...  AP - Southern California's smog-fighting agenc...\n",
            "\n",
            "[5 rows x 3 columns]\n",
            "['World', 'Sports', 'Business', 'Sci/Tech']\n"
          ],
          "name": "stdout"
        }
      ]
    },
    {
      "cell_type": "code",
      "metadata": {
        "id": "cBGAtYI3SR8G",
        "colab_type": "code",
        "colab": {
          "base_uri": "https://localhost:8080/",
          "height": 114,
          "referenced_widgets": [
            "053dfb1e0fc64da8bc4d5a211d76fe62",
            "5afcfddc283b49a8a5d72c12c151f77f",
            "31eecab98b904dbf9d6e6bed9aef35f2",
            "14a07b22ebed488799ddeb13dce7ffdc",
            "ffe773fd04bb488cb0396954feb5fdf8",
            "b9a250a8310940d69ebe0099cab00c61",
            "9292a2a1d9e54006ae6701197e4c9bb7",
            "9026a808d8c640688b8ec5e16fd5084f",
            "a38b98bb6c4b4051930e051adbb42b64",
            "58f5b88c5e8f42f1b127dfa5ca5d6873",
            "c9ef8fd16c0d4580b7b9daad19e3609f",
            "6baeca50033e4ac3951c1e8537be94a1",
            "6800b570d9e8412da0f4a3c7af32d785",
            "f4b3a2296dbe466c9fd6385daa067a93",
            "24f9f0f63597462b8d6429f43f128a3c",
            "005007e329b240ebbb1cdd17fed5bdb1"
          ]
        },
        "outputId": "bcb6a518-f413-4040-bf4c-e45f90b11d98"
      },
      "source": [
        "# 预处理数据\n",
        "# 按照上面的例子把数据集中的文本进行分词处理，并且得到对应的labels。\n",
        "max_length = 128\n",
        "max_length_temp = max_length - 2\n",
        "train_ids = []\n",
        "test_ids = []\n",
        "for i in tqdm.notebook.trange(train.shape[0]):\n",
        "  if len(train[2][train[2].index[i]]) > max_length_temp:\n",
        "    train_ids.append(tokenizer.encode(text=train[2][train[2].index[i]][0 : max_length_temp], padding='max_length', max_length=max_length, return_tensors=\"tf\"))\n",
        "  else:\n",
        "    train_ids.append(tokenizer.encode(text=train[2][train[2].index[i]], padding='max_length', max_length=max_length, return_tensors=\"tf\"))\n",
        "for i in tqdm.notebook.trange(test.shape[0]):\n",
        "  if len(test[2][test[2].index[i]]) > max_length_temp:\n",
        "    test_ids.append(tokenizer.encode(text=test[2][test[2].index[i]][0 : max_length_temp], padding='max_length', max_length=max_length, return_tensors=\"tf\"))\n",
        "  else:\n",
        "    test_ids.append(tokenizer.encode(text=test[2][test[2].index[i]], padding='max_length', max_length=max_length, return_tensors=\"tf\"))\n",
        "train_labels = train[0].values - 1\n",
        "test_labels = test[0].values - 1"
      ],
      "execution_count": 6,
      "outputs": [
        {
          "output_type": "display_data",
          "data": {
            "application/vnd.jupyter.widget-view+json": {
              "model_id": "053dfb1e0fc64da8bc4d5a211d76fe62",
              "version_minor": 0,
              "version_major": 2
            },
            "text/plain": [
              "HBox(children=(FloatProgress(value=0.0, max=120000.0), HTML(value='')))"
            ]
          },
          "metadata": {
            "tags": []
          }
        },
        {
          "output_type": "stream",
          "text": [
            "\n"
          ],
          "name": "stdout"
        },
        {
          "output_type": "display_data",
          "data": {
            "application/vnd.jupyter.widget-view+json": {
              "model_id": "a38b98bb6c4b4051930e051adbb42b64",
              "version_minor": 0,
              "version_major": 2
            },
            "text/plain": [
              "HBox(children=(FloatProgress(value=0.0, max=7600.0), HTML(value='')))"
            ]
          },
          "metadata": {
            "tags": []
          }
        },
        {
          "output_type": "stream",
          "text": [
            "\n"
          ],
          "name": "stdout"
        }
      ]
    },
    {
      "cell_type": "code",
      "metadata": {
        "id": "SucNjO6sQT9K",
        "colab_type": "code",
        "colab": {}
      },
      "source": [
        "# 把数据转成tensorflow张量\n",
        "# train_ids是tf.Tensor组成得列表，所以用concat组合一下就行\n",
        "train_ids = tf.concat(train_ids, 0)\n",
        "# 把train_mask初始化为1，然后把train_ids等于0（PAD的部分）对应的值赋为0\n",
        "train_mask = tf.ones(train_ids.shape)\n",
        "train_mask = tf.where(tf.math.greater(train_ids, 0), train_mask, 0)\n",
        "# labels本身是numpy数组，转为tf.Tensor\n",
        "train_labels = tf.convert_to_tensor(train_labels)\n",
        "\n",
        "# 测试集的处理同理test\n",
        "test_ids = tf.concat(test_ids, 0)\n",
        "test_mask = tf.ones(test_ids.shape)\n",
        "test_mask = tf.where(tf.math.greater(test_ids, 0), test_mask, 0)\n",
        "test_labels = tf.convert_to_tensor(test_labels)"
      ],
      "execution_count": 7,
      "outputs": []
    },
    {
      "cell_type": "code",
      "metadata": {
        "id": "I0aaG0cYFj2R",
        "colab_type": "code",
        "colab": {
          "base_uri": "https://localhost:8080/",
          "height": 350
        },
        "outputId": "80f12e84-6fe6-429a-934d-4a683cecb848"
      },
      "source": [
        "print(train_ids[0])\n",
        "print(train_mask[0])\n",
        "print(train_labels[0])"
      ],
      "execution_count": 8,
      "outputs": [
        {
          "output_type": "stream",
          "text": [
            "tf.Tensor(\n",
            "[  101 26665  1011  2460  1011 19041  1010  2813  2395  1005  1055  1040\n",
            " 11101  2989  1032  2316  1997 11087  1011 22330  8713  2015  1010  2024\n",
            "  3773  2665  2153  1012   102     0     0     0     0     0     0     0\n",
            "     0     0     0     0     0     0     0     0     0     0     0     0\n",
            "     0     0     0     0     0     0     0     0     0     0     0     0\n",
            "     0     0     0     0     0     0     0     0     0     0     0     0\n",
            "     0     0     0     0     0     0     0     0     0     0     0     0\n",
            "     0     0     0     0     0     0     0     0     0     0     0     0\n",
            "     0     0     0     0     0     0     0     0     0     0     0     0\n",
            "     0     0     0     0     0     0     0     0     0     0     0     0\n",
            "     0     0     0     0     0     0     0     0], shape=(128,), dtype=int32)\n",
            "tf.Tensor(\n",
            "[1. 1. 1. 1. 1. 1. 1. 1. 1. 1. 1. 1. 1. 1. 1. 1. 1. 1. 1. 1. 1. 1. 1. 1.\n",
            " 1. 1. 1. 1. 1. 0. 0. 0. 0. 0. 0. 0. 0. 0. 0. 0. 0. 0. 0. 0. 0. 0. 0. 0.\n",
            " 0. 0. 0. 0. 0. 0. 0. 0. 0. 0. 0. 0. 0. 0. 0. 0. 0. 0. 0. 0. 0. 0. 0. 0.\n",
            " 0. 0. 0. 0. 0. 0. 0. 0. 0. 0. 0. 0. 0. 0. 0. 0. 0. 0. 0. 0. 0. 0. 0. 0.\n",
            " 0. 0. 0. 0. 0. 0. 0. 0. 0. 0. 0. 0. 0. 0. 0. 0. 0. 0. 0. 0. 0. 0. 0. 0.\n",
            " 0. 0. 0. 0. 0. 0. 0. 0.], shape=(128,), dtype=float32)\n",
            "tf.Tensor(2, shape=(), dtype=int64)\n"
          ],
          "name": "stdout"
        }
      ]
    },
    {
      "cell_type": "code",
      "metadata": {
        "id": "9XUKs5A_19zE",
        "colab_type": "code",
        "colab": {}
      },
      "source": [
        "# 训练参数\n",
        "hidden_size=128\n",
        "epochs = 5\n",
        "batch_size = 256\n",
        "validation_rate = 0.1"
      ],
      "execution_count": 9,
      "outputs": []
    },
    {
      "cell_type": "code",
      "metadata": {
        "id": "iMGgvWXm3hsK",
        "colab_type": "code",
        "colab": {}
      },
      "source": [
        "# 模型放在这里\n",
        "# model = TFBertForSequenceClassification.from_pretrained(\"bert-base-uncased\", num_labels=4) # 分类类别数\n",
        "cnfg = BertConfig(hidden_size=hidden_size, num_labels=4, num_hidden_layers=6, num_attention_heads=4, intermediate_size=512)\n",
        "model = TFBertForSequenceClassification(cnfg)\n",
        "# model.summary()\n",
        "# model.config"
      ],
      "execution_count": 10,
      "outputs": []
    },
    {
      "cell_type": "code",
      "metadata": {
        "id": "yx-oJlYK3nXh",
        "colab_type": "code",
        "colab": {
          "base_uri": "https://localhost:8080/",
          "height": 283
        },
        "outputId": "85bda8b5-77f3-4b48-c97f-dd94a349ce7d"
      },
      "source": [
        "# 简单分类算法\n",
        "model_compare = tf.keras.Sequential([\n",
        "    tf.keras.layers.Embedding(30522, hidden_size),\n",
        "    tf.keras.layers.Bidirectional(tf.keras.layers.LSTM(64)),\n",
        "    tf.keras.layers.Dense(32, activation='relu'),\n",
        "    tf.keras.layers.Dense(4)\n",
        "])\n",
        "model_compare.summary()"
      ],
      "execution_count": 11,
      "outputs": [
        {
          "output_type": "stream",
          "text": [
            "Model: \"sequential\"\n",
            "_________________________________________________________________\n",
            "Layer (type)                 Output Shape              Param #   \n",
            "=================================================================\n",
            "embedding (Embedding)        (None, None, 128)         3906816   \n",
            "_________________________________________________________________\n",
            "bidirectional (Bidirectional (None, 128)               98816     \n",
            "_________________________________________________________________\n",
            "dense (Dense)                (None, 32)                4128      \n",
            "_________________________________________________________________\n",
            "dense_1 (Dense)              (None, 4)                 132       \n",
            "=================================================================\n",
            "Total params: 4,009,892\n",
            "Trainable params: 4,009,892\n",
            "Non-trainable params: 0\n",
            "_________________________________________________________________\n"
          ],
          "name": "stdout"
        }
      ]
    },
    {
      "cell_type": "code",
      "metadata": {
        "id": "4F2dKeUi3nGV",
        "colab_type": "code",
        "colab": {}
      },
      "source": [
        "# 模型编译\n",
        "optimizer = tf.keras.optimizers.Adam(learning_rate=0.0001, epsilon=1e-08, clipnorm=1.0)\n",
        "loss = tf.keras.losses.SparseCategoricalCrossentropy(from_logits=True)\n",
        "metric = tf.keras.metrics.SparseCategoricalAccuracy('accuracy')\n",
        "model.compile(optimizer=optimizer, loss=loss, metrics=[metric])"
      ],
      "execution_count": 12,
      "outputs": []
    },
    {
      "cell_type": "code",
      "metadata": {
        "id": "fojA9n5LRGpJ",
        "colab_type": "code",
        "colab": {}
      },
      "source": [
        "optimizer_c = tf.keras.optimizers.Adam(learning_rate=0.0001, epsilon=1e-08, clipnorm=1.0)\n",
        "loss_c = tf.keras.losses.SparseCategoricalCrossentropy(from_logits=True)\n",
        "metric_c = tf.keras.metrics.SparseCategoricalAccuracy('accuracy')\n",
        "model_compare.compile(optimizer=optimizer_c, loss=loss_c, metrics=[metric_c])"
      ],
      "execution_count": 13,
      "outputs": []
    },
    {
      "cell_type": "code",
      "metadata": {
        "id": "CJecHZU6ap6H",
        "colab_type": "code",
        "colab": {}
      },
      "source": [
        "# history是按照一个epoch记录一次，间隔太大了，所以手动重写一个基于batch的\n",
        "class BatchCallback(tf.keras.callbacks.History):\n",
        "  def __init__(self):\n",
        "    self.batch = []\n",
        "    self.history = {'loss':[], 'accuracy':[]}\n",
        "  def on_train_batch_end(self, batch, logs=None):\n",
        "    self.batch.append(batch)\n",
        "    for k, v in logs.items():\n",
        "      self.history[k].append(v)"
      ],
      "execution_count": 14,
      "outputs": []
    },
    {
      "cell_type": "code",
      "metadata": {
        "id": "lC9Y5UGV8VT6",
        "colab_type": "code",
        "colab": {
          "base_uri": "https://localhost:8080/",
          "height": 183
        },
        "outputId": "273bae2e-abf3-4a7b-f0b2-dc238242646d"
      },
      "source": [
        "# 模型训练\n",
        "history = model.fit(x=[train_ids, train_mask], \n",
        "     y=train_labels, \n",
        "     batch_size=batch_size, \n",
        "     epochs=epochs, \n",
        "     verbose=1, \n",
        "     callbacks=[BatchCallback()],\n",
        "     shuffle=True)"
      ],
      "execution_count": 15,
      "outputs": [
        {
          "output_type": "stream",
          "text": [
            "Epoch 1/5\n",
            "469/469 [==============================] - 281s 600ms/step - loss: 0.7979 - accuracy: 0.6334\n",
            "Epoch 2/5\n",
            "469/469 [==============================] - 282s 601ms/step - loss: 0.3133 - accuracy: 0.8965\n",
            "Epoch 3/5\n",
            "469/469 [==============================] - 282s 601ms/step - loss: 0.2448 - accuracy: 0.9189\n",
            "Epoch 4/5\n",
            "469/469 [==============================] - 282s 601ms/step - loss: 0.2067 - accuracy: 0.9317\n",
            "Epoch 5/5\n",
            "469/469 [==============================] - 282s 601ms/step - loss: 0.1779 - accuracy: 0.9412\n"
          ],
          "name": "stdout"
        }
      ]
    },
    {
      "cell_type": "code",
      "metadata": {
        "id": "O_FDdA4KRWO3",
        "colab_type": "code",
        "colab": {
          "base_uri": "https://localhost:8080/",
          "height": 183
        },
        "outputId": "b8aa4e29-4959-449e-90b8-da0379b6a17c"
      },
      "source": [
        "history_compare = model_compare.fit(\n",
        "    x=[train_ids, train_mask],\n",
        "    y=train_labels,\n",
        "    batch_size=batch_size, \n",
        "    epochs=epochs,\n",
        "    verbose=1,\n",
        "    callbacks=[BatchCallback()],\n",
        "    shuffle=True\n",
        ")"
      ],
      "execution_count": 16,
      "outputs": [
        {
          "output_type": "stream",
          "text": [
            "Epoch 1/5\n",
            "469/469 [==============================] - 56s 118ms/step - loss: 1.0010 - accuracy: 0.6257\n",
            "Epoch 2/5\n",
            "469/469 [==============================] - 55s 118ms/step - loss: 0.4456 - accuracy: 0.8505\n",
            "Epoch 3/5\n",
            "469/469 [==============================] - 55s 118ms/step - loss: 0.3347 - accuracy: 0.8884\n",
            "Epoch 4/5\n",
            "469/469 [==============================] - 55s 117ms/step - loss: 0.2842 - accuracy: 0.9063\n",
            "Epoch 5/5\n",
            "469/469 [==============================] - 55s 118ms/step - loss: 0.2436 - accuracy: 0.9194\n"
          ],
          "name": "stdout"
        }
      ]
    },
    {
      "cell_type": "code",
      "metadata": {
        "id": "Ly4iDgmklcy5",
        "colab_type": "code",
        "colab": {
          "base_uri": "https://localhost:8080/",
          "height": 50
        },
        "outputId": "df61df2c-eaea-452a-d9b8-7c9023910206"
      },
      "source": [
        "# 模型测试\n",
        "model.evaluate(x=[test_ids, test_mask],\n",
        "        y=test_labels, \n",
        "        batch_size=batch_size, \n",
        "        verbose=1)"
      ],
      "execution_count": 17,
      "outputs": [
        {
          "output_type": "stream",
          "text": [
            "30/30 [==============================] - 5s 181ms/step - loss: 0.3437 - accuracy: 0.8908\n"
          ],
          "name": "stdout"
        },
        {
          "output_type": "execute_result",
          "data": {
            "text/plain": [
              "[0.3437187671661377, 0.8907894492149353]"
            ]
          },
          "metadata": {
            "tags": []
          },
          "execution_count": 17
        }
      ]
    },
    {
      "cell_type": "code",
      "metadata": {
        "id": "F8ME3Dv0U-UL",
        "colab_type": "code",
        "colab": {
          "base_uri": "https://localhost:8080/",
          "height": 50
        },
        "outputId": "55757718-f695-42d4-ff70-8c8a72cb3458"
      },
      "source": [
        "model_compare.evaluate(x=[test_ids, test_mask],\n",
        "        y=test_labels, \n",
        "        batch_size=batch_size, \n",
        "        verbose=1)"
      ],
      "execution_count": 18,
      "outputs": [
        {
          "output_type": "stream",
          "text": [
            "30/30 [==============================] - 1s 21ms/step - loss: 0.3418 - accuracy: 0.8774\n"
          ],
          "name": "stdout"
        },
        {
          "output_type": "execute_result",
          "data": {
            "text/plain": [
              "[0.34176021814346313, 0.8773684501647949]"
            ]
          },
          "metadata": {
            "tags": []
          },
          "execution_count": 18
        }
      ]
    },
    {
      "cell_type": "code",
      "metadata": {
        "id": "hqvrDdKplstd",
        "colab_type": "code",
        "colab": {
          "base_uri": "https://localhost:8080/",
          "height": 283
        },
        "outputId": "63a1093f-3e32-44da-f94d-8194ac89c364"
      },
      "source": [
        "# 画图\n",
        "def plot_graphs(history,history_compare, metric):\n",
        "  plt.plot(history.history[metric])\n",
        "  plt.plot(history_compare.history[metric])\n",
        "  plt.xlabel(\"Batches\")\n",
        "  plt.ylabel(metric)\n",
        "  plt.show()\n",
        "plot_graphs(history, history_compare, 'accuracy')"
      ],
      "execution_count": 19,
      "outputs": [
        {
          "output_type": "display_data",
          "data": {
            "image/png": "[encoded data removed]",
            "text/plain": [
              "<Figure size 432x288 with 1 Axes>"
            ]
          },
          "metadata": {
            "tags": [],
            "needs_background": "light"
          }
        }
      ]
    },
    {
      "cell_type": "code",
      "metadata": {
        "id": "Wi8sc_xmsqs7",
        "colab_type": "code",
        "colab": {
          "base_uri": "https://localhost:8080/",
          "height": 83
        },
        "outputId": "0b9601f3-b441-4774-8815-7e3eabc27747"
      },
      "source": [
        "index = None\n",
        "for idx, layer in enumerate(model_compare.layers):\n",
        "  print(idx, layer.name)"
      ],
      "execution_count": 20,
      "outputs": [
        {
          "output_type": "stream",
          "text": [
            "0 embedding\n",
            "1 bidirectional\n",
            "2 dense\n",
            "3 dense_1\n"
          ],
          "name": "stdout"
        }
      ]
    },
    {
      "cell_type": "code",
      "metadata": {
        "id": "B5bV2M4U5Ati",
        "colab_type": "code",
        "colab": {}
      },
      "source": [
        "# 得到RNN模型embedding的方法，get embedding层后，输入词的id，得到embeding\n",
        "# 用index更好\n",
        "embedding_compare = model_compare.get_layer(index=0)"
      ],
      "execution_count": 21,
      "outputs": []
    },
    {
      "cell_type": "code",
      "metadata": {
        "id": "calkKhCKo7f7",
        "colab_type": "code",
        "colab": {
          "base_uri": "https://localhost:8080/",
          "height": 1000
        },
        "outputId": "d35559a9-3c77-4351-8a6f-3935050de266"
      },
      "source": [
        "# 得到每个类的embedding\n",
        "avg_pool1 = tf.keras.layers.AveragePooling2D(pool_size=(max_length, 1))\n",
        "N = tf.shape(train_ids)[0] // 1000\n",
        "embs_list = []\n",
        "for i in range(N):\n",
        "  embs = embedding_compare(train_ids[i*1000:(i+1)*1000])\n",
        "  embs = tf.reshape(avg_pool1(tf.reshape(embs,[-1,max_length,hidden_size,1])), [-1,hidden_size])\n",
        "  embs_list.append(embs)\n",
        "embs = embedding_compare(train_ids[N*1000:])\n",
        "embs = tf.reshape(avg_pool1(tf.reshape(embs,[-1,max_length,hidden_size,1])), [-1,hidden_size])\n",
        "embs_list.append(embs)\n",
        "seq_embs_compare = tf.concat(embs_list, 0)\n",
        "class_embedding_compare = np.zeros([4,hidden_size])\n",
        "for i in range(4):\n",
        "  index = train_labels == i\n",
        "  class_embs = seq_embs_compare[index]\n",
        "  avg_pool2 = tf.keras.layers.AveragePooling2D(pool_size=(tf.shape(class_embs)[0], 1))\n",
        "  class_embs = tf.reshape(class_embs,[1,-1,hidden_size,1])\n",
        "  class_embs = avg_pool2(class_embs)\n",
        "  class_embedding_compare[i] = tf.reshape(class_embs, [hidden_size]).numpy()\n",
        "print(class_embedding_compare)"
      ],
      "execution_count": 22,
      "outputs": [
        {
          "output_type": "stream",
          "text": [
            "[[-0.0189259   0.01947984  0.02735049  0.02446172  0.03013637 -0.00707116\n",
            "   0.02252922  0.03780469 -0.00696971  0.01253412  0.01921141 -0.00151155\n",
            "  -0.01807895  0.01934391  0.03352149 -0.00187663 -0.02548178 -0.0071963\n",
            "  -0.03624291 -0.01946854  0.02442412 -0.01627914  0.03377214  0.02275837\n",
            "   0.01388257 -0.02666791 -0.02100003 -0.0055032  -0.00617231  0.01853186\n",
            "  -0.01914453 -0.01044039  0.04476751 -0.02191747  0.0031671   0.02265313\n",
            "   0.0028532   0.02442425  0.01555287 -0.02702955  0.02444965 -0.01537748\n",
            "  -0.02386344 -0.0303854  -0.0025921   0.00968233  0.00616635  0.00640722\n",
            "  -0.00249275 -0.02423683  0.03003389 -0.0176925  -0.00139981 -0.00142574\n",
            "   0.01260075 -0.03056945 -0.00276684  0.00468568  0.03315408 -0.00195783\n",
            "   0.00317879  0.02735642 -0.00999686  0.03864767  0.035928   -0.03411105\n",
            "  -0.03995175 -0.00663056 -0.00886648  0.01192694 -0.03851772  0.02123173\n",
            "  -0.01622485 -0.0324326  -0.00873587 -0.03650656 -0.00321416  0.00585888\n",
            "   0.03603336  0.01464853  0.01075926 -0.01267381 -0.01211052 -0.02406878\n",
            "   0.01597434  0.02356279 -0.03828888 -0.03236761 -0.00523731 -0.03181406\n",
            "  -0.01751396  0.01780044 -0.00670299 -0.00610681 -0.00625288 -0.00883511\n",
            "  -0.02951851  0.02213068 -0.01388954  0.0269976  -0.02984165 -0.01351118\n",
            "   0.00296366 -0.01115964 -0.03147265  0.02274608  0.00793036  0.03524967\n",
            "  -0.02378342  0.02175389 -0.00998187 -0.00530334 -0.00421107 -0.01092357\n",
            "   0.02538492  0.01377566  0.00735305 -0.0289979  -0.04533073 -0.00367982\n",
            "   0.04011919 -0.00656165  0.00386885  0.02692732 -0.00363434  0.01359199\n",
            "  -0.02377696 -0.00795311]\n",
            " [-0.01681502  0.01906153  0.02745314  0.02250506  0.02777391 -0.00643854\n",
            "   0.02322955  0.0341878  -0.00489359  0.01232849  0.01701852  0.00061747\n",
            "  -0.01721199  0.01903755  0.03604558 -0.00147543 -0.02571816 -0.00706025\n",
            "  -0.03232131 -0.02040569  0.02257709 -0.01316425  0.03450018  0.02291881\n",
            "   0.01483641 -0.0292193  -0.01778531 -0.00250713 -0.00735204  0.01669965\n",
            "  -0.01810064 -0.01177345  0.04473636 -0.01826764  0.0028962   0.02008213\n",
            "   0.00239237  0.02416778  0.01602134 -0.02846959  0.02305417 -0.01826276\n",
            "  -0.02423961 -0.03117939 -0.00180473  0.00785388  0.00667438  0.00483641\n",
            "  -0.00398152 -0.02734883  0.03244166 -0.01985299 -0.00165746  0.0010331\n",
            "   0.01572697 -0.02891372 -0.00049887  0.00387672  0.03410364 -0.00364571\n",
            "   0.00169348  0.02491214 -0.01208837  0.0388069   0.03293268 -0.03598253\n",
            "  -0.03655573 -0.00781245 -0.00605686  0.01498858 -0.03872529  0.02135626\n",
            "  -0.01256673 -0.03285661 -0.00676248 -0.03244866 -0.00525602  0.00720693\n",
            "   0.03534515  0.01768919  0.00722912 -0.01446892 -0.01028906 -0.02114462\n",
            "   0.01699686  0.02515577 -0.03709112 -0.03218832 -0.00717044 -0.0341888\n",
            "  -0.01884331  0.01914868 -0.00972102 -0.00432538 -0.00407842 -0.00875743\n",
            "  -0.03048464  0.02428369 -0.01417156  0.0253891  -0.0268877  -0.01052334\n",
            "   0.00492471 -0.00795818 -0.02758132  0.01953674  0.00437131  0.03249845\n",
            "  -0.02219012  0.02166205 -0.01200124 -0.00495782 -0.00512314 -0.01275589\n",
            "   0.02412842  0.01505433  0.00374967 -0.025888   -0.04221442 -0.00334849\n",
            "   0.03617524 -0.00525909  0.00520102  0.02633251 -0.00027345  0.01084635\n",
            "  -0.02082537 -0.00517759]\n",
            " [-0.01731296  0.02233883  0.02906583  0.02099975  0.02553452 -0.00801181\n",
            "   0.02396296  0.03731057 -0.00549475  0.01213569  0.01746934 -0.00027672\n",
            "  -0.01676611  0.01969197  0.03351018 -0.00290163 -0.02519532 -0.00581192\n",
            "  -0.03561527 -0.02048171  0.02023865 -0.01518596  0.03099765  0.02200876\n",
            "   0.01512276 -0.02709493 -0.02142775 -0.00501933 -0.00521611  0.01682249\n",
            "  -0.01668994 -0.01245764  0.04209556 -0.01880393  0.00574706  0.02229394\n",
            "   0.00169472  0.02314069  0.01424926 -0.02694573  0.02157168 -0.01560489\n",
            "  -0.02453862 -0.0295636  -0.00373434  0.00862571  0.00492426  0.00791086\n",
            "   0.00053415 -0.02336376  0.0306065  -0.02090175  0.00085071 -0.00252359\n",
            "   0.01308587 -0.03153776  0.00070239  0.00096834  0.03416283 -0.00181378\n",
            "   0.00524951  0.02612239 -0.01172101  0.03825805  0.03630323 -0.03395285\n",
            "  -0.03868873 -0.00820093 -0.00986143  0.01365025 -0.03872718  0.0196131\n",
            "  -0.01507428 -0.02969675 -0.00773799 -0.0337516  -0.00398929  0.00491104\n",
            "   0.03349566  0.01465512  0.00923374 -0.01165362 -0.01286425 -0.02048041\n",
            "   0.01650818  0.02525265 -0.03928439 -0.03066837 -0.0039013  -0.0336626\n",
            "  -0.01592855  0.01974774 -0.00746758 -0.00781076 -0.00699397 -0.00898185\n",
            "  -0.03105392  0.02315006 -0.01577736  0.02717496 -0.0261893  -0.01215496\n",
            "   0.0019368  -0.01115212 -0.03067296  0.02277818  0.00753555  0.03359235\n",
            "  -0.02220651  0.01973962 -0.01091604 -0.00470271 -0.00321111 -0.00893691\n",
            "   0.0256546   0.01307793  0.0051376  -0.02942442 -0.04447289 -0.00497264\n",
            "   0.0363759  -0.00585111  0.00469629  0.02469884 -0.00200653  0.01321416\n",
            "  -0.02125869 -0.00682791]\n",
            " [-0.0193732   0.02125193  0.02936511  0.02355413  0.0283828  -0.00743399\n",
            "   0.02471287  0.03670871 -0.00440984  0.01418005  0.01916162  0.00098492\n",
            "  -0.01596944  0.02130741  0.03448689 -0.0038595  -0.0269869  -0.00506026\n",
            "  -0.03542342 -0.01945205  0.02304811 -0.01588934  0.03271692  0.02118598\n",
            "   0.01595769 -0.02767133 -0.02107774 -0.00529632 -0.00485667  0.01873292\n",
            "  -0.01655436 -0.01275565  0.04259201 -0.02068051  0.00530356  0.02049937\n",
            "   0.00054997  0.02556937  0.01400058 -0.02663176  0.02166654 -0.01757848\n",
            "  -0.02327523 -0.02961425 -0.00419991  0.00733559  0.0041357   0.00759811\n",
            "  -0.00242503 -0.02569018  0.03197718 -0.01869305  0.00073477 -0.00177633\n",
            "   0.01301787 -0.03132125 -0.00158228  0.00246224  0.03525149 -0.00138674\n",
            "   0.00469984  0.02521507 -0.01262876  0.03752145  0.03595912 -0.03401322\n",
            "  -0.03729353 -0.00876901 -0.00898655  0.01431369 -0.04051296  0.0195589\n",
            "  -0.01487047 -0.03069685 -0.00631088 -0.03395368 -0.00557702  0.00449002\n",
            "   0.03439847  0.01650631  0.0099151  -0.0120841  -0.0130644  -0.02163456\n",
            "   0.0150377   0.02555881 -0.04024042 -0.03024708 -0.0053202  -0.03289901\n",
            "  -0.01626742  0.01981282 -0.00713554 -0.0070392  -0.00709613 -0.01053546\n",
            "  -0.03167254  0.02226624 -0.01603534  0.02823206 -0.02698516 -0.01268806\n",
            "   0.00249628 -0.01020996 -0.02998404  0.02142882  0.00714194  0.03528606\n",
            "  -0.0220865   0.01967387 -0.00964909 -0.00359175 -0.00271659 -0.01186641\n",
            "   0.0263141   0.01290186  0.00471669 -0.02879626 -0.04499761 -0.00559691\n",
            "   0.03772731 -0.00437719  0.00319534  0.02535152 -0.00294367  0.01363749\n",
            "  -0.02104184 -0.00786098]]\n"
          ],
          "name": "stdout"
        }
      ]
    },
    {
      "cell_type": "code",
      "metadata": {
        "id": "xsjVqfIDuRFI",
        "colab_type": "code",
        "colab": {}
      },
      "source": [
        "# 获得bert Embedding的方式，这里得到是整个embedding张量\n",
        "embeddings = model.get_layer('bert').embeddings.word_embeddings\n",
        "\n",
        "# 定义函数：通过词id 得到embedding\n",
        "def get_embedding(input_ids, embeddings=embeddings):\n",
        "  embeds = tf.gather(embeddings, input_ids)\n",
        "  return embeds"
      ],
      "execution_count": 23,
      "outputs": []
    },
    {
      "cell_type": "code",
      "metadata": {
        "id": "1umx71X3KLoF",
        "colab_type": "code",
        "colab": {
          "base_uri": "https://localhost:8080/",
          "height": 1000
        },
        "outputId": "731941ba-4fd8-447e-9604-0ae320686c5d"
      },
      "source": [
        "# 得到每个类的embedding\n",
        "N = tf.shape(train_ids)[0] // 1000\n",
        "embs_list = []\n",
        "for i in range(N):\n",
        "  embs = get_embedding(train_ids[i*1000:(i+1)*1000])\n",
        "  embs = tf.reshape(avg_pool1(tf.reshape(embs,[-1,max_length,hidden_size,1])), [-1,hidden_size])\n",
        "  embs_list.append(embs)\n",
        "embs = get_embedding(train_ids[N*1000:])\n",
        "embs = tf.reshape(avg_pool1(tf.reshape(embs,[-1,max_length,hidden_size,1])), [-1,hidden_size])\n",
        "embs_list.append(embs)\n",
        "seq_embs = tf.concat(embs_list, 0)\n",
        "print(seq_embs)\n",
        "class_embedding = np.zeros([4,hidden_size])\n",
        "for i in range(4):\n",
        "  index = train_labels == i\n",
        "  class_embs = seq_embs[index]\n",
        "  avg_pool2 = tf.keras.layers.AveragePooling2D(pool_size=(tf.shape(class_embs)[0], 1))\n",
        "  class_embs = tf.reshape(class_embs,[1,-1,hidden_size,1])\n",
        "  class_embs = avg_pool2(class_embs)\n",
        "  class_embedding[i] = tf.reshape(class_embs, [hidden_size]).numpy()\n",
        "print(class_embedding)"
      ],
      "execution_count": 24,
      "outputs": [
        {
          "output_type": "stream",
          "text": [
            "tf.Tensor(\n",
            "[[-0.02751189 -0.00504376  0.02836348 ... -0.01508925  0.01811048\n",
            "  -0.00696054]\n",
            " [-0.0291103  -0.0068353   0.0290508  ... -0.01454638  0.01716696\n",
            "  -0.00735704]\n",
            " [-0.02895394 -0.00528236  0.02997945 ... -0.01438874  0.01697626\n",
            "  -0.00859054]\n",
            " ...\n",
            " [-0.02738489 -0.00664984  0.02643914 ... -0.01302929  0.01626625\n",
            "  -0.00517814]\n",
            " [-0.02517835 -0.00585978  0.02457181 ... -0.01087277  0.01304133\n",
            "  -0.00456676]\n",
            " [-0.02702146 -0.00612158  0.02661998 ... -0.01274373  0.01512128\n",
            "  -0.00580887]], shape=(120000, 128), dtype=float32)\n",
            "[[-2.77419388e-02 -6.47877017e-03  2.79376451e-02 -2.31366279e-03\n",
            "   2.04960909e-03  9.15870629e-03  3.97964660e-03 -2.68967301e-02\n",
            "  -4.38774843e-03 -1.28370812e-02 -7.71740731e-03  4.08445019e-03\n",
            "  -1.43252090e-02  2.49407832e-02 -9.06661898e-03  5.53101115e-03\n",
            "  -4.36347770e-03  1.08565399e-02 -4.39468678e-03  1.69013292e-02\n",
            "  -7.87636358e-03 -1.65581070e-02 -4.10887133e-03  1.75967589e-02\n",
            "  -1.31594958e-02  9.69886780e-03 -1.26827008e-03  2.40002070e-02\n",
            "   1.57963801e-02 -3.07601923e-03 -1.05395913e-02  1.28553016e-02\n",
            "  -2.55438425e-02 -5.04420279e-03  3.69132566e-03  2.71665640e-02\n",
            "   1.84583534e-02  3.81443813e-03 -2.14369427e-02 -6.49664225e-03\n",
            "   1.36124231e-02 -1.89673839e-04  1.28410356e-02  2.29668971e-02\n",
            "   1.05597852e-02  1.15018571e-02 -9.16883815e-03 -5.68147143e-03\n",
            "   2.14218926e-02 -1.81060061e-02 -6.33862475e-03 -9.97463521e-03\n",
            "   9.21154302e-03  6.38654921e-03 -6.81319181e-03  6.48703706e-03\n",
            "   5.46543207e-03 -2.16245949e-02 -7.11222691e-03 -4.15950222e-03\n",
            "   7.41305295e-03  2.42648832e-02  4.85877274e-03  2.50893049e-02\n",
            "   1.54481307e-02 -4.70179459e-03  4.76821268e-04  1.59709603e-02\n",
            "   1.66111463e-03 -4.41095093e-03  2.25407109e-02  1.27736432e-02\n",
            "   1.69013832e-02 -1.39594479e-02  1.95298251e-02  8.20351299e-03\n",
            "   8.42896290e-04  2.98575056e-03  4.98118112e-03  9.74252587e-04\n",
            "  -7.75577407e-03 -2.26241536e-02  1.20032756e-02 -1.20111518e-02\n",
            "  -7.11171422e-03  1.18851094e-02  2.18938608e-02  1.45604964e-02\n",
            "  -1.55946948e-02 -5.91071928e-03  1.67122465e-02  1.05253216e-02\n",
            "  -9.45868250e-03  8.19485867e-05 -1.33566447e-02  8.66027549e-03\n",
            "  -1.78535376e-02 -1.07725188e-02  1.36716040e-02  6.38458459e-03\n",
            "  -9.22841660e-04 -1.77207701e-02  2.07416788e-02  6.63845614e-03\n",
            "  -3.09520215e-02  9.08732472e-04  9.39750951e-03 -3.71323171e-04\n",
            "   2.49644518e-02  9.20322631e-03 -2.09485204e-03 -2.77867038e-02\n",
            "   1.57548618e-02 -2.99577508e-02  8.17451626e-03 -2.61620097e-02\n",
            "   8.78513604e-03 -2.36734450e-02  1.56246275e-02  2.03599129e-02\n",
            "   1.27649792e-02  1.82447322e-02 -2.38342546e-02 -1.08559402e-02\n",
            "  -1.51230078e-02 -1.34885889e-02  1.71996709e-02 -6.89278124e-03]\n",
            " [-2.74857972e-02 -6.77591562e-03  2.75514275e-02 -1.99608807e-03\n",
            "   1.72674435e-03  8.78898706e-03  3.86145920e-03 -2.66358908e-02\n",
            "  -4.77165729e-03 -1.29365930e-02 -8.64764303e-03  3.88627173e-03\n",
            "  -1.37103759e-02  2.53746081e-02 -9.73162986e-03  6.34053163e-03\n",
            "  -3.70050408e-03  1.00999726e-02 -4.30975761e-03  1.67104434e-02\n",
            "  -7.00224703e-03 -1.64072178e-02 -3.68768186e-03  1.74608305e-02\n",
            "  -1.32036367e-02  8.78342800e-03 -5.81061060e-04  2.28189100e-02\n",
            "   1.57708395e-02 -3.06538935e-03 -1.06589654e-02  1.27871586e-02\n",
            "  -2.49308553e-02 -5.76764019e-03  2.31226627e-03  2.59204730e-02\n",
            "   1.75698530e-02  3.94037738e-03 -2.06991006e-02 -5.90644684e-03\n",
            "   1.34265777e-02  2.42611088e-04  1.33841122e-02  2.30191164e-02\n",
            "   1.23669030e-02  1.01037612e-02 -9.84229147e-03 -6.29578391e-03\n",
            "   2.22291574e-02 -1.68579053e-02 -6.85561774e-03 -8.92693177e-03\n",
            "   9.06810816e-03  6.31717173e-03 -6.48732996e-03  6.39881752e-03\n",
            "   5.47525845e-03 -2.10308228e-02 -6.67834934e-03 -4.19517653e-03\n",
            "   7.62075651e-03  2.29166746e-02  4.46224213e-03  2.42008455e-02\n",
            "   1.60855576e-02 -4.87220194e-03  1.37793005e-03  1.56490020e-02\n",
            "   1.35775271e-03 -4.46648663e-03  2.19781473e-02  1.31067922e-02\n",
            "   1.69934649e-02 -1.33718168e-02  1.98925175e-02  7.48829544e-03\n",
            "  -2.37203960e-04  3.09346989e-03  4.84659290e-03  7.30746891e-04\n",
            "  -7.33524421e-03 -2.22705863e-02  1.16277412e-02 -1.17777325e-02\n",
            "  -7.24111591e-03  1.20652365e-02  2.08063256e-02  1.40548814e-02\n",
            "  -1.49996970e-02 -5.35217347e-03  1.61552932e-02  1.01249460e-02\n",
            "  -1.00035947e-02  4.42980498e-04 -1.29336091e-02  7.96378218e-03\n",
            "  -1.77527014e-02 -1.00242840e-02  1.36133078e-02  6.03149412e-03\n",
            "  -1.34558266e-03 -1.78088080e-02  2.08376218e-02  6.76812232e-03\n",
            "  -2.94252653e-02 -1.90766921e-04  9.10617039e-03 -9.54815245e-04\n",
            "   2.35999618e-02  8.76749586e-03 -1.45164260e-03 -2.72292625e-02\n",
            "   1.62712988e-02 -3.05367839e-02  7.61885755e-03 -2.51210239e-02\n",
            "   8.56457278e-03 -2.34756768e-02  1.55352671e-02  2.00506169e-02\n",
            "   1.37546137e-02  1.81300603e-02 -2.40594931e-02 -1.07783033e-02\n",
            "  -1.59359165e-02 -1.27180144e-02  1.59807391e-02 -5.96340653e-03]\n",
            " [-2.81439088e-02 -5.46993082e-03  2.82551795e-02 -2.83257570e-03\n",
            "   1.61588087e-03  9.42278653e-03  2.85166875e-03 -2.56355852e-02\n",
            "  -4.36133379e-03 -1.19016357e-02 -7.37031689e-03  4.81545320e-03\n",
            "  -1.31113715e-02  2.45910008e-02 -9.79973935e-03  6.45897165e-03\n",
            "  -2.96247005e-03  1.13490047e-02 -5.11044823e-03  1.56099964e-02\n",
            "  -6.86180498e-03 -1.70051754e-02 -2.60908529e-03  1.82465296e-02\n",
            "  -1.25178201e-02  8.83989595e-03 -1.88992883e-03  2.38524247e-02\n",
            "   1.45186074e-02 -4.02169256e-03 -9.39514861e-03  1.30829792e-02\n",
            "  -2.58119125e-02 -4.52155434e-03  2.81209941e-03  2.57464331e-02\n",
            "   1.86424721e-02  4.75486927e-03 -2.16103531e-02 -7.18221907e-03\n",
            "   1.24796350e-02  5.89353382e-04  1.21640638e-02  2.33798847e-02\n",
            "   1.10844886e-02  1.00518605e-02 -9.38551035e-03 -4.83198417e-03\n",
            "   2.17368640e-02 -1.77943502e-02 -5.74217876e-03 -8.39398056e-03\n",
            "   9.27610882e-03  6.46202173e-03 -5.52902836e-03  7.56547600e-03\n",
            "   6.53282367e-03 -2.11371575e-02 -5.95951406e-03 -3.33644380e-03\n",
            "   6.47138106e-03  2.37835068e-02  5.35652554e-03  2.52597295e-02\n",
            "   1.53085664e-02 -4.38007619e-03  2.06423836e-04  1.60226729e-02\n",
            "   4.39190131e-04 -4.73894784e-03  2.09089331e-02  1.28669739e-02\n",
            "   1.60896294e-02 -1.46445921e-02  1.95976254e-02  8.38777702e-03\n",
            "   3.27004149e-04  2.17987387e-03  5.40229166e-03 -4.32975285e-05\n",
            "  -8.24320409e-03 -2.09735055e-02  1.09611228e-02 -1.27649559e-02\n",
            "  -7.92570226e-03  1.11902431e-02  2.13528145e-02  1.46567300e-02\n",
            "  -1.61213912e-02 -6.23950362e-03  1.55997733e-02  1.08219860e-02\n",
            "  -9.33402870e-03 -6.91681169e-04 -1.39655489e-02  7.31662475e-03\n",
            "  -1.65974423e-02 -1.08896615e-02  1.43184764e-02  5.38150733e-03\n",
            "  -2.62382760e-04 -1.71836074e-02  2.13436130e-02  6.44006766e-03\n",
            "  -2.97906045e-02  1.26919488e-03  8.16014688e-03 -1.32938230e-03\n",
            "   2.44717374e-02  9.93513782e-03 -2.71405396e-03 -2.82458961e-02\n",
            "   1.67712625e-02 -2.92467512e-02  8.53360258e-03 -2.61010043e-02\n",
            "   8.03546421e-03 -2.22860221e-02  1.60191301e-02  1.89329088e-02\n",
            "   1.30135026e-02  1.90007258e-02 -2.40558721e-02 -1.05805416e-02\n",
            "  -1.46861337e-02 -1.34720849e-02  1.61958057e-02 -7.23278243e-03]\n",
            " [-2.78302412e-02 -5.86021133e-03  2.86265258e-02 -2.57268362e-03\n",
            "   8.17145396e-04  9.75233037e-03  2.99211708e-03 -2.60067731e-02\n",
            "  -3.65342456e-03 -1.19832763e-02 -7.27417180e-03  4.58906125e-03\n",
            "  -1.37338880e-02  2.48702448e-02 -9.64314863e-03  6.57469360e-03\n",
            "  -3.59834475e-03  1.06992908e-02 -5.32436371e-03  1.62486732e-02\n",
            "  -8.07837024e-03 -1.65869854e-02 -3.98210622e-03  1.82410441e-02\n",
            "  -1.24036642e-02  9.12522897e-03 -1.33913395e-03  2.42693964e-02\n",
            "   1.50449974e-02 -3.87727004e-03 -9.89741739e-03  1.37429824e-02\n",
            "  -2.61436105e-02 -4.56245476e-03  3.49541986e-03  2.63176542e-02\n",
            "   1.81310959e-02  4.44776518e-03 -2.22691763e-02 -6.63626008e-03\n",
            "   1.33053446e-02  4.96047840e-04  1.25691043e-02  2.34913528e-02\n",
            "   1.16185537e-02  1.15900608e-02 -9.50273406e-03 -5.46960952e-03\n",
            "   2.20133979e-02 -1.83956549e-02 -5.89876948e-03 -9.06249043e-03\n",
            "   1.00710690e-02  6.86313072e-03 -6.82814606e-03  7.14858156e-03\n",
            "   5.75558655e-03 -2.21225731e-02 -6.85210619e-03 -3.62074398e-03\n",
            "   6.71333307e-03  2.41046716e-02  5.53863961e-03  2.57663839e-02\n",
            "   1.63310021e-02 -3.80862621e-03 -3.19800165e-05  1.66255701e-02\n",
            "   6.86712272e-04 -5.42033417e-03  2.16409452e-02  1.19869541e-02\n",
            "   1.63806025e-02 -1.44597627e-02  2.05067061e-02  8.53051431e-03\n",
            "   9.48552915e-04  2.13909335e-03  5.88016212e-03  7.34812929e-05\n",
            "  -8.68653320e-03 -2.19089370e-02  1.12627158e-02 -1.29009020e-02\n",
            "  -7.35637778e-03  1.13919545e-02  2.22166926e-02  1.53472992e-02\n",
            "  -1.62309781e-02 -5.85675240e-03  1.64370425e-02  1.02659473e-02\n",
            "  -9.34275147e-03 -4.79311944e-04 -1.40413539e-02  8.22040718e-03\n",
            "  -1.69417448e-02 -1.15018589e-02  1.41621511e-02  5.47522586e-03\n",
            "   2.17781580e-05 -1.82247777e-02  2.16295607e-02  6.96912594e-03\n",
            "  -3.12272049e-02  6.86214829e-04  8.69334396e-03 -1.36107893e-03\n",
            "   2.53987908e-02  9.51412600e-03 -2.71026697e-03 -2.80087404e-02\n",
            "   1.60189793e-02 -2.94697303e-02  8.82773101e-03 -2.64816191e-02\n",
            "   7.67163513e-03 -2.27701254e-02  1.62135437e-02  2.00572107e-02\n",
            "   1.27210934e-02  1.84434187e-02 -2.46161744e-02 -1.00631146e-02\n",
            "  -1.53336432e-02 -1.40950764e-02  1.74773727e-02 -7.25946994e-03]]\n"
          ],
          "name": "stdout"
        }
      ]
    },
    {
      "cell_type": "code",
      "metadata": {
        "id": "cNMDV_VX7Sso",
        "colab_type": "code",
        "colab": {
          "base_uri": "https://localhost:8080/",
          "height": 268
        },
        "outputId": "285157f6-5d3b-4168-af93-33cdfebdf193"
      },
      "source": [
        "# 类表征的余弦相似性\n",
        "res = sklearn.metrics.pairwise.cosine_similarity(class_embedding, class_embedding_compare)\n",
        "plt.imshow(res)\n",
        "plt.show()"
      ],
      "execution_count": 25,
      "outputs": [
        {
          "output_type": "display_data",
          "data": {
            "image/png": "[encoded data removed]",
            "text/plain": [
              "<Figure size 432x288 with 1 Axes>"
            ]
          },
          "metadata": {
            "tags": [],
            "needs_background": "light"
          }
        }
      ]
    },
    {
      "cell_type": "code",
      "metadata": {
        "id": "sisEMB1W_Ulp",
        "colab_type": "code",
        "colab": {}
      },
      "source": [
        "# t-SNE分析,画图\n",
        "def plot_scatter(emb, y_label, flag):\n",
        "  t_sne_temp = TSNE(n_components=2).fit_transform(emb)\n",
        "  y_label = [x + 10 * flag for x in y_label]\n",
        "  plt.scatter(t_sne_temp[:,0], t_sne_temp[:,1], c=y_label)"
      ],
      "execution_count": 26,
      "outputs": []
    },
    {
      "cell_type": "code",
      "metadata": {
        "id": "JSLCOFkgMOrU",
        "colab_type": "code",
        "colab": {
          "base_uri": "https://localhost:8080/",
          "height": 264
        },
        "outputId": "d1c8e792-58a8-4296-b2dd-84992aac0750"
      },
      "source": [
        "y_label = train_labels[10000:11000].numpy().tolist()\n",
        "plot_scatter(seq_embs[10000:11000], y_label, 0)\n",
        "plt.show()"
      ],
      "execution_count": 27,
      "outputs": [
        {
          "output_type": "display_data",
          "data": {
            "image/png": "[encoded data removed]",
            "text/plain": [
              "<Figure size 432x288 with 1 Axes>"
            ]
          },
          "metadata": {
            "tags": [],
            "needs_background": "light"
          }
        }
      ]
    },
    {
      "cell_type": "code",
      "metadata": {
        "id": "shQT7f5rMRHK",
        "colab_type": "code",
        "colab": {
          "base_uri": "https://localhost:8080/",
          "height": 264
        },
        "outputId": "cae3df2d-4be3-4dd0-a411-682bd37e99bf"
      },
      "source": [
        "plot_scatter(seq_embs_compare[10000:11000], y_label, 1)\n",
        "plt.show()"
      ],
      "execution_count": 28,
      "outputs": [
        {
          "output_type": "display_data",
          "data": {
            "image/png": "[encoded data removed]",
            "text/plain": [
              "<Figure size 432x288 with 1 Axes>"
            ]
          },
          "metadata": {
            "tags": [],
            "needs_background": "light"
          }
        }
      ]
    },
    {
      "cell_type": "code",
      "metadata": {
        "id": "TGGMQiMSkDEH",
        "colab_type": "code",
        "colab": {}
      },
      "source": [
        "def plot_graphs(history1, history2, history3, metric, labels):\n",
        "  plt.plot(history1.history[metric], label=labels[0])\n",
        "  plt.plot(history2.history[metric], label=labels[1])\n",
        "  plt.plot(history3.history[metric], label=labels[2])\n",
        "  plt.xlabel(\"Batches\")\n",
        "  plt.ylabel(metric)\n",
        "  plt.legend()\n",
        "  plt.show()"
      ],
      "execution_count": 29,
      "outputs": []
    },
    {
      "cell_type": "code",
      "metadata": {
        "id": "-VQIqyIVllcg",
        "colab_type": "code",
        "colab": {
          "base_uri": "https://localhost:8080/",
          "height": 615
        },
        "outputId": "357d82ae-dc3f-47af-f914-097faaada866"
      },
      "source": [
        "cnfg = BertConfig(hidden_size=hidden_size, num_labels=4, num_hidden_layers=6, num_attention_heads=4, intermediate_size=512)\n",
        "model = TFBertForSequenceClassification(cnfg)\n",
        "optimizer = tf.keras.optimizers.Adam(learning_rate=0.001, epsilon=1e-08, clipnorm=1.0)\n",
        "loss = tf.keras.losses.SparseCategoricalCrossentropy(from_logits=True)\n",
        "metric = tf.keras.metrics.SparseCategoricalAccuracy('accuracy')\n",
        "model.compile(optimizer=optimizer, loss=loss, metrics=[metric])\n",
        "history1 = model.fit(x=[train_ids, train_mask], \n",
        "     y=train_labels, \n",
        "     batch_size=batch_size, \n",
        "     epochs=epochs, \n",
        "     verbose=1, \n",
        "     callbacks=[BatchCallback()],\n",
        "     shuffle=True)\n",
        "\n",
        "cnfg = BertConfig(hidden_size=hidden_size, num_labels=4, num_hidden_layers=6, num_attention_heads=4, intermediate_size=512)\n",
        "model = TFBertForSequenceClassification(cnfg)\n",
        "optimizer = tf.keras.optimizers.Adam(learning_rate=0.00001, epsilon=1e-08, clipnorm=1.0)\n",
        "loss = tf.keras.losses.SparseCategoricalCrossentropy(from_logits=True)\n",
        "metric = tf.keras.metrics.SparseCategoricalAccuracy('accuracy')\n",
        "model.compile(optimizer=optimizer, loss=loss, metrics=[metric])\n",
        "history2 = model.fit(x=[train_ids, train_mask], \n",
        "     y=train_labels, \n",
        "     batch_size=batch_size, \n",
        "     epochs=epochs, \n",
        "     verbose=1, \n",
        "     callbacks=[BatchCallback()],\n",
        "     shuffle=True)\n",
        "\n",
        "plot_graphs(history, history1, history2, 'accuracy', ['lr=0.0001','lr=0.001','lr=0.00001'])"
      ],
      "execution_count": 30,
      "outputs": [
        {
          "output_type": "stream",
          "text": [
            "Epoch 1/5\n",
            "469/469 [==============================] - 281s 600ms/step - loss: 0.4942 - accuracy: 0.8228\n",
            "Epoch 2/5\n",
            "469/469 [==============================] - 281s 599ms/step - loss: 0.2670 - accuracy: 0.9117\n",
            "Epoch 3/5\n",
            "469/469 [==============================] - 281s 599ms/step - loss: 0.2042 - accuracy: 0.9322\n",
            "Epoch 4/5\n",
            "469/469 [==============================] - 281s 599ms/step - loss: 0.1638 - accuracy: 0.9452\n",
            "Epoch 5/5\n",
            "469/469 [==============================] - 281s 599ms/step - loss: 0.1345 - accuracy: 0.9550\n",
            "Epoch 1/5\n",
            "469/469 [==============================] - 280s 598ms/step - loss: 1.3841 - accuracy: 0.2835\n",
            "Epoch 2/5\n",
            "469/469 [==============================] - 280s 598ms/step - loss: 1.0834 - accuracy: 0.5229\n",
            "Epoch 3/5\n",
            "469/469 [==============================] - 281s 598ms/step - loss: 0.7750 - accuracy: 0.6887\n",
            "Epoch 4/5\n",
            "469/469 [==============================] - 281s 598ms/step - loss: 0.6015 - accuracy: 0.8016\n",
            "Epoch 5/5\n",
            "469/469 [==============================] - 280s 598ms/step - loss: 0.5010 - accuracy: 0.8458\n"
          ],
          "name": "stdout"
        },
        {
          "output_type": "display_data",
          "data": {
            "image/png": "[encoded data removed]",
            "text/plain": [
              "<Figure size 432x288 with 1 Axes>"
            ]
          },
          "metadata": {
            "tags": [],
            "needs_background": "light"
          }
        }
      ]
    },
    {
      "cell_type": "code",
      "metadata": {
        "id": "uxK1g2MTmpyG",
        "colab_type": "code",
        "colab": {
          "base_uri": "https://localhost:8080/",
          "height": 616
        },
        "outputId": "773ed447-ade3-4f85-e2c9-2a8c554e6ea0"
      },
      "source": [
        "cnfg = BertConfig(hidden_size=hidden_size, num_labels=4, num_hidden_layers=4, num_attention_heads=4, intermediate_size=512)\n",
        "model = TFBertForSequenceClassification(cnfg)\n",
        "optimizer = tf.keras.optimizers.Adam(learning_rate=0.0001, epsilon=1e-08, clipnorm=1.0)\n",
        "loss = tf.keras.losses.SparseCategoricalCrossentropy(from_logits=True)\n",
        "metric = tf.keras.metrics.SparseCategoricalAccuracy('accuracy')\n",
        "model.compile(optimizer=optimizer, loss=loss, metrics=[metric])\n",
        "history1 = model.fit(x=[train_ids, train_mask], \n",
        "     y=train_labels, \n",
        "     batch_size=batch_size, \n",
        "     epochs=epochs, \n",
        "     verbose=1, \n",
        "     callbacks=[BatchCallback()],\n",
        "     shuffle=True)\n",
        "\n",
        "cnfg = BertConfig(hidden_size=hidden_size, num_labels=4, num_hidden_layers=8, num_attention_heads=4, intermediate_size=512)\n",
        "model = TFBertForSequenceClassification(cnfg)\n",
        "optimizer = tf.keras.optimizers.Adam(learning_rate=0.0001, epsilon=1e-08, clipnorm=1.0)\n",
        "loss = tf.keras.losses.SparseCategoricalCrossentropy(from_logits=True)\n",
        "metric = tf.keras.metrics.SparseCategoricalAccuracy('accuracy')\n",
        "model.compile(optimizer=optimizer, loss=loss, metrics=[metric])\n",
        "history2 = model.fit(x=[train_ids, train_mask], \n",
        "     y=train_labels, \n",
        "     batch_size=batch_size, \n",
        "     epochs=epochs, \n",
        "     verbose=1, \n",
        "     callbacks=[BatchCallback()],\n",
        "     shuffle=True)\n",
        "\n",
        "plot_graphs(history, history1, history2, 'accuracy', ['layers=6','layers=4','layers=8'])"
      ],
      "execution_count": 31,
      "outputs": [
        {
          "output_type": "stream",
          "text": [
            "Epoch 1/5\n",
            "469/469 [==============================] - 191s 407ms/step - loss: 0.7165 - accuracy: 0.7052\n",
            "Epoch 2/5\n",
            "469/469 [==============================] - 191s 407ms/step - loss: 0.3178 - accuracy: 0.8957\n",
            "Epoch 3/5\n",
            "469/469 [==============================] - 191s 407ms/step - loss: 0.2491 - accuracy: 0.9178\n",
            "Epoch 4/5\n",
            "469/469 [==============================] - 191s 407ms/step - loss: 0.2069 - accuracy: 0.9319\n",
            "Epoch 5/5\n",
            "469/469 [==============================] - 191s 407ms/step - loss: 0.1799 - accuracy: 0.9409\n",
            "Epoch 1/5\n",
            "469/469 [==============================] - 370s 789ms/step - loss: 0.7199 - accuracy: 0.7032\n",
            "Epoch 2/5\n",
            "469/469 [==============================] - 370s 789ms/step - loss: 0.3296 - accuracy: 0.8918\n",
            "Epoch 3/5\n",
            "469/469 [==============================] - 370s 789ms/step - loss: 0.2593 - accuracy: 0.9146\n",
            "Epoch 4/5\n",
            "469/469 [==============================] - 370s 788ms/step - loss: 0.2189 - accuracy: 0.9280\n",
            "Epoch 5/5\n",
            "469/469 [==============================] - 370s 788ms/step - loss: 0.1901 - accuracy: 0.9369\n"
          ],
          "name": "stdout"
        },
        {
          "output_type": "display_data",
          "data": {
            "image/png": "[encoded data removed]",
            "text/plain": [
              "<Figure size 432x288 with 1 Axes>"
            ]
          },
          "metadata": {
            "tags": [],
            "needs_background": "light"
          }
        }
      ]
    }
  ]
}