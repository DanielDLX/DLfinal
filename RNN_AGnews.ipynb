{
  "nbformat": 4,
  "nbformat_minor": 0,
  "metadata": {
    "colab": {
      "name": "RNN_AGnews.ipynb",
      "provenance": [],
      "collapsed_sections": [],
      "authorship_tag": "ABX9TyOmfkSJythzcIXSa2LVZ+8R",
      "include_colab_link": true
    },
    "kernelspec": {
      "name": "python3",
      "display_name": "Python 3"
    },
    "accelerator": "GPU",
    "widgets": {
      "application/vnd.jupyter.widget-state+json": {
        "d51c2b9a1a084cc38f3dda5439410160": {
          "model_module": "@jupyter-widgets/controls",
          "model_name": "HBoxModel",
          "state": {
            "_view_name": "HBoxView",
            "_dom_classes": [],
            "_model_name": "HBoxModel",
            "_view_module": "@jupyter-widgets/controls",
            "_model_module_version": "1.5.0",
            "_view_count": null,
            "_view_module_version": "1.5.0",
            "box_style": "",
            "layout": "IPY_MODEL_f3d9e5f8b79b486ead441365b9537a7b",
            "_model_module": "@jupyter-widgets/controls",
            "children": [
              "IPY_MODEL_98cdb092f74a4783b5ea373b68b8eee7",
              "IPY_MODEL_a3c6522766ad411b9f850d4f11691d59"
            ]
          }
        },
        "f3d9e5f8b79b486ead441365b9537a7b": {
          "model_module": "@jupyter-widgets/base",
          "model_name": "LayoutModel",
          "state": {
            "_view_name": "LayoutView",
            "grid_template_rows": null,
            "right": null,
            "justify_content": null,
            "_view_module": "@jupyter-widgets/base",
            "overflow": null,
            "_model_module_version": "1.2.0",
            "_view_count": null,
            "flex_flow": null,
            "width": null,
            "min_width": null,
            "border": null,
            "align_items": null,
            "bottom": null,
            "_model_module": "@jupyter-widgets/base",
            "top": null,
            "grid_column": null,
            "overflow_y": null,
            "overflow_x": null,
            "grid_auto_flow": null,
            "grid_area": null,
            "grid_template_columns": null,
            "flex": null,
            "_model_name": "LayoutModel",
            "justify_items": null,
            "grid_row": null,
            "max_height": null,
            "align_content": null,
            "visibility": null,
            "align_self": null,
            "height": null,
            "min_height": null,
            "padding": null,
            "grid_auto_rows": null,
            "grid_gap": null,
            "max_width": null,
            "order": null,
            "_view_module_version": "1.2.0",
            "grid_template_areas": null,
            "object_position": null,
            "object_fit": null,
            "grid_auto_columns": null,
            "margin": null,
            "display": null,
            "left": null
          }
        },
        "98cdb092f74a4783b5ea373b68b8eee7": {
          "model_module": "@jupyter-widgets/controls",
          "model_name": "FloatProgressModel",
          "state": {
            "_view_name": "ProgressView",
            "style": "IPY_MODEL_061877fb45c041a7b0f2cda7f4628982",
            "_dom_classes": [],
            "description": "100%",
            "_model_name": "FloatProgressModel",
            "bar_style": "success",
            "max": 1000,
            "_view_module": "@jupyter-widgets/controls",
            "_model_module_version": "1.5.0",
            "value": 1000,
            "_view_count": null,
            "_view_module_version": "1.5.0",
            "orientation": "horizontal",
            "min": 0,
            "description_tooltip": null,
            "_model_module": "@jupyter-widgets/controls",
            "layout": "IPY_MODEL_72a209a29c0e4d06b22a12a6a3c44485"
          }
        },
        "a3c6522766ad411b9f850d4f11691d59": {
          "model_module": "@jupyter-widgets/controls",
          "model_name": "HTMLModel",
          "state": {
            "_view_name": "HTMLView",
            "style": "IPY_MODEL_fe18b382fc4f487d853a834ba7b5867b",
            "_dom_classes": [],
            "description": "",
            "_model_name": "HTMLModel",
            "placeholder": "​",
            "_view_module": "@jupyter-widgets/controls",
            "_model_module_version": "1.5.0",
            "value": " 1000/1000 [00:03&lt;00:00, 301.53it/s]",
            "_view_count": null,
            "_view_module_version": "1.5.0",
            "description_tooltip": null,
            "_model_module": "@jupyter-widgets/controls",
            "layout": "IPY_MODEL_4b2c14315e89446d8a5c68cd135e185a"
          }
        },
        "061877fb45c041a7b0f2cda7f4628982": {
          "model_module": "@jupyter-widgets/controls",
          "model_name": "ProgressStyleModel",
          "state": {
            "_view_name": "StyleView",
            "_model_name": "ProgressStyleModel",
            "description_width": "initial",
            "_view_module": "@jupyter-widgets/base",
            "_model_module_version": "1.5.0",
            "_view_count": null,
            "_view_module_version": "1.2.0",
            "bar_color": null,
            "_model_module": "@jupyter-widgets/controls"
          }
        },
        "72a209a29c0e4d06b22a12a6a3c44485": {
          "model_module": "@jupyter-widgets/base",
          "model_name": "LayoutModel",
          "state": {
            "_view_name": "LayoutView",
            "grid_template_rows": null,
            "right": null,
            "justify_content": null,
            "_view_module": "@jupyter-widgets/base",
            "overflow": null,
            "_model_module_version": "1.2.0",
            "_view_count": null,
            "flex_flow": null,
            "width": null,
            "min_width": null,
            "border": null,
            "align_items": null,
            "bottom": null,
            "_model_module": "@jupyter-widgets/base",
            "top": null,
            "grid_column": null,
            "overflow_y": null,
            "overflow_x": null,
            "grid_auto_flow": null,
            "grid_area": null,
            "grid_template_columns": null,
            "flex": null,
            "_model_name": "LayoutModel",
            "justify_items": null,
            "grid_row": null,
            "max_height": null,
            "align_content": null,
            "visibility": null,
            "align_self": null,
            "height": null,
            "min_height": null,
            "padding": null,
            "grid_auto_rows": null,
            "grid_gap": null,
            "max_width": null,
            "order": null,
            "_view_module_version": "1.2.0",
            "grid_template_areas": null,
            "object_position": null,
            "object_fit": null,
            "grid_auto_columns": null,
            "margin": null,
            "display": null,
            "left": null
          }
        },
        "fe18b382fc4f487d853a834ba7b5867b": {
          "model_module": "@jupyter-widgets/controls",
          "model_name": "DescriptionStyleModel",
          "state": {
            "_view_name": "StyleView",
            "_model_name": "DescriptionStyleModel",
            "description_width": "",
            "_view_module": "@jupyter-widgets/base",
            "_model_module_version": "1.5.0",
            "_view_count": null,
            "_view_module_version": "1.2.0",
            "_model_module": "@jupyter-widgets/controls"
          }
        },
        "4b2c14315e89446d8a5c68cd135e185a": {
          "model_module": "@jupyter-widgets/base",
          "model_name": "LayoutModel",
          "state": {
            "_view_name": "LayoutView",
            "grid_template_rows": null,
            "right": null,
            "justify_content": null,
            "_view_module": "@jupyter-widgets/base",
            "overflow": null,
            "_model_module_version": "1.2.0",
            "_view_count": null,
            "flex_flow": null,
            "width": null,
            "min_width": null,
            "border": null,
            "align_items": null,
            "bottom": null,
            "_model_module": "@jupyter-widgets/base",
            "top": null,
            "grid_column": null,
            "overflow_y": null,
            "overflow_x": null,
            "grid_auto_flow": null,
            "grid_area": null,
            "grid_template_columns": null,
            "flex": null,
            "_model_name": "LayoutModel",
            "justify_items": null,
            "grid_row": null,
            "max_height": null,
            "align_content": null,
            "visibility": null,
            "align_self": null,
            "height": null,
            "min_height": null,
            "padding": null,
            "grid_auto_rows": null,
            "grid_gap": null,
            "max_width": null,
            "order": null,
            "_view_module_version": "1.2.0",
            "grid_template_areas": null,
            "object_position": null,
            "object_fit": null,
            "grid_auto_columns": null,
            "margin": null,
            "display": null,
            "left": null
          }
        },
        "7d93261e1dde41d9bdba0b9c46b612c5": {
          "model_module": "@jupyter-widgets/controls",
          "model_name": "HBoxModel",
          "state": {
            "_view_name": "HBoxView",
            "_dom_classes": [],
            "_model_name": "HBoxModel",
            "_view_module": "@jupyter-widgets/controls",
            "_model_module_version": "1.5.0",
            "_view_count": null,
            "_view_module_version": "1.5.0",
            "box_style": "",
            "layout": "IPY_MODEL_1bc991ff156d41a9bd5daed57279655c",
            "_model_module": "@jupyter-widgets/controls",
            "children": [
              "IPY_MODEL_2d9abebca7084e4997f95e134aea0680",
              "IPY_MODEL_aec1eb9e9646478eb47511dc9d0f6aaa"
            ]
          }
        },
        "1bc991ff156d41a9bd5daed57279655c": {
          "model_module": "@jupyter-widgets/base",
          "model_name": "LayoutModel",
          "state": {
            "_view_name": "LayoutView",
            "grid_template_rows": null,
            "right": null,
            "justify_content": null,
            "_view_module": "@jupyter-widgets/base",
            "overflow": null,
            "_model_module_version": "1.2.0",
            "_view_count": null,
            "flex_flow": null,
            "width": null,
            "min_width": null,
            "border": null,
            "align_items": null,
            "bottom": null,
            "_model_module": "@jupyter-widgets/base",
            "top": null,
            "grid_column": null,
            "overflow_y": null,
            "overflow_x": null,
            "grid_auto_flow": null,
            "grid_area": null,
            "grid_template_columns": null,
            "flex": null,
            "_model_name": "LayoutModel",
            "justify_items": null,
            "grid_row": null,
            "max_height": null,
            "align_content": null,
            "visibility": null,
            "align_self": null,
            "height": null,
            "min_height": null,
            "padding": null,
            "grid_auto_rows": null,
            "grid_gap": null,
            "max_width": null,
            "order": null,
            "_view_module_version": "1.2.0",
            "grid_template_areas": null,
            "object_position": null,
            "object_fit": null,
            "grid_auto_columns": null,
            "margin": null,
            "display": null,
            "left": null
          }
        },
        "2d9abebca7084e4997f95e134aea0680": {
          "model_module": "@jupyter-widgets/controls",
          "model_name": "FloatProgressModel",
          "state": {
            "_view_name": "ProgressView",
            "style": "IPY_MODEL_ed697b7b4b324acb9a7cf0ce9b923d90",
            "_dom_classes": [],
            "description": "100%",
            "_model_name": "FloatProgressModel",
            "bar_style": "success",
            "max": 1000,
            "_view_module": "@jupyter-widgets/controls",
            "_model_module_version": "1.5.0",
            "value": 1000,
            "_view_count": null,
            "_view_module_version": "1.5.0",
            "orientation": "horizontal",
            "min": 0,
            "description_tooltip": null,
            "_model_module": "@jupyter-widgets/controls",
            "layout": "IPY_MODEL_f4799042e4644a058848b654701f7a74"
          }
        },
        "aec1eb9e9646478eb47511dc9d0f6aaa": {
          "model_module": "@jupyter-widgets/controls",
          "model_name": "HTMLModel",
          "state": {
            "_view_name": "HTMLView",
            "style": "IPY_MODEL_47309f8c0e2a4f88bece4160be26e8d0",
            "_dom_classes": [],
            "description": "",
            "_model_name": "HTMLModel",
            "placeholder": "​",
            "_view_module": "@jupyter-widgets/controls",
            "_model_module_version": "1.5.0",
            "value": " 1000/1000 [00:00&lt;00:00, 1064.79it/s]",
            "_view_count": null,
            "_view_module_version": "1.5.0",
            "description_tooltip": null,
            "_model_module": "@jupyter-widgets/controls",
            "layout": "IPY_MODEL_db7a8169ae6944dcad374ec1fb4b77e4"
          }
        },
        "ed697b7b4b324acb9a7cf0ce9b923d90": {
          "model_module": "@jupyter-widgets/controls",
          "model_name": "ProgressStyleModel",
          "state": {
            "_view_name": "StyleView",
            "_model_name": "ProgressStyleModel",
            "description_width": "initial",
            "_view_module": "@jupyter-widgets/base",
            "_model_module_version": "1.5.0",
            "_view_count": null,
            "_view_module_version": "1.2.0",
            "bar_color": null,
            "_model_module": "@jupyter-widgets/controls"
          }
        },
        "f4799042e4644a058848b654701f7a74": {
          "model_module": "@jupyter-widgets/base",
          "model_name": "LayoutModel",
          "state": {
            "_view_name": "LayoutView",
            "grid_template_rows": null,
            "right": null,
            "justify_content": null,
            "_view_module": "@jupyter-widgets/base",
            "overflow": null,
            "_model_module_version": "1.2.0",
            "_view_count": null,
            "flex_flow": null,
            "width": null,
            "min_width": null,
            "border": null,
            "align_items": null,
            "bottom": null,
            "_model_module": "@jupyter-widgets/base",
            "top": null,
            "grid_column": null,
            "overflow_y": null,
            "overflow_x": null,
            "grid_auto_flow": null,
            "grid_area": null,
            "grid_template_columns": null,
            "flex": null,
            "_model_name": "LayoutModel",
            "justify_items": null,
            "grid_row": null,
            "max_height": null,
            "align_content": null,
            "visibility": null,
            "align_self": null,
            "height": null,
            "min_height": null,
            "padding": null,
            "grid_auto_rows": null,
            "grid_gap": null,
            "max_width": null,
            "order": null,
            "_view_module_version": "1.2.0",
            "grid_template_areas": null,
            "object_position": null,
            "object_fit": null,
            "grid_auto_columns": null,
            "margin": null,
            "display": null,
            "left": null
          }
        },
        "47309f8c0e2a4f88bece4160be26e8d0": {
          "model_module": "@jupyter-widgets/controls",
          "model_name": "DescriptionStyleModel",
          "state": {
            "_view_name": "StyleView",
            "_model_name": "DescriptionStyleModel",
            "description_width": "",
            "_view_module": "@jupyter-widgets/base",
            "_model_module_version": "1.5.0",
            "_view_count": null,
            "_view_module_version": "1.2.0",
            "_model_module": "@jupyter-widgets/controls"
          }
        },
        "db7a8169ae6944dcad374ec1fb4b77e4": {
          "model_module": "@jupyter-widgets/base",
          "model_name": "LayoutModel",
          "state": {
            "_view_name": "LayoutView",
            "grid_template_rows": null,
            "right": null,
            "justify_content": null,
            "_view_module": "@jupyter-widgets/base",
            "overflow": null,
            "_model_module_version": "1.2.0",
            "_view_count": null,
            "flex_flow": null,
            "width": null,
            "min_width": null,
            "border": null,
            "align_items": null,
            "bottom": null,
            "_model_module": "@jupyter-widgets/base",
            "top": null,
            "grid_column": null,
            "overflow_y": null,
            "overflow_x": null,
            "grid_auto_flow": null,
            "grid_area": null,
            "grid_template_columns": null,
            "flex": null,
            "_model_name": "LayoutModel",
            "justify_items": null,
            "grid_row": null,
            "max_height": null,
            "align_content": null,
            "visibility": null,
            "align_self": null,
            "height": null,
            "min_height": null,
            "padding": null,
            "grid_auto_rows": null,
            "grid_gap": null,
            "max_width": null,
            "order": null,
            "_view_module_version": "1.2.0",
            "grid_template_areas": null,
            "object_position": null,
            "object_fit": null,
            "grid_auto_columns": null,
            "margin": null,
            "display": null,
            "left": null
          }
        }
      }
    }
  },
  "cells": [
    {
      "cell_type": "markdown",
      "metadata": {
        "id": "view-in-github",
        "colab_type": "text"
      },
      "source": [
        "<a href=\"https://colab.research.google.com/github/DanielDLX/DLfinal/blob/master/RNN_AGnews.ipynb\" target=\"_parent\"><img src=\"https://colab.research.google.com/assets/colab-badge.svg\" alt=\"Open In Colab\"/></a>"
      ]
    },
    {
      "cell_type": "code",
      "metadata": {
        "id": "wB82vVWjKCjo",
        "colab_type": "code",
        "colab": {
          "base_uri": "https://localhost:8080/",
          "height": 351
        },
        "outputId": "19136510-9480-400f-e58b-7f55639f3bed"
      },
      "source": [
        "# 导入包\n",
        "# transformer提供了一些训练好的模型，可以很方便的使用。\n",
        "!pip install transformers\n",
        "import tensorflow as tf\n",
        "import pandas as pd\n",
        "import os\n",
        "import tqdm\n",
        "# 使用分类的模型，增加了一个head用于分类。\n",
        "from transformers import BertTokenizer, TFBertForSequenceClassification\n",
        "from sklearn.model_selection import train_test_split\n",
        "import matplotlib.pyplot as plt\n",
        "import math\n",
        "% matplotlib inline\n",
        "\n",
        "tf.__version__"
      ],
      "execution_count": 1,
      "outputs": [
        {
          "output_type": "stream",
          "text": [
            "Requirement already satisfied: transformers in /usr/local/lib/python3.6/dist-packages (3.0.2)\n",
            "Requirement already satisfied: numpy in /usr/local/lib/python3.6/dist-packages (from transformers) (1.18.5)\n",
            "Requirement already satisfied: requests in /usr/local/lib/python3.6/dist-packages (from transformers) (2.23.0)\n",
            "Requirement already satisfied: sacremoses in /usr/local/lib/python3.6/dist-packages (from transformers) (0.0.43)\n",
            "Requirement already satisfied: dataclasses; python_version < \"3.7\" in /usr/local/lib/python3.6/dist-packages (from transformers) (0.7)\n",
            "Requirement already satisfied: packaging in /usr/local/lib/python3.6/dist-packages (from transformers) (20.4)\n",
            "Requirement already satisfied: sentencepiece!=0.1.92 in /usr/local/lib/python3.6/dist-packages (from transformers) (0.1.91)\n",
            "Requirement already satisfied: filelock in /usr/local/lib/python3.6/dist-packages (from transformers) (3.0.12)\n",
            "Requirement already satisfied: tokenizers==0.8.1.rc1 in /usr/local/lib/python3.6/dist-packages (from transformers) (0.8.1rc1)\n",
            "Requirement already satisfied: tqdm>=4.27 in /usr/local/lib/python3.6/dist-packages (from transformers) (4.41.1)\n",
            "Requirement already satisfied: regex!=2019.12.17 in /usr/local/lib/python3.6/dist-packages (from transformers) (2019.12.20)\n",
            "Requirement already satisfied: chardet<4,>=3.0.2 in /usr/local/lib/python3.6/dist-packages (from requests->transformers) (3.0.4)\n",
            "Requirement already satisfied: urllib3!=1.25.0,!=1.25.1,<1.26,>=1.21.1 in /usr/local/lib/python3.6/dist-packages (from requests->transformers) (1.24.3)\n",
            "Requirement already satisfied: idna<3,>=2.5 in /usr/local/lib/python3.6/dist-packages (from requests->transformers) (2.10)\n",
            "Requirement already satisfied: certifi>=2017.4.17 in /usr/local/lib/python3.6/dist-packages (from requests->transformers) (2020.6.20)\n",
            "Requirement already satisfied: click in /usr/local/lib/python3.6/dist-packages (from sacremoses->transformers) (7.1.2)\n",
            "Requirement already satisfied: six in /usr/local/lib/python3.6/dist-packages (from sacremoses->transformers) (1.15.0)\n",
            "Requirement already satisfied: joblib in /usr/local/lib/python3.6/dist-packages (from sacremoses->transformers) (0.16.0)\n",
            "Requirement already satisfied: pyparsing>=2.0.2 in /usr/local/lib/python3.6/dist-packages (from packaging->transformers) (2.4.7)\n"
          ],
          "name": "stdout"
        },
        {
          "output_type": "execute_result",
          "data": {
            "application/vnd.google.colaboratory.intrinsic+json": {
              "type": "string"
            },
            "text/plain": [
              "'2.2.0'"
            ]
          },
          "metadata": {
            "tags": []
          },
          "execution_count": 1
        }
      ]
    },
    {
      "cell_type": "code",
      "metadata": {
        "id": "MNQQvH6fKUON",
        "colab_type": "code",
        "colab": {
          "base_uri": "https://localhost:8080/",
          "height": 883
        },
        "outputId": "59af5e17-5459-4458-f26f-18694f55c1f2"
      },
      "source": [
        "# 导入现成的模型和分词器\n",
        "tokenizer = BertTokenizer.from_pretrained('bert-base-uncased')\n",
        "model = TFBertForSequenceClassification.from_pretrained(\"bert-base-uncased\", num_labels=4, output_hidden_states=True) # 分类类别数\n",
        "model.summary()\n",
        "model.config"
      ],
      "execution_count": 2,
      "outputs": [
        {
          "output_type": "stream",
          "text": [
            "Some weights of the model checkpoint at bert-base-uncased were not used when initializing TFBertForSequenceClassification: ['mlm___cls', 'nsp___cls']\n",
            "- This IS expected if you are initializing TFBertForSequenceClassification from the checkpoint of a model trained on another task or with another architecture (e.g. initializing a BertForSequenceClassification model from a BertForPretraining model).\n",
            "- This IS NOT expected if you are initializing TFBertForSequenceClassification from the checkpoint of a model that you expect to be exactly identical (initializing a BertForSequenceClassification model from a BertForSequenceClassification model).\n",
            "Some weights of TFBertForSequenceClassification were not initialized from the model checkpoint at bert-base-uncased and are newly initialized: ['dropout_37', 'classifier']\n",
            "You should probably TRAIN this model on a down-stream task to be able to use it for predictions and inference.\n"
          ],
          "name": "stderr"
        },
        {
          "output_type": "stream",
          "text": [
            "Model: \"tf_bert_for_sequence_classification\"\n",
            "_________________________________________________________________\n",
            "Layer (type)                 Output Shape              Param #   \n",
            "=================================================================\n",
            "bert (TFBertMainLayer)       multiple                  109482240 \n",
            "_________________________________________________________________\n",
            "dropout_37 (Dropout)         multiple                  0         \n",
            "_________________________________________________________________\n",
            "classifier (Dense)           multiple                  3076      \n",
            "=================================================================\n",
            "Total params: 109,485,316\n",
            "Trainable params: 109,485,316\n",
            "Non-trainable params: 0\n",
            "_________________________________________________________________\n"
          ],
          "name": "stdout"
        },
        {
          "output_type": "execute_result",
          "data": {
            "text/plain": [
              "BertConfig {\n",
              "  \"architectures\": [\n",
              "    \"BertForMaskedLM\"\n",
              "  ],\n",
              "  \"attention_probs_dropout_prob\": 0.1,\n",
              "  \"gradient_checkpointing\": false,\n",
              "  \"hidden_act\": \"gelu\",\n",
              "  \"hidden_dropout_prob\": 0.1,\n",
              "  \"hidden_size\": 768,\n",
              "  \"id2label\": {\n",
              "    \"0\": \"LABEL_0\",\n",
              "    \"1\": \"LABEL_1\",\n",
              "    \"2\": \"LABEL_2\",\n",
              "    \"3\": \"LABEL_3\"\n",
              "  },\n",
              "  \"initializer_range\": 0.02,\n",
              "  \"intermediate_size\": 3072,\n",
              "  \"label2id\": {\n",
              "    \"LABEL_0\": 0,\n",
              "    \"LABEL_1\": 1,\n",
              "    \"LABEL_2\": 2,\n",
              "    \"LABEL_3\": 3\n",
              "  },\n",
              "  \"layer_norm_eps\": 1e-12,\n",
              "  \"max_position_embeddings\": 512,\n",
              "  \"model_type\": \"bert\",\n",
              "  \"num_attention_heads\": 12,\n",
              "  \"num_hidden_layers\": 12,\n",
              "  \"output_hidden_states\": true,\n",
              "  \"pad_token_id\": 0,\n",
              "  \"type_vocab_size\": 2,\n",
              "  \"vocab_size\": 30522\n",
              "}"
            ]
          },
          "metadata": {
            "tags": []
          },
          "execution_count": 2
        }
      ]
    },
    {
      "cell_type": "code",
      "metadata": {
        "id": "2l95kWz-K1Mr",
        "colab_type": "code",
        "colab": {
          "base_uri": "https://localhost:8080/",
          "height": 283
        },
        "outputId": "e81596fc-e40e-4652-e15c-dadf3b09dd76"
      },
      "source": [
        "# 简单分类算法\n",
        "# 把模型改成了最简单的rnn，embedding长度改成了768，因为bert的是768，求余弦相似度的时候需要维度相同\n",
        "model_compare  = tf.keras.Sequential([\n",
        "    tf.keras.layers.Embedding(30522, 768),\n",
        "    tf.keras.layers.SimpleRNN(128),\n",
        "    tf.keras.layers.Dense(64, activation='relu'),\n",
        "    tf.keras.layers.Dense(4)\n",
        "])\n",
        "model_compare.summary()"
      ],
      "execution_count": 3,
      "outputs": [
        {
          "output_type": "stream",
          "text": [
            "Model: \"sequential\"\n",
            "_________________________________________________________________\n",
            "Layer (type)                 Output Shape              Param #   \n",
            "=================================================================\n",
            "embedding (Embedding)        (None, None, 768)         23440896  \n",
            "_________________________________________________________________\n",
            "simple_rnn (SimpleRNN)       (None, 128)               114816    \n",
            "_________________________________________________________________\n",
            "dense (Dense)                (None, 64)                8256      \n",
            "_________________________________________________________________\n",
            "dense_1 (Dense)              (None, 4)                 260       \n",
            "=================================================================\n",
            "Total params: 23,564,228\n",
            "Trainable params: 23,564,228\n",
            "Non-trainable params: 0\n",
            "_________________________________________________________________\n"
          ],
          "name": "stdout"
        }
      ]
    },
    {
      "cell_type": "code",
      "metadata": {
        "id": "qpSJwVtpQnqk",
        "colab_type": "code",
        "colab": {}
      },
      "source": [
        "# 数据链接，可以在 https://course.fast.ai/datasets 找到。\n",
        "# agnews数据集，类别，标题，描述。\n",
        "ag_url = 'https://s3.amazonaws.com/fast-ai-nlp/ag_news_csv.tgz'"
      ],
      "execution_count": 4,
      "outputs": []
    },
    {
      "cell_type": "code",
      "metadata": {
        "id": "o-iJd2HzQroT",
        "colab_type": "code",
        "colab": {
          "base_uri": "https://localhost:8080/",
          "height": 33
        },
        "outputId": "90802172-e7e1-4f70-b7be-77624e865397"
      },
      "source": [
        "# 下载数据，并指定此时数据集的目录\n",
        "ag_zip_file = tf.keras.utils.get_file(origin=ag_url,fname='ag_news_csv.tgz', extract=True)\n",
        "base_dir = os.path.join(os.path.dirname(ag_zip_file), 'ag_news_csv')\n",
        "os.listdir(base_dir)"
      ],
      "execution_count": 5,
      "outputs": [
        {
          "output_type": "execute_result",
          "data": {
            "text/plain": [
              "['readme.txt', 'classes.txt', 'test.csv', 'train.csv']"
            ]
          },
          "metadata": {
            "tags": []
          },
          "execution_count": 5
        }
      ]
    },
    {
      "cell_type": "code",
      "metadata": {
        "id": "GAGM-SpgQ2db",
        "colab_type": "code",
        "colab": {
          "base_uri": "https://localhost:8080/",
          "height": 333
        },
        "outputId": "7d3f1e8b-8fd0-48c7-9312-8bee784e4dea"
      },
      "source": [
        "# 读取数据\n",
        "# 为了方便测试代码的时候少用几个数据,1000个数据可以让准确率上升到0.68\n",
        "num = 1000\n",
        "train = pd.read_csv(os.path.join(base_dir, 'train.csv'), header=None)\n",
        "train = train.sample(n=num)\n",
        "print(len(train))\n",
        "print(train.head())\n",
        "test = pd.read_csv(os.path.join(base_dir, 'test.csv'), header=None)\n",
        "test = test.sample(n=num)\n",
        "print(len(test))\n",
        "print(test.head())\n",
        "f = open(os.path.join(base_dir, 'classes.txt'))\n",
        "classes = f.readlines()\n",
        "classes = [s.strip() for s in classes]\n",
        "print(classes)"
      ],
      "execution_count": 6,
      "outputs": [
        {
          "output_type": "stream",
          "text": [
            "1000\n",
            "       0  ...                                                  2\n",
            "45682  3  ...  LONDON, Sept 30 (AFP) - Oil prices resumed the...\n",
            "25180  2  ...  AP - Tampa Bay Buccaneers receiver Joey Gallow...\n",
            "36641  3  ...  WASHINGTONCrude futures prices surged above \\$...\n",
            "11832  3  ...  Shares in dairy giant Dairy Crest Group have f...\n",
            "51336  2  ...  Australia has made a slow but solid start to t...\n",
            "\n",
            "[5 rows x 3 columns]\n",
            "1000\n",
            "      0  ...                                                  2\n",
            "6934  3  ...  New figures show Japan's economy is barely sta...\n",
            "7179  1  ...   SEOUL (Reuters) - North Korea will not disman...\n",
            "4454  2  ...  SIR ALEX FERGUSON was pelted with food and pea...\n",
            "3191  1  ...  Israeli jets force a flight to Tel Aviv to lan...\n",
            "4442  4  ...  I.B.M. plans to begin releasing a monthly repo...\n",
            "\n",
            "[5 rows x 3 columns]\n",
            "['World', 'Sports', 'Business', 'Sci/Tech']\n"
          ],
          "name": "stdout"
        }
      ]
    },
    {
      "cell_type": "code",
      "metadata": {
        "id": "_2JkjRN0Ra_m",
        "colab_type": "code",
        "colab": {
          "base_uri": "https://localhost:8080/",
          "height": 114,
          "referenced_widgets": [
            "d51c2b9a1a084cc38f3dda5439410160",
            "f3d9e5f8b79b486ead441365b9537a7b",
            "98cdb092f74a4783b5ea373b68b8eee7",
            "a3c6522766ad411b9f850d4f11691d59",
            "061877fb45c041a7b0f2cda7f4628982",
            "72a209a29c0e4d06b22a12a6a3c44485",
            "fe18b382fc4f487d853a834ba7b5867b",
            "4b2c14315e89446d8a5c68cd135e185a",
            "7d93261e1dde41d9bdba0b9c46b612c5",
            "1bc991ff156d41a9bd5daed57279655c",
            "2d9abebca7084e4997f95e134aea0680",
            "aec1eb9e9646478eb47511dc9d0f6aaa",
            "ed697b7b4b324acb9a7cf0ce9b923d90",
            "f4799042e4644a058848b654701f7a74",
            "47309f8c0e2a4f88bece4160be26e8d0",
            "db7a8169ae6944dcad374ec1fb4b77e4"
          ]
        },
        "outputId": "9d7c376f-5778-4e3a-9ce5-bdb7f738e8cf"
      },
      "source": [
        "# 预处理数据\n",
        "# 按照上面的例子把数据集中的文本进行分词处理，并且得到对应的labels。\n",
        "max_length = 256\n",
        "max_length_temp = max_length - 2\n",
        "train_ids = []\n",
        "test_ids = []\n",
        "for i in tqdm.notebook.trange(train.shape[0]):\n",
        "  if len(train[2][train[2].index[i]]) > max_length_temp:\n",
        "    train_ids.append(tokenizer.encode(text=train[2][train[2].index[i]][0 : max_length_temp], padding='max_length', max_length=max_length, return_tensors=\"tf\"))\n",
        "  else:\n",
        "    train_ids.append(tokenizer.encode(text=train[2][train[2].index[i]], padding='max_length', max_length=max_length, return_tensors=\"tf\"))\n",
        "for i in tqdm.notebook.trange(test.shape[0]):\n",
        "  if len(test[2][test[2].index[i]]) > max_length_temp:\n",
        "    test_ids.append(tokenizer.encode(text=test[2][test[2].index[i]][0 : max_length_temp], padding='max_length', max_length=max_length, return_tensors=\"tf\"))\n",
        "  else:\n",
        "    test_ids.append(tokenizer.encode(text=test[2][test[2].index[i]], padding='max_length', max_length=max_length, return_tensors=\"tf\"))\n",
        "train_labels = train[0].values - 1\n",
        "test_labels = test[0].values - 1"
      ],
      "execution_count": 7,
      "outputs": [
        {
          "output_type": "display_data",
          "data": {
            "application/vnd.jupyter.widget-view+json": {
              "model_id": "d51c2b9a1a084cc38f3dda5439410160",
              "version_minor": 0,
              "version_major": 2
            },
            "text/plain": [
              "HBox(children=(FloatProgress(value=0.0, max=1000.0), HTML(value='')))"
            ]
          },
          "metadata": {
            "tags": []
          }
        },
        {
          "output_type": "stream",
          "text": [
            "\n"
          ],
          "name": "stdout"
        },
        {
          "output_type": "display_data",
          "data": {
            "application/vnd.jupyter.widget-view+json": {
              "model_id": "7d93261e1dde41d9bdba0b9c46b612c5",
              "version_minor": 0,
              "version_major": 2
            },
            "text/plain": [
              "HBox(children=(FloatProgress(value=0.0, max=1000.0), HTML(value='')))"
            ]
          },
          "metadata": {
            "tags": []
          }
        },
        {
          "output_type": "stream",
          "text": [
            "\n"
          ],
          "name": "stdout"
        }
      ]
    },
    {
      "cell_type": "code",
      "metadata": {
        "id": "PgJ_Yj4NX7On",
        "colab_type": "code",
        "colab": {}
      },
      "source": [
        "# 把数据转成tensorflow张量\n",
        "# train_ids是tf.Tensor组成得列表，所以用concat组合一下就行\n",
        "train_ids = tf.concat(train_ids, 0)\n",
        "# 把train_mask初始化为1，然后把train_ids等于0（PAD的部分）对应的值赋为0\n",
        "train_mask = tf.ones(train_ids.shape)\n",
        "train_mask = tf.where(tf.math.greater(train_ids, 0), train_mask, 0)\n",
        "# labels本身是numpy数组，转为tf.Tensor\n",
        "train_labels = tf.convert_to_tensor(train_labels)\n",
        "\n",
        "# 测试集的处理同理test\n",
        "test_ids = tf.concat(test_ids, 0)\n",
        "test_mask = tf.ones(test_ids.shape)\n",
        "test_mask = tf.where(tf.math.greater(test_ids, 0), test_mask, 0)\n",
        "test_labels = tf.convert_to_tensor(test_labels)"
      ],
      "execution_count": 8,
      "outputs": []
    },
    {
      "cell_type": "code",
      "metadata": {
        "id": "MT4yJZliRhhs",
        "colab_type": "code",
        "colab": {
          "base_uri": "https://localhost:8080/",
          "height": 616
        },
        "outputId": "2a0a207e-bf71-43a9-bfb2-7f9817fb3d81"
      },
      "source": [
        "print(train_ids[0])\n",
        "print(train_mask[0])\n",
        "print(train_labels[0])"
      ],
      "execution_count": 9,
      "outputs": [
        {
          "output_type": "stream",
          "text": [
            "tf.Tensor(\n",
            "[  101  2414  1010 17419  2382  1006 21358  2361  1007  1011  3514  7597\n",
            "  7943  2037  2233  2875  2753  6363  1999  2047  2259  2006  9432  2130\n",
            "  2004  3521  7566  2020  2275  2000 13746  1999  2350  3135  7387  1998\n",
            "  2206  2019  9223  4125  1999  2149 13587 12235  3111  1012   102     0\n",
            "     0     0     0     0     0     0     0     0     0     0     0     0\n",
            "     0     0     0     0     0     0     0     0     0     0     0     0\n",
            "     0     0     0     0     0     0     0     0     0     0     0     0\n",
            "     0     0     0     0     0     0     0     0     0     0     0     0\n",
            "     0     0     0     0     0     0     0     0     0     0     0     0\n",
            "     0     0     0     0     0     0     0     0     0     0     0     0\n",
            "     0     0     0     0     0     0     0     0     0     0     0     0\n",
            "     0     0     0     0     0     0     0     0     0     0     0     0\n",
            "     0     0     0     0     0     0     0     0     0     0     0     0\n",
            "     0     0     0     0     0     0     0     0     0     0     0     0\n",
            "     0     0     0     0     0     0     0     0     0     0     0     0\n",
            "     0     0     0     0     0     0     0     0     0     0     0     0\n",
            "     0     0     0     0     0     0     0     0     0     0     0     0\n",
            "     0     0     0     0     0     0     0     0     0     0     0     0\n",
            "     0     0     0     0     0     0     0     0     0     0     0     0\n",
            "     0     0     0     0     0     0     0     0     0     0     0     0\n",
            "     0     0     0     0     0     0     0     0     0     0     0     0\n",
            "     0     0     0     0], shape=(256,), dtype=int32)\n",
            "tf.Tensor(\n",
            "[1. 1. 1. 1. 1. 1. 1. 1. 1. 1. 1. 1. 1. 1. 1. 1. 1. 1. 1. 1. 1. 1. 1. 1.\n",
            " 1. 1. 1. 1. 1. 1. 1. 1. 1. 1. 1. 1. 1. 1. 1. 1. 1. 1. 1. 1. 1. 1. 1. 0.\n",
            " 0. 0. 0. 0. 0. 0. 0. 0. 0. 0. 0. 0. 0. 0. 0. 0. 0. 0. 0. 0. 0. 0. 0. 0.\n",
            " 0. 0. 0. 0. 0. 0. 0. 0. 0. 0. 0. 0. 0. 0. 0. 0. 0. 0. 0. 0. 0. 0. 0. 0.\n",
            " 0. 0. 0. 0. 0. 0. 0. 0. 0. 0. 0. 0. 0. 0. 0. 0. 0. 0. 0. 0. 0. 0. 0. 0.\n",
            " 0. 0. 0. 0. 0. 0. 0. 0. 0. 0. 0. 0. 0. 0. 0. 0. 0. 0. 0. 0. 0. 0. 0. 0.\n",
            " 0. 0. 0. 0. 0. 0. 0. 0. 0. 0. 0. 0. 0. 0. 0. 0. 0. 0. 0. 0. 0. 0. 0. 0.\n",
            " 0. 0. 0. 0. 0. 0. 0. 0. 0. 0. 0. 0. 0. 0. 0. 0. 0. 0. 0. 0. 0. 0. 0. 0.\n",
            " 0. 0. 0. 0. 0. 0. 0. 0. 0. 0. 0. 0. 0. 0. 0. 0. 0. 0. 0. 0. 0. 0. 0. 0.\n",
            " 0. 0. 0. 0. 0. 0. 0. 0. 0. 0. 0. 0. 0. 0. 0. 0. 0. 0. 0. 0. 0. 0. 0. 0.\n",
            " 0. 0. 0. 0. 0. 0. 0. 0. 0. 0. 0. 0. 0. 0. 0. 0.], shape=(256,), dtype=float32)\n",
            "tf.Tensor(2, shape=(), dtype=int64)\n"
          ],
          "name": "stdout"
        }
      ]
    },
    {
      "cell_type": "code",
      "metadata": {
        "id": "1iEz4rueRkzN",
        "colab_type": "code",
        "colab": {}
      },
      "source": [
        "# 训练参数\n",
        "epochs = 5\n",
        "batch_size = 16\n",
        "validation_rate = 0.1"
      ],
      "execution_count": 10,
      "outputs": []
    },
    {
      "cell_type": "code",
      "metadata": {
        "id": "Ke96fSONRot0",
        "colab_type": "code",
        "colab": {}
      },
      "source": [
        "# 模型编译\n",
        "optimizer = tf.keras.optimizers.Adam(learning_rate=3e-5, epsilon=1e-08, clipnorm=1.0)\n",
        "loss = tf.keras.losses.SparseCategoricalCrossentropy(from_logits=True)\n",
        "metric = tf.keras.metrics.SparseCategoricalAccuracy('accuracy')\n",
        "model.compile(optimizer=optimizer, loss=loss, metrics=[metric])\n",
        "model_compare.compile(optimizer=optimizer, loss=loss, metrics=[metric])"
      ],
      "execution_count": 11,
      "outputs": []
    },
    {
      "cell_type": "code",
      "metadata": {
        "id": "A1hFEOD0RwLM",
        "colab_type": "code",
        "colab": {
          "base_uri": "https://localhost:8080/",
          "height": 183
        },
        "outputId": "9ab51550-957a-49f4-ba2b-1a0c97f09ef0"
      },
      "source": [
        "# 模型训练\n",
        "history = model.fit(x=[train_ids, train_mask], \n",
        "     y=train_labels, \n",
        "     batch_size=batch_size, \n",
        "     epochs=epochs, \n",
        "     verbose=1, \n",
        "     callbacks=None,\n",
        "     shuffle=True)"
      ],
      "execution_count": 12,
      "outputs": [
        {
          "output_type": "stream",
          "text": [
            "Epoch 1/5\n",
            "63/63 [==============================] - 52s 818ms/step - loss: 0.8101 - accuracy: 0.7370\n",
            "Epoch 2/5\n",
            "63/63 [==============================] - 52s 825ms/step - loss: 0.2666 - accuracy: 0.9230\n",
            "Epoch 3/5\n",
            "63/63 [==============================] - 52s 825ms/step - loss: 0.1400 - accuracy: 0.9590\n",
            "Epoch 4/5\n",
            "63/63 [==============================] - 52s 825ms/step - loss: 0.0680 - accuracy: 0.9860\n",
            "Epoch 5/5\n",
            "63/63 [==============================] - 52s 826ms/step - loss: 0.0315 - accuracy: 0.9940\n"
          ],
          "name": "stdout"
        }
      ]
    },
    {
      "cell_type": "code",
      "metadata": {
        "id": "tYEeHbrTT6pt",
        "colab_type": "code",
        "colab": {
          "base_uri": "https://localhost:8080/",
          "height": 183
        },
        "outputId": "f8f402f7-946b-4797-9ffe-10e2bb27c258"
      },
      "source": [
        "history_compare = model_compare.fit(\n",
        "    x=[train_ids, train_mask],\n",
        "    y=train_labels,\n",
        "    batch_size=batch_size, \n",
        "    epochs=epochs,\n",
        "    verbose=1,\n",
        "    callbacks=None,\n",
        "    shuffle=True\n",
        ")"
      ],
      "execution_count": 13,
      "outputs": [
        {
          "output_type": "stream",
          "text": [
            "Epoch 1/5\n",
            "63/63 [==============================] - 25s 396ms/step - loss: 1.3960 - accuracy: 0.6200\n",
            "Epoch 2/5\n",
            "63/63 [==============================] - 24s 386ms/step - loss: 1.3895 - accuracy: 0.2650\n",
            "Epoch 3/5\n",
            "63/63 [==============================] - 25s 393ms/step - loss: 1.3912 - accuracy: 0.2480\n",
            "Epoch 4/5\n",
            "63/63 [==============================] - 24s 380ms/step - loss: 1.3862 - accuracy: 0.2760\n",
            "Epoch 5/5\n",
            "63/63 [==============================] - 24s 381ms/step - loss: 1.3893 - accuracy: 0.2680\n"
          ],
          "name": "stdout"
        }
      ]
    },
    {
      "cell_type": "code",
      "metadata": {
        "id": "qTkysctTVymG",
        "colab_type": "code",
        "colab": {
          "base_uri": "https://localhost:8080/",
          "height": 50
        },
        "outputId": "9ab2243d-9b88-4826-ad11-7f6943813f02"
      },
      "source": [
        "# 模型测试\n",
        "model.evaluate(x=[test_ids, test_mask],\n",
        "        y=test_labels, \n",
        "        batch_size=4, \n",
        "        verbose=1)"
      ],
      "execution_count": 14,
      "outputs": [
        {
          "output_type": "stream",
          "text": [
            "250/250 [==============================] - 18s 71ms/step - loss: 0.5537 - accuracy: 0.8630\n"
          ],
          "name": "stdout"
        },
        {
          "output_type": "execute_result",
          "data": {
            "text/plain": [
              "[0.5536646246910095, 0.8629999756813049]"
            ]
          },
          "metadata": {
            "tags": []
          },
          "execution_count": 14
        }
      ]
    },
    {
      "cell_type": "code",
      "metadata": {
        "id": "goDYWhJWV7SF",
        "colab_type": "code",
        "colab": {
          "base_uri": "https://localhost:8080/",
          "height": 50
        },
        "outputId": "f6362ac4-f08b-48b0-feaa-2e7f2a750767"
      },
      "source": [
        "model_compare.evaluate(x=[test_ids, test_mask],\n",
        "        y=test_labels, \n",
        "        batch_size=4, \n",
        "        verbose=1)"
      ],
      "execution_count": 15,
      "outputs": [
        {
          "output_type": "stream",
          "text": [
            "250/250 [==============================] - 5s 21ms/step - loss: 1.3878 - accuracy: 0.2500\n"
          ],
          "name": "stdout"
        },
        {
          "output_type": "execute_result",
          "data": {
            "text/plain": [
              "[1.3878474235534668, 0.25]"
            ]
          },
          "metadata": {
            "tags": []
          },
          "execution_count": 15
        }
      ]
    },
    {
      "cell_type": "code",
      "metadata": {
        "id": "HfLYIMsYV-KV",
        "colab_type": "code",
        "colab": {
          "base_uri": "https://localhost:8080/",
          "height": 278
        },
        "outputId": "6609b839-d02c-4349-df72-dda93d838671"
      },
      "source": [
        "# 画图\n",
        "def plot_graphs(history,history_compare, metric):\n",
        "  plt.plot(history.history[metric])\n",
        "  plt.plot(history_compare.history[metric])\n",
        "  plt.xlabel(\"Epochs\")\n",
        "  plt.ylabel(metric)\n",
        "  plt.show()\n",
        "plot_graphs(history, history_compare, 'accuracy')"
      ],
      "execution_count": 16,
      "outputs": [
        {
          "output_type": "display_data",
          "data": {
            "image/png": "[encoded data removed]",
            "text/plain": [
              "<Figure size 432x288 with 1 Axes>"
            ]
          },
          "metadata": {
            "tags": [],
            "needs_background": "light"
          }
        }
      ]
    },
    {
      "cell_type": "code",
      "metadata": {
        "id": "aZIe78_GVQ_b",
        "colab_type": "code",
        "colab": {
          "base_uri": "https://localhost:8080/",
          "height": 1000
        },
        "outputId": "20dd4c8b-0dc0-43b8-cfbf-e781e898474f"
      },
      "source": [
        "# 得到RNN模型embedding的方法，get embedding层后，输入词的id，得到embeding\n",
        "embedding_compare = model_compare.get_layer('embedding')\n",
        "avg_pool1 = tf.keras.layers.AveragePooling2D(pool_size=(256, 1))\n",
        "seq_emb = embedding_compare(train_ids[0])\n",
        "print(seq_emb)\n",
        "seq_avg = avg_pool1(tf.reshape(seq_emb,[1,256,768,1]))\n",
        "print(tf.reshape(seq_avg,[-1]))"
      ],
      "execution_count": 26,
      "outputs": [
        {
          "output_type": "stream",
          "text": [
            "tf.Tensor(\n",
            "[[ 0.04764335 -0.03619531  0.04308876 ... -0.0333138   0.01262991\n",
            "  -0.02319496]\n",
            " [ 0.04406951  0.01749485  0.02747624 ...  0.03371483  0.00931129\n",
            "  -0.01300792]\n",
            " [ 0.02435975  0.02004764  0.04543563 ... -0.00318722  0.02973461\n",
            "   0.02629073]\n",
            " ...\n",
            " [ 0.01821887 -0.03046171  0.0329073  ... -0.03623446  0.01459374\n",
            "  -0.03085981]\n",
            " [ 0.01821887 -0.03046171  0.0329073  ... -0.03623446  0.01459374\n",
            "  -0.03085981]\n",
            " [ 0.01821887 -0.03046171  0.0329073  ... -0.03623446  0.01459374\n",
            "  -0.03085981]], shape=(256, 768), dtype=float32)\n",
            "tf.Tensor(\n",
            "[ 1.61432922e-02 -2.50280965e-02  2.59958208e-02  2.18657088e-02\n",
            " -3.50413620e-02 -9.78145655e-03  3.38821635e-02  1.72647014e-02\n",
            " -4.13311385e-02  1.84475724e-02 -1.58704203e-02  1.97622627e-02\n",
            " -3.52800228e-02 -3.54585238e-02  4.11524400e-02 -1.58877186e-02\n",
            " -4.10434194e-02  1.11299492e-02  2.01566480e-02 -7.51799252e-03\n",
            " -1.91683136e-02 -2.61696484e-02  3.08245104e-02 -1.79208778e-02\n",
            "  3.99368349e-04 -2.94090305e-02  3.67239602e-02 -3.03937607e-02\n",
            "  3.71696986e-02  2.93019861e-02 -1.98021363e-02 -3.44816148e-02\n",
            "  3.88650037e-02  3.64554413e-02 -6.81682630e-03 -1.37386303e-02\n",
            "  4.05074097e-02 -3.81822512e-02  2.39662528e-02  3.74268405e-02\n",
            "  6.62328256e-03 -2.61708200e-02  1.71887185e-02 -1.16227381e-02\n",
            "  3.80927101e-02 -2.62021292e-02 -2.00936086e-02  3.85870636e-02\n",
            " -4.11010608e-02 -1.63947232e-02  7.43626431e-03 -2.28760228e-03\n",
            "  1.44925565e-02 -1.29472427e-02  3.11327400e-03 -2.46269517e-02\n",
            " -2.54460350e-02 -2.89718043e-02  6.56665629e-03 -2.95248348e-03\n",
            "  1.35252466e-02 -7.07037793e-03  1.62118692e-02  2.10797023e-02\n",
            "  2.56669316e-02  2.63503138e-02 -2.88135149e-02 -1.56476710e-03\n",
            " -1.32563654e-02 -1.03510288e-03 -1.30251478e-02  2.15316191e-03\n",
            " -4.18669656e-02 -9.20802448e-03 -2.74376273e-02 -2.92487293e-02\n",
            " -2.39343904e-02  2.63049789e-02  1.55268637e-02  1.49407831e-03\n",
            " -1.79371778e-02  3.98867764e-02  4.86308523e-03  1.77425668e-02\n",
            " -1.07884984e-02 -2.46116146e-02 -3.73663828e-02 -2.29353867e-02\n",
            "  7.58301187e-03  4.09370363e-02  5.81835071e-03 -2.52435007e-03\n",
            "  3.72964852e-02  9.54800844e-03  4.13529873e-02 -1.55467335e-02\n",
            "  2.22157072e-02  1.04496572e-02 -3.02742962e-02  3.20235565e-02\n",
            " -3.11063398e-02  1.21019809e-02  4.59065940e-03 -3.21515203e-02\n",
            "  1.96014624e-02 -3.07009872e-02  1.77462175e-02  3.88348475e-02\n",
            " -2.34257765e-02  1.66180655e-02  3.31566334e-02 -1.90839618e-02\n",
            " -2.27650497e-02 -8.76193028e-03  1.39222890e-02 -6.28667185e-03\n",
            " -4.70904913e-03  1.66662876e-02  6.24124147e-03  3.42867002e-02\n",
            " -5.80982305e-04  4.02782895e-02  2.86354981e-02  3.58663243e-03\n",
            " -4.06400627e-03  2.17489190e-02 -3.85168828e-02 -2.23684520e-03\n",
            " -5.13611827e-03 -1.29023958e-02  3.99796404e-02 -5.39944135e-03\n",
            " -8.66296142e-03  1.03231389e-02 -1.09590860e-02  1.59099922e-02\n",
            "  3.63702029e-02  1.97114404e-02  2.56533258e-06  1.92608386e-02\n",
            "  4.17919643e-03 -1.48870852e-02 -5.86278446e-04  2.31945254e-02\n",
            "  1.47543997e-02  8.67843162e-03  3.76879871e-02  1.90864671e-02\n",
            " -3.58992293e-02  3.87696037e-03 -1.38454372e-02  2.48297770e-02\n",
            "  2.48923060e-02  1.41923188e-03 -2.97663305e-02 -1.93397105e-02\n",
            " -9.23070032e-03 -3.68885249e-02  1.12969102e-02  1.47065492e-02\n",
            " -3.82025167e-02  2.00958550e-02 -1.36251114e-02  3.45197506e-02\n",
            " -3.78131792e-02  3.81869972e-02 -2.01785583e-02 -3.21701206e-02\n",
            " -1.08618550e-02  3.28412727e-02 -1.18100899e-03 -1.79259591e-02\n",
            " -2.64963005e-02  9.51357000e-03  3.46772000e-02 -1.64824463e-02\n",
            " -2.61185020e-02  1.20419357e-02  3.08113080e-02 -5.79302013e-03\n",
            "  3.43587771e-02 -2.04537082e-02 -1.93812102e-02  3.22070308e-02\n",
            " -3.67142782e-02 -1.07989861e-02 -2.44617350e-02 -1.78419426e-02\n",
            "  3.45986336e-02 -5.79658197e-03  1.43349832e-02 -1.65716966e-03\n",
            " -2.57726833e-02 -3.35758440e-02  2.33014654e-02 -6.89498521e-03\n",
            " -3.59918177e-02  1.62833985e-02  1.34563074e-02  3.82789522e-02\n",
            " -3.87444198e-02  1.50051219e-02 -3.06198979e-03 -2.85704434e-02\n",
            "  3.52740614e-03  1.52916164e-05 -3.59599628e-02 -3.29366978e-03\n",
            " -1.22977383e-02  1.53466109e-02 -1.71732865e-02 -1.21587189e-02\n",
            "  1.97438486e-02 -2.72674784e-02 -1.60288550e-02  1.28067629e-02\n",
            " -3.11290678e-02 -2.84382198e-02 -2.31676865e-02  3.97806568e-03\n",
            " -4.01337780e-02 -8.53195414e-03 -2.71931365e-02  3.23173068e-02\n",
            "  1.20791711e-03  4.57792077e-03 -9.93489660e-03 -2.09530480e-02\n",
            " -2.47106776e-02 -1.06409099e-02  2.88898628e-02  2.98029073e-02\n",
            " -1.77901238e-02  2.16001999e-02 -3.52301970e-02  2.44296025e-02\n",
            " -2.88224034e-02 -4.43379348e-03 -6.99119829e-03 -1.48548111e-02\n",
            "  3.94647429e-03  9.20872949e-03 -2.05149874e-02 -1.13910377e-04\n",
            " -3.33739929e-02 -2.97374604e-03 -2.78410520e-02  9.08541866e-03\n",
            "  1.01135019e-03 -7.63139967e-03 -6.89474400e-03 -1.23364329e-02\n",
            " -2.23484244e-02  2.40386743e-02 -3.88460085e-02  6.14701957e-03\n",
            "  1.76072177e-02 -1.01824338e-02 -2.17411276e-02  3.63276415e-02\n",
            " -1.76670104e-02  2.81828400e-02  2.60881819e-02 -3.08572445e-02\n",
            " -7.20445300e-03 -1.24246581e-02  1.28358165e-02  3.33054960e-02\n",
            "  1.21538825e-02 -1.06707476e-02 -8.59171711e-03  8.29033274e-03\n",
            "  2.82515567e-02 -7.01720500e-03 -2.45062839e-02  3.87417451e-02\n",
            " -2.84962896e-02  4.05555889e-02  7.04093894e-04 -1.03553338e-02\n",
            " -2.18365788e-02  2.66768001e-02  3.30844603e-04  2.81982329e-02\n",
            "  3.71208489e-02  3.40613835e-02  6.99962210e-03 -4.21456397e-02\n",
            "  2.95911487e-02  9.06262826e-03  2.43171975e-02 -1.34245874e-02\n",
            " -5.74839348e-03 -1.79406386e-02 -1.47416480e-02  1.29564656e-02\n",
            " -1.88215598e-02  3.74011472e-02 -1.04276873e-02  1.70898053e-03\n",
            "  3.11542340e-02 -9.03881621e-03 -9.72081092e-04  2.84462012e-02\n",
            "  2.03736369e-02 -1.27678178e-02 -2.74960753e-02 -1.11724604e-02\n",
            " -2.67239250e-02  2.40220260e-02 -2.86867321e-02  3.74991298e-02\n",
            "  3.39211188e-02 -1.91098638e-02 -3.26085351e-02 -3.53715234e-02\n",
            "  7.07546622e-03  3.52618694e-02  1.15791159e-02  4.10731956e-02\n",
            "  8.25036503e-03  1.67699810e-03 -5.62197110e-03 -9.33795609e-03\n",
            " -2.90639419e-02  2.29347777e-02 -1.79432519e-02 -3.40378620e-02\n",
            " -1.66672580e-02  3.77190858e-03  2.92094629e-02 -1.42958555e-02\n",
            "  2.31223498e-02  3.61649483e-03  3.35475169e-02  2.27048788e-02\n",
            " -8.25395994e-03 -3.83608975e-03  1.06085977e-02  3.01450752e-02\n",
            "  2.77134270e-04  1.87543109e-02  2.76207570e-02 -2.68191956e-02\n",
            " -1.24720475e-02  3.34452800e-02 -2.27374956e-02  3.40674222e-02\n",
            "  1.68780703e-02 -3.88694741e-02 -5.30996034e-03  3.00643127e-02\n",
            " -1.20259617e-02 -2.38379799e-02  1.16166461e-03 -2.26763077e-03\n",
            " -5.91156352e-03  2.31078789e-02 -3.40702720e-02 -3.07067167e-02\n",
            "  1.94216776e-03 -5.04555646e-03 -2.33866554e-02  1.26063861e-02\n",
            " -9.51176230e-03  1.73814781e-02 -2.41671186e-02 -3.47583485e-03\n",
            "  5.22816146e-04  2.29159910e-02 -1.25891075e-03 -1.23449387e-02\n",
            "  3.46986540e-02 -2.65698954e-02  1.87103506e-02 -1.91950854e-02\n",
            "  6.89344364e-04 -1.57752000e-02 -3.81574668e-02  3.72309587e-04\n",
            " -1.42454244e-02 -3.16547267e-02 -1.93786733e-02  3.07633113e-02\n",
            "  2.53145676e-02 -2.64232010e-02  2.78700870e-02  3.18516195e-02\n",
            " -3.01133115e-02 -1.33420248e-02 -3.14522325e-03  2.29991414e-02\n",
            "  2.17503533e-02  1.98395606e-02 -3.99881788e-02  2.89353244e-02\n",
            " -3.53445373e-02 -1.67094101e-03  1.78108719e-04 -1.88121479e-02\n",
            "  1.88749377e-02  1.70341413e-02  2.29754988e-02  2.92457938e-02\n",
            " -8.25734157e-03  3.48998122e-02 -2.50635613e-02  8.06562311e-04\n",
            "  2.76282523e-02  1.80182587e-02  4.08423990e-02  3.84995341e-02\n",
            " -3.42626078e-03 -8.08630604e-03  3.59925441e-02 -2.43141241e-02\n",
            "  2.52734311e-02 -1.85992080e-03 -2.73935609e-02 -3.28155831e-02\n",
            "  4.02532183e-02  3.31674367e-02  3.98128070e-02  3.60931866e-02\n",
            " -3.68425660e-02  1.84335839e-02 -9.43506323e-03 -2.52437275e-02\n",
            " -5.09991264e-03 -2.99224518e-02 -2.99745034e-02  1.12723541e-02\n",
            "  2.88712848e-02  1.73678044e-02  1.39579624e-02  6.70462614e-03\n",
            " -3.97907309e-02 -1.72671564e-02 -1.59566838e-03  2.06262413e-02\n",
            " -2.51257643e-02 -1.23415031e-02  2.20810473e-02 -1.08270235e-02\n",
            " -5.93792740e-03 -1.40315453e-02  1.24824299e-02  1.07110050e-02\n",
            " -1.05326707e-02 -3.61119621e-02 -2.20185369e-02  2.08384525e-02\n",
            " -1.13794189e-02 -2.87397131e-02  1.59445498e-03 -5.85266994e-03\n",
            "  1.10536274e-02 -3.86216976e-02 -1.20983960e-03 -9.64014698e-03\n",
            "  2.72991564e-02 -4.83082188e-03 -2.31519975e-02 -4.11375165e-02\n",
            " -3.57745253e-02 -3.55291292e-02  1.05526950e-02  3.03175785e-02\n",
            "  9.80879460e-03  2.13979706e-02 -6.94968225e-03 -3.72023322e-02\n",
            " -1.44182956e-02  1.58418454e-02  7.59834191e-04 -2.25967150e-02\n",
            "  1.81595690e-03 -1.64971948e-02 -1.13447364e-02 -1.61051638e-02\n",
            " -4.48896643e-03  4.03201915e-02  2.65709963e-02  3.66033651e-02\n",
            "  2.53878683e-02 -3.25807482e-02 -9.38758440e-03  9.31454822e-03\n",
            "  3.65406200e-02 -2.77350806e-02  2.00655237e-02 -1.55574456e-03\n",
            " -3.08797695e-02 -3.77081521e-02  3.97958644e-02 -1.92871168e-02\n",
            " -4.05837968e-02 -1.26992539e-02 -2.78225504e-02  3.93956117e-02\n",
            "  2.17816252e-02  1.03293657e-02 -2.66114995e-02  1.02973990e-02\n",
            " -3.25751789e-02 -1.76143423e-02  1.61380023e-02 -1.80555806e-02\n",
            "  8.61690193e-03  5.79007249e-03  6.36877632e-03 -2.51485873e-02\n",
            "  1.08481692e-02  2.79362779e-02  3.63965593e-02 -3.76549549e-02\n",
            " -2.86321025e-02  3.53330933e-02 -6.92076422e-03  2.20267102e-02\n",
            "  7.97109213e-03 -3.19811963e-02  1.33850276e-02  2.39975117e-02\n",
            "  3.21199149e-02  4.10691723e-02 -1.48138655e-02  1.42287109e-02\n",
            " -1.56722555e-03  3.75035033e-02 -3.04450523e-02  1.93705764e-02\n",
            " -6.78192824e-03  1.78926357e-03 -1.56469736e-02  1.75573528e-02\n",
            " -3.27154435e-02 -1.36604980e-02 -1.13321971e-02 -3.43727805e-02\n",
            " -2.23035123e-02  3.87607776e-02  1.23135298e-02 -3.17354538e-02\n",
            "  3.01844385e-02 -1.23513229e-02 -5.83232101e-03  4.96690487e-03\n",
            " -1.65734836e-03 -3.80878784e-02 -9.52193327e-03  1.30380960e-02\n",
            " -2.60539148e-02  1.84262544e-02  1.18999975e-02  2.63143554e-02\n",
            "  3.76391597e-02 -7.78520759e-03 -2.39971038e-02  3.22887488e-02\n",
            " -1.05947815e-02 -3.01012099e-02 -1.40760178e-02  2.82900091e-02\n",
            " -2.81791519e-02 -2.77618673e-02  2.11529080e-02  1.75693799e-02\n",
            " -3.60778184e-03  1.64284259e-02 -1.34682469e-02 -2.97387894e-02\n",
            " -9.11389198e-03  2.27819346e-02  2.63518374e-02  3.02656814e-02\n",
            "  9.45837935e-04 -3.15063819e-02 -3.41528244e-02  1.36828590e-02\n",
            " -2.15536635e-02  1.23788675e-04  3.27236624e-03 -7.90065154e-03\n",
            " -3.63797508e-02  2.53263898e-02 -2.97185164e-02  3.71342488e-02\n",
            "  1.90610755e-02  2.21581645e-02  7.17600714e-03 -3.77911516e-02\n",
            " -2.10876763e-02 -1.60825495e-02  1.60485762e-03 -2.35379860e-02\n",
            "  1.81560460e-02 -2.19124239e-02  6.53266022e-03  2.38261838e-02\n",
            " -1.77012116e-03  1.83428284e-02 -7.22011412e-03  3.70712206e-02\n",
            "  2.29580216e-02  3.05901710e-02 -9.55204573e-03  1.46373892e-02\n",
            " -3.29763815e-02  3.65645103e-02 -3.76149528e-02 -3.78905497e-02\n",
            "  3.96487005e-02  4.09385860e-02  1.12789944e-02 -4.52027423e-03\n",
            "  3.84199806e-03 -1.38437115e-02 -3.53707746e-02 -7.61871366e-03\n",
            "  2.06068624e-02 -2.49894373e-02  1.86480954e-02  4.02903929e-02\n",
            " -1.92709882e-02 -2.53098551e-03  8.06648284e-03 -3.37775302e-04\n",
            " -7.64563261e-03 -1.16646162e-03  2.80286428e-02  2.13996954e-02\n",
            " -3.38151343e-02  1.98528427e-03  3.68324518e-02 -2.00181571e-03\n",
            "  6.50857342e-03 -1.51006794e-02  2.10295506e-02  2.99138818e-02\n",
            " -3.21787372e-02 -1.53345140e-02 -1.18904831e-02 -2.31098160e-02\n",
            "  1.21178972e-02 -1.94354188e-02 -1.31688640e-02 -1.62938647e-02\n",
            "  1.84886605e-02  3.41579365e-03 -3.51341106e-02  1.34629197e-03\n",
            " -1.68490484e-02  3.57131474e-02  1.13884332e-02 -2.79412251e-02\n",
            "  1.28980214e-02 -9.79312975e-03 -2.41530798e-02  4.90527321e-03\n",
            "  2.46555172e-02  2.73565743e-02 -2.67317444e-02  9.05999355e-03\n",
            " -2.90613119e-02 -4.06127572e-02 -2.77610179e-02 -2.19965260e-02\n",
            "  2.80796480e-03  2.48073284e-02 -3.79545651e-02 -1.54601736e-03\n",
            " -4.22886602e-04 -3.90719883e-02  3.81007902e-02  3.98817519e-03\n",
            "  3.25866491e-02 -1.91272050e-02  2.82392907e-03  3.12790535e-02\n",
            " -3.37712676e-03  2.40846053e-02 -1.53314741e-02 -2.36805622e-02\n",
            "  3.02897487e-02 -1.80333387e-02  2.35756598e-02 -4.19497304e-03\n",
            "  3.88995148e-02  4.04695347e-02  3.46837752e-02 -2.01596767e-02\n",
            " -2.06155609e-02 -3.20976637e-02 -1.79531891e-02  1.31919505e-02\n",
            "  5.39551629e-03  3.33960764e-02  3.69700715e-02  2.11137515e-02\n",
            "  4.36613290e-03 -2.91703641e-02 -1.46915931e-02 -7.48462230e-03\n",
            " -2.33576912e-02 -2.77513936e-02 -1.56408940e-02  2.21299212e-02\n",
            " -9.64701269e-03 -4.16162983e-03 -2.57687066e-02  3.82977612e-02\n",
            "  2.44898722e-02  2.76537631e-02  8.43191333e-03 -2.43310034e-02\n",
            "  1.26110120e-02 -3.55944820e-02  2.46932693e-02  2.11490486e-02\n",
            "  3.27741988e-02 -1.47719411e-02 -1.87706929e-02  1.45654408e-02\n",
            "  1.62213994e-03  1.01767648e-02 -1.82577223e-02  1.71665270e-02\n",
            " -2.52212733e-02 -3.00675128e-02 -4.08887165e-03  2.02002488e-02\n",
            "  1.48304533e-02 -2.44801827e-02  8.20815656e-03  2.69162897e-02\n",
            " -1.03490632e-02  2.37267818e-02  2.31660251e-02  3.15484814e-02\n",
            " -3.44856456e-02  4.40017832e-03 -1.91582311e-02 -1.74906086e-02\n",
            " -3.23046222e-02  2.25086808e-02 -3.40809785e-02 -3.36137749e-02\n",
            "  3.74833755e-02  1.79524235e-02  3.62295657e-02 -1.47832371e-02\n",
            "  1.99134313e-02 -2.23564897e-02 -2.49574352e-02  2.02625012e-03\n",
            " -3.86732966e-02  3.98928635e-02  2.90787197e-03  1.92472700e-03\n",
            "  3.55714969e-02  2.17368063e-02 -3.55702788e-02 -1.01957959e-03\n",
            "  7.93335401e-03 -3.05362549e-02  1.26629770e-02 -2.44339164e-02], shape=(768,), dtype=float32)\n"
          ],
          "name": "stdout"
        }
      ]
    },
    {
      "cell_type": "code",
      "metadata": {
        "id": "BWSX4tRCiHlt",
        "colab_type": "code",
        "colab": {}
      },
      "source": [
        "class_embedding_compare = tf.zeros.([4,768])\n",
        "for i in tqdm.notebook.trange(train_ids.size[0]):\n",
        "  seq_embeds = embedding_compare(train_ids[i])"
      ],
      "execution_count": null,
      "outputs": []
    },
    {
      "cell_type": "code",
      "metadata": {
        "id": "M2Op6CcqWMv8",
        "colab_type": "code",
        "colab": {}
      },
      "source": [
        "# 获得bert Embedding的方式，这里得到是整个embedding张量\n",
        "embeddings = model.get_layer('bert').embeddings.word_embeddings\n",
        "\n",
        "# 定义函数：通过词id 得到embedding\n",
        "def get_embedding(input_ids, embeddings=embeddings):\n",
        "  embeds = tf.gather(embeddings, input_ids)\n",
        "  return embeds"
      ],
      "execution_count": 18,
      "outputs": []
    },
    {
      "cell_type": "code",
      "metadata": {
        "id": "TWN1Qi5efytb",
        "colab_type": "code",
        "colab": {
          "base_uri": "https://localhost:8080/",
          "height": 133
        },
        "outputId": "6c1f46a6-e749-4780-d324-a40c40695e99"
      },
      "source": [
        "get_embedding([10,20,30])"
      ],
      "execution_count": 19,
      "outputs": [
        {
          "output_type": "execute_result",
          "data": {
            "text/plain": [
              "<tf.Tensor: shape=(3, 768), dtype=float32, numpy=\n",
              "array([[-0.01138028, -0.05855127, -0.03583531, ..., -0.01770614,\n",
              "        -0.03011706, -0.00614887],\n",
              "       [-0.0215261 , -0.04995545, -0.03237724, ..., -0.01600818,\n",
              "        -0.0437283 , -0.01367573],\n",
              "       [-0.01374775, -0.06106352, -0.03362556, ..., -0.02177956,\n",
              "        -0.03429128, -0.01755657]], dtype=float32)>"
            ]
          },
          "metadata": {
            "tags": []
          },
          "execution_count": 19
        }
      ]
    },
    {
      "cell_type": "markdown",
      "metadata": {
        "id": "zZzl9iyYQZ5t",
        "colab_type": "text"
      },
      "source": [
        ""
      ]
    }
  ]
}