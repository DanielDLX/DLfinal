{
  "nbformat": 4,
  "nbformat_minor": 0,
  "metadata": {
    "colab": {
      "name": "transformer.ipynb",
      "provenance": [],
      "collapsed_sections": [],
      "authorship_tag": "ABX9TyOLVvbGv4zLCBJNHfg0dVu2",
      "include_colab_link": true
    },
    "kernelspec": {
      "name": "python3",
      "display_name": "Python 3"
    }
  },
  "cells": [
    {
      "cell_type": "markdown",
      "metadata": {
        "id": "view-in-github",
        "colab_type": "text"
      },
      "source": [
        "<a href=\"https://colab.research.google.com/github/buzhangjiuzhou/DLfinal/blob/master/transformer.ipynb\" target=\"_parent\"><img src=\"https://colab.research.google.com/assets/colab-badge.svg\" alt=\"Open In Colab\"/></a>"
      ]
    },
    {
      "cell_type": "code",
      "metadata": {
        "id": "_-GaWRnc7uwB",
        "colab_type": "code",
        "colab": {
          "base_uri": "https://localhost:8080/",
          "height": 35
        },
        "outputId": "ff5ca079-a0eb-404d-8a09-3ceaa72697e0"
      },
      "source": [
        "# 导入包\n",
        "import tensorflow as tf\n",
        "import urllib\n",
        "import os\n",
        "import pandas as pd\n",
        "\n",
        "tf.__version__"
      ],
      "execution_count": 7,
      "outputs": [
        {
          "output_type": "execute_result",
          "data": {
            "application/vnd.google.colaboratory.intrinsic": {
              "type": "string"
            },
            "text/plain": [
              "'2.2.0'"
            ]
          },
          "metadata": {
            "tags": []
          },
          "execution_count": 7
        }
      ]
    },
    {
      "cell_type": "code",
      "metadata": {
        "id": "PZHKfLmu_Lkp",
        "colab_type": "code",
        "colab": {}
      },
      "source": [
        "train = 'train'\n",
        "test = 'test'"
      ],
      "execution_count": 8,
      "outputs": []
    },
    {
      "cell_type": "code",
      "metadata": {
        "id": "qrEd0_DH8RYo",
        "colab_type": "code",
        "colab": {}
      },
      "source": [
        "# 导入数据集 AGNews，通过我的github仓库\n",
        "agnews = 'ag_news_csv'\n",
        "files = ['train.csv', 'test.csv', 'classes.txt'] \n",
        "url = \"https://raw.githubusercontent.com/buzhangjiuzhou/CharCnn_Keras/master/data/ag_news_csv/\"\n",
        "os.makedirs(agnews)\n",
        "for file in files:\n",
        "  save_path = os.path.join(agnews, file)\n",
        "  response = urllib.request.urlopen(url + file)\n",
        "  html = response.read()\n",
        "  with open(save_path, 'wb') as fp:\n",
        "    fp.write(html)"
      ],
      "execution_count": 9,
      "outputs": []
    },
    {
      "cell_type": "code",
      "metadata": {
        "id": "M0u0X3_WAU9g",
        "colab_type": "code",
        "colab": {}
      },
      "source": [
        "# 加载数据集\n",
        "train_dataset = pd.read_csv(agnews + '/train.csv',header=None)\n",
        "test_dataset = pd.read_csv(agnews + '/test.csv',header=None)\n",
        "f = open(agnews + '/classes.txt')\n",
        "classes = f.readlines()"
      ],
      "execution_count": 20,
      "outputs": []
    },
    {
      "cell_type": "code",
      "metadata": {
        "id": "WyQ60l5QA26i",
        "colab_type": "code",
        "colab": {}
      },
      "source": [
        "# 去掉最后的换行。\n",
        "classes[test_dataset.values[0][0]]\n",
        "for i in  range(len(classes)):\n",
        "  classes[i] = classes[i].strip()\n",
        "classes[test_dataset.values[0][0]]"
      ],
      "execution_count": 33,
      "outputs": []
    },
    {
      "cell_type": "code",
      "metadata": {
        "id": "KP-CtsCsJ8hc",
        "colab_type": "code",
        "colab": {}
      },
      "source": [
        "# 处理数据\n",
        "train_x = train_dataset[1]\n",
        "train_y = train_dataset[0]\n",
        "test_x = test_dataset[1]\n",
        "test_y = test_dataset[0]"
      ],
      "execution_count": 39,
      "outputs": []
    },
    {
      "cell_type": "code",
      "metadata": {
        "id": "GtNedWhSLCOn",
        "colab_type": "code",
        "colab": {
          "base_uri": "https://localhost:8080/",
          "height": 53
        },
        "outputId": "a18fe21e-7fe3-475a-97c0-c39e47cd5d79"
      },
      "source": [
        "print(train_x[0])\n",
        "# 这里注意类别名是1，2，3，4而classes是0，1，2，3\n",
        "print(classes[train_y[0]-1])"
      ],
      "execution_count": 46,
      "outputs": [
        {
          "output_type": "stream",
          "text": [
            "Wall St. Bears Claw Back Into the Black (Reuters)\n",
            "Business\n"
          ],
          "name": "stdout"
        }
      ]
    },
    {
      "cell_type": "code",
      "metadata": {
        "id": "a3B_8dJgL38n",
        "colab_type": "code",
        "colab": {}
      },
      "source": [
        ""
      ],
      "execution_count": null,
      "outputs": []
    }
  ]
}